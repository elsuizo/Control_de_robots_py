{
 "metadata": {
  "name": "tp1"
 },
 "nbformat": 3,
 "nbformat_minor": 0,
 "worksheets": [
  {
   "cells": [
    {
     "cell_type": "markdown",
     "metadata": {},
     "source": [
      "#Mart\u00edn Nobl\u00eda\n",
      "\n",
      "#Tp1\n",
      "\n",
      "#Control de Robots 2013\n",
      "\n",
      "#Ejercicio 1\n",
      "\n",
      "#### Un vector $^{A}P$ es rotado alrededor de $Z_A$ un \u00e1ngulo $\\theta$ y luego rotado alrededor de $X_A$ un \u00e1ngulo $\\phi$. Escribir la matriz rotaci\u00f3n que describe las rotaciones anteriores en el orden en que se dieron."
     ]
    },
    {
     "cell_type": "code",
     "collapsed": false,
     "input": [
      "from sympy import *\n",
      "\n",
      "from IPython.core.display import Image \n"
     ],
     "language": "python",
     "metadata": {},
     "outputs": [],
     "prompt_number": 12
    },
    {
     "cell_type": "code",
     "collapsed": false,
     "input": [
      "#Con esto las salidas van a ser en LaTeX\n",
      "init_printing()"
     ],
     "language": "python",
     "metadata": {},
     "outputs": [],
     "prompt_number": 2
    },
    {
     "cell_type": "code",
     "collapsed": false,
     "input": [
      "Image(filename='dibujo_tp1_ej1.jpg')"
     ],
     "language": "python",
     "metadata": {},
     "outputs": [
      {
       "jpeg": "[encoded data removed]",
       "output_type": "pyout",
       "prompt_number": 4,
       "text": [
        "<IPython.core.display.Image object at 0xbd7da8c>"
       ]
      }
     ],
     "prompt_number": 4
    },
    {
     "cell_type": "markdown",
     "metadata": {},
     "source": [
      "En este caso el vector rota sobre los ejes del sistema de referencia fijo {A} por ello la rotaci\u00f3n total es la composici\u00f3n de las rotaciones sobre el eje $\\hat{Z}_A$ y $\\hat{X}_A$, esta composici\u00f3n se calcula como sabemos multiplicando las matrices de cada transformaci\u00f3n, osea:\n",
      "\n",
      "$$R(\\theta,\\phi) = R_X(\\phi) R_Z(\\theta)$$"
     ]
    },
    {
     "cell_type": "code",
     "collapsed": false,
     "input": [
      "#Funcion simb\u00f3lica para una rotaci\u00f3n sobre el eje X\n",
      "def Rot_X(angle):\n",
      "    rad = angle*pi/180\n",
      "    M = Matrix([[1,0,0],[ 0,cos(rad),-sin(rad)],[0,sin(rad), cos(rad)]])\n",
      "    return M\n",
      "\n",
      "#Funcion simb\u00f3lica para una rotaci\u00f3n sobre el eje Y\n",
      "def Rot_Y(angle):\n",
      "    rad = angle*pi/180\n",
      "    M = Matrix([[cos(rad),0,sin(rad)],[ 0,1,0],[-sin(rad), 0,cos(rad)]])\n",
      "    return M\n",
      "\n",
      "#Funcion simb\u00f3lica para una rotaci\u00f3n sobre el eje Z\n",
      "def Rot_Z(angle):\n",
      "    rad = angle*pi/180\n",
      "    M = Matrix([[cos(rad),- sin(rad),0],[ sin(rad), cos(rad), 0],[0,0,1]])\n",
      "    return M\n",
      "\n",
      "#Funci\u00f3n para la rotaci\u00f3n de \u00e1ngulos fijos XZ\n",
      "\n",
      "def Rot_XZ(a,b):\n",
      "    \n",
      "    M = Rot_X(b) * Rot_Z(a)\n",
      "    \n",
      "    return M"
     ],
     "language": "python",
     "metadata": {},
     "outputs": [],
     "prompt_number": 5
    },
    {
     "cell_type": "code",
     "collapsed": false,
     "input": [
      "#estos son simbolos especiales que los toma como letras griegas directamente(muuy groso)\n",
      "alpha, beta , gamma, phi, theta =symbols('alpha beta gamma phi theta')"
     ],
     "language": "python",
     "metadata": {},
     "outputs": [],
     "prompt_number": 7
    },
    {
     "cell_type": "code",
     "collapsed": false,
     "input": [
      "#Matriz de rotaci\u00f3n simb\u00f3lica\n",
      "T_XZ = Rot_XZ(theta,phi)\n",
      "T_XZ"
     ],
     "language": "python",
     "metadata": {},
     "outputs": [
      {
       "latex": [
        "$$\\left[\\begin{smallmatrix}\\cos{\\left (\\frac{1}{180} \\pi \\theta \\right )} & - \\sin{\\left (\\frac{1}{180} \\pi \\theta \\right )} & 0\\\\\\sin{\\left (\\frac{1}{180} \\pi \\theta \\right )} \\cos{\\left (\\frac{1}{180} \\pi \\phi \\right )} & \\cos{\\left (\\frac{1}{180} \\pi \\phi \\right )} \\cos{\\left (\\frac{1}{180} \\pi \\theta \\right )} & - \\sin{\\left (\\frac{1}{180} \\pi \\phi \\right )}\\\\\\sin{\\left (\\frac{1}{180} \\pi \\phi \\right )} \\sin{\\left (\\frac{1}{180} \\pi \\theta \\right )} & \\sin{\\left (\\frac{1}{180} \\pi \\phi \\right )} \\cos{\\left (\\frac{1}{180} \\pi \\theta \\right )} & \\cos{\\left (\\frac{1}{180} \\pi \\phi \\right )}\\end{smallmatrix}\\right]$$"
       ],
       "output_type": "pyout",
       "prompt_number": 9,
       "text": [
        "\u23a1       \u239b\u03c0\u22c5\u03b8\u239e               \u239b\u03c0\u22c5\u03b8\u239e               \u23a4\n",
        "\u23a2    cos\u239c\u2500\u2500\u2500\u239f           -sin\u239c\u2500\u2500\u2500\u239f          0    \u23a5\n",
        "\u23a2       \u239d180\u23a0               \u239d180\u23a0               \u23a5\n",
        "\u23a2                                               \u23a5\n",
        "\u23a2   \u239b\u03c0\u22c5\u03b8\u239e    \u239b\u03c0\u22c5\u03c6\u239e     \u239b\u03c0\u22c5\u03c6\u239e    \u239b\u03c0\u22c5\u03b8\u239e      \u239b\u03c0\u22c5\u03c6\u239e\u23a5\n",
        "\u23a2sin\u239c\u2500\u2500\u2500\u239f\u22c5cos\u239c\u2500\u2500\u2500\u239f  cos\u239c\u2500\u2500\u2500\u239f\u22c5cos\u239c\u2500\u2500\u2500\u239f  -sin\u239c\u2500\u2500\u2500\u239f\u23a5\n",
        "\u23a2   \u239d180\u23a0    \u239d180\u23a0     \u239d180\u23a0    \u239d180\u23a0      \u239d180\u23a0\u23a5\n",
        "\u23a2                                               \u23a5\n",
        "\u23a2   \u239b\u03c0\u22c5\u03c6\u239e    \u239b\u03c0\u22c5\u03b8\u239e     \u239b\u03c0\u22c5\u03c6\u239e    \u239b\u03c0\u22c5\u03b8\u239e     \u239b\u03c0\u22c5\u03c6\u239e \u23a5\n",
        "\u23a2sin\u239c\u2500\u2500\u2500\u239f\u22c5sin\u239c\u2500\u2500\u2500\u239f  sin\u239c\u2500\u2500\u2500\u239f\u22c5cos\u239c\u2500\u2500\u2500\u239f  cos\u239c\u2500\u2500\u2500\u239f \u23a5\n",
        "\u23a3   \u239d180\u23a0    \u239d180\u23a0     \u239d180\u23a0    \u239d180\u23a0     \u239d180\u23a0 \u23a6"
       ]
      }
     ],
     "prompt_number": 9
    },
    {
     "cell_type": "code",
     "collapsed": false,
     "input": [
      "#probemos con un ejemplo \n",
      "P = Matrix([[1],[0],[0]])\n",
      "P"
     ],
     "language": "python",
     "metadata": {},
     "outputs": [
      {
       "latex": [
        "$$\\left[\\begin{smallmatrix}1\\\\0\\\\0\\end{smallmatrix}\\right]$$"
       ],
       "output_type": "pyout",
       "prompt_number": 14,
       "text": [
        "\u23a11\u23a4\n",
        "\u23a2 \u23a5\n",
        "\u23a20\u23a5\n",
        "\u23a2 \u23a5\n",
        "\u23a30\u23a6"
       ]
      }
     ],
     "prompt_number": 14
    },
    {
     "cell_type": "code",
     "collapsed": false,
     "input": [
      "#lo vamos a girar $\\theta$ = 90 y $phi$=90 (Tiene que dar Z)\n",
      "P_new = T_XZ.subs([(theta,90),(phi,90)]) * P\n",
      "P_new"
     ],
     "language": "python",
     "metadata": {},
     "outputs": [
      {
       "latex": [
        "$$\\left[\\begin{smallmatrix}0\\\\0\\\\1\\end{smallmatrix}\\right]$$"
       ],
       "output_type": "pyout",
       "prompt_number": 15,
       "text": [
        "\u23a10\u23a4\n",
        "\u23a2 \u23a5\n",
        "\u23a20\u23a5\n",
        "\u23a2 \u23a5\n",
        "\u23a31\u23a6"
       ]
      }
     ],
     "prompt_number": 15
    },
    {
     "cell_type": "markdown",
     "metadata": {},
     "source": [
      "# Ejercicio 2\n",
      "\n",
      "Un vector $^{A}P$ es rotado alrededor de $\\hat{Y}_A$ un \u00e1ngulo de 30\u00b0 y luego rotado alrededor de $\\hat{X}_A$\n",
      "un \u00e1ngulo de 45\u00b0. Escribir la matriz rotaci\u00f3n que describe las rotaciones anteriores en el\n",
      "orden en que se dieron."
     ]
    },
    {
     "cell_type": "code",
     "collapsed": false,
     "input": [
      "\n"
     ],
     "language": "python",
     "metadata": {},
     "outputs": []
    }
   ],
   "metadata": {}
  }
 ]
}