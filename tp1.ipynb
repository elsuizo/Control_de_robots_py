{
 "metadata": {
  "name": ""
 },
 "nbformat": 3,
 "nbformat_minor": 0,
 "worksheets": [
  {
   "cells": [
    {
     "cell_type": "markdown",
     "metadata": {},
     "source": [
      "#Mart\u00edn Nobl\u00eda\n",
      "\n",
      "##Tp1\n",
      "\n",
      "\n",
      "##Control de Robots 2013\n",
      "\n",
      "Licencia: ![](http://i.creativecommons.org/l/by-sa/2.5/ar/88x31.png)\n",
      "\n",
      "\n",
      "##Ejercicio 1\n",
      "\n",
      "#### Un vector $^{A}P$ es rotado alrededor de $Z_A$ un \u00e1ngulo $\\theta$ y luego rotado alrededor de $X_A$ un \u00e1ngulo $\\phi$. Escribir la matriz rotaci\u00f3n que describe las rotaciones anteriores en el orden en que se dieron."
     ]
    },
    {
     "cell_type": "code",
     "collapsed": false,
     "input": [
      "from sympy import *\n",
      "\n",
      "from IPython.core.display import Image \n"
     ],
     "language": "python",
     "metadata": {},
     "outputs": [],
     "prompt_number": 1
    },
    {
     "cell_type": "code",
     "collapsed": false,
     "input": [
      "#Con esto las salidas van a ser en LaTeX\n",
      "init_printing(use_latex=True)"
     ],
     "language": "python",
     "metadata": {},
     "outputs": [],
     "prompt_number": 2
    },
    {
     "cell_type": "code",
     "collapsed": false,
     "input": [
      "Image(filename='dibujo_tp1_ej1.jpg')"
     ],
     "language": "python",
     "metadata": {},
     "outputs": [
      {
       "jpeg": "[encoded data removed]",
       "metadata": {},
       "output_type": "pyout",
       "prompt_number": 3,
       "text": [
        "<IPython.core.display.Image object at 0xb6c20ec>"
       ]
      }
     ],
     "prompt_number": 3
    },
    {
     "cell_type": "markdown",
     "metadata": {},
     "source": [
      "En este caso el vector rota sobre los ejes del sistema de referencia fijo {A} por ello la rotaci\u00f3n total es la composici\u00f3n de las rotaciones sobre el eje $\\hat{Z}_A$ y $\\hat{X}_A$, esta composici\u00f3n se calcula como sabemos multiplicando las matrices de cada transformaci\u00f3n, osea:\n",
      "\n",
      "\\begin{equation}\n",
      "R(\\theta,\\phi) = R_X(\\phi) R_Z(\\theta)\n",
      "\\end{equation}\n"
     ]
    },
    {
     "cell_type": "code",
     "collapsed": false,
     "input": [
      "#Funcion simb\u00f3lica para una rotaci\u00f3n sobre el eje X\n",
      "def Rot_X(angle):\n",
      "    rad = angle*pi/180\n",
      "    M = Matrix([[1,0,0],[ 0,cos(rad),-sin(rad)],[0,sin(rad), cos(rad)]])\n",
      "    return M\n",
      "\n",
      "#Funcion simb\u00f3lica para una rotaci\u00f3n sobre el eje Y\n",
      "def Rot_Y(angle):\n",
      "    rad = angle*pi/180\n",
      "    M = Matrix([[cos(rad),0,sin(rad)],[ 0,1,0],[-sin(rad), 0,cos(rad)]])\n",
      "    return M\n",
      "\n",
      "#Funcion simb\u00f3lica para una rotaci\u00f3n sobre el eje Z\n",
      "def Rot_Z(angle):\n",
      "    rad = angle*pi/180\n",
      "    M = Matrix([[cos(rad),- sin(rad),0],[ sin(rad), cos(rad), 0],[0,0,1]])\n",
      "    return M\n",
      "\n",
      "#Funci\u00f3n para la rotaci\u00f3n de \u00e1ngulos fijos XZ\n",
      "\n",
      "def Rot_XZ(a,b):\n",
      "    \n",
      "    M = Rot_X(b) * Rot_Z(a)\n",
      "    \n",
      "    return M"
     ],
     "language": "python",
     "metadata": {},
     "outputs": [],
     "prompt_number": 4
    },
    {
     "cell_type": "code",
     "collapsed": false,
     "input": [
      "#estos son simbolos especiales que los toma como letras griegas directamente(muuy groso)\n",
      "alpha, beta , gamma, phi, theta =symbols('alpha beta gamma phi theta')"
     ],
     "language": "python",
     "metadata": {},
     "outputs": [],
     "prompt_number": 5
    },
    {
     "cell_type": "code",
     "collapsed": false,
     "input": [
      "#Matriz de rotaci\u00f3n simb\u00f3lica\n",
      "T_XZ = Rot_XZ(theta,phi)\n",
      "T_XZ"
     ],
     "language": "python",
     "metadata": {},
     "outputs": [
      {
       "latex": [
        "$$\\left[\\begin{smallmatrix}\\cos{\\left (\\frac{1}{180} \\pi \\theta \\right )} & - \\sin{\\left (\\frac{1}{180} \\pi \\theta \\right )} & 0\\\\\\sin{\\left (\\frac{1}{180} \\pi \\theta \\right )} \\cos{\\left (\\frac{1}{180} \\pi \\phi \\right )} & \\cos{\\left (\\frac{1}{180} \\pi \\phi \\right )} \\cos{\\left (\\frac{1}{180} \\pi \\theta \\right )} & - \\sin{\\left (\\frac{1}{180} \\pi \\phi \\right )}\\\\\\sin{\\left (\\frac{1}{180} \\pi \\phi \\right )} \\sin{\\left (\\frac{1}{180} \\pi \\theta \\right )} & \\sin{\\left (\\frac{1}{180} \\pi \\phi \\right )} \\cos{\\left (\\frac{1}{180} \\pi \\theta \\right )} & \\cos{\\left (\\frac{1}{180} \\pi \\phi \\right )}\\end{smallmatrix}\\right]$$"
       ],
       "metadata": {},
       "output_type": "pyout",
       "png": "[encoded data removed]",
       "prompt_number": 6,
       "text": [
        "\u23a1       \u239b\u03c0\u22c5\u03b8\u239e               \u239b\u03c0\u22c5\u03b8\u239e               \u23a4\n",
        "\u23a2    cos\u239c\u2500\u2500\u2500\u239f           -sin\u239c\u2500\u2500\u2500\u239f          0    \u23a5\n",
        "\u23a2       \u239d180\u23a0               \u239d180\u23a0               \u23a5\n",
        "\u23a2                                               \u23a5\n",
        "\u23a2   \u239b\u03c0\u22c5\u03b8\u239e    \u239b\u03c0\u22c5\u03c6\u239e     \u239b\u03c0\u22c5\u03c6\u239e    \u239b\u03c0\u22c5\u03b8\u239e      \u239b\u03c0\u22c5\u03c6\u239e\u23a5\n",
        "\u23a2sin\u239c\u2500\u2500\u2500\u239f\u22c5cos\u239c\u2500\u2500\u2500\u239f  cos\u239c\u2500\u2500\u2500\u239f\u22c5cos\u239c\u2500\u2500\u2500\u239f  -sin\u239c\u2500\u2500\u2500\u239f\u23a5\n",
        "\u23a2   \u239d180\u23a0    \u239d180\u23a0     \u239d180\u23a0    \u239d180\u23a0      \u239d180\u23a0\u23a5\n",
        "\u23a2                                               \u23a5\n",
        "\u23a2   \u239b\u03c0\u22c5\u03c6\u239e    \u239b\u03c0\u22c5\u03b8\u239e     \u239b\u03c0\u22c5\u03c6\u239e    \u239b\u03c0\u22c5\u03b8\u239e     \u239b\u03c0\u22c5\u03c6\u239e \u23a5\n",
        "\u23a2sin\u239c\u2500\u2500\u2500\u239f\u22c5sin\u239c\u2500\u2500\u2500\u239f  sin\u239c\u2500\u2500\u2500\u239f\u22c5cos\u239c\u2500\u2500\u2500\u239f  cos\u239c\u2500\u2500\u2500\u239f \u23a5\n",
        "\u23a3   \u239d180\u23a0    \u239d180\u23a0     \u239d180\u23a0    \u239d180\u23a0     \u239d180\u23a0 \u23a6"
       ]
      }
     ],
     "prompt_number": 6
    },
    {
     "cell_type": "code",
     "collapsed": false,
     "input": [
      "#probemos con un ejemplo \n",
      "P = Matrix([[1],[0],[0]])\n",
      "P"
     ],
     "language": "python",
     "metadata": {},
     "outputs": [
      {
       "latex": [
        "$$\\left[\\begin{smallmatrix}1\\\\0\\\\0\\end{smallmatrix}\\right]$$"
       ],
       "metadata": {},
       "output_type": "pyout",
       "png": "[encoded data removed]",
       "prompt_number": 7,
       "text": [
        "\u23a11\u23a4\n",
        "\u23a2 \u23a5\n",
        "\u23a20\u23a5\n",
        "\u23a2 \u23a5\n",
        "\u23a30\u23a6"
       ]
      }
     ],
     "prompt_number": 7
    },
    {
     "cell_type": "code",
     "collapsed": false,
     "input": [
      "#lo vamos a girar $\\theta$ = 90 y $phi$=90 (Tiene que dar Z)\n",
      "P_new = T_XZ.subs([(theta,90),(phi,90)]) * P\n",
      "P_new"
     ],
     "language": "python",
     "metadata": {},
     "outputs": [
      {
       "latex": [
        "$$\\left[\\begin{smallmatrix}0\\\\0\\\\1\\end{smallmatrix}\\right]$$"
       ],
       "metadata": {},
       "output_type": "pyout",
       "png": "[encoded data removed]",
       "prompt_number": 8,
       "text": [
        "\u23a10\u23a4\n",
        "\u23a2 \u23a5\n",
        "\u23a20\u23a5\n",
        "\u23a2 \u23a5\n",
        "\u23a31\u23a6"
       ]
      }
     ],
     "prompt_number": 8
    },
    {
     "cell_type": "markdown",
     "metadata": {},
     "source": [
      "## Ejercicio 2\n",
      "\n",
      "Un vector $^{A}P$ es rotado alrededor de $\\hat{Y}_A$ un \u00e1ngulo de 30\u00b0 y luego rotado alrededor de $\\hat{X}_A$\n",
      "un \u00e1ngulo de 45\u00b0. Escribir la matriz rotaci\u00f3n que describe las rotaciones anteriores en el\n",
      "orden en que se dieron."
     ]
    },
    {
     "cell_type": "markdown",
     "metadata": {},
     "source": [
      "En este caso la composici\u00f3n de rotaciones fijas quedan:\n",
      "\n",
      "$$R(\\theta,\\phi) = R_X(\\phi) R_Y(\\theta)$$\n"
     ]
    },
    {
     "cell_type": "code",
     "collapsed": false,
     "input": [
      "def Rot_XY(a,b):\n",
      "    M = Rot_X(b) * Rot_Y(a)\n",
      "    \n",
      "    return M"
     ],
     "language": "python",
     "metadata": {},
     "outputs": [],
     "prompt_number": 9
    },
    {
     "cell_type": "code",
     "collapsed": false,
     "input": [
      "T_XY = Rot_XY(theta,phi)"
     ],
     "language": "python",
     "metadata": {},
     "outputs": [],
     "prompt_number": 10
    },
    {
     "cell_type": "code",
     "collapsed": false,
     "input": [
      "T_XY.subs([(theta,30),(phi,45)])"
     ],
     "language": "python",
     "metadata": {},
     "outputs": [
      {
       "latex": [
        "$$\\left[\\begin{smallmatrix}\\frac{1}{2} \\sqrt{3} & 0 & \\frac{1}{2}\\\\\\frac{1}{4} \\sqrt{2} & \\frac{1}{2} \\sqrt{2} & - \\frac{1}{4} \\sqrt{6}\\\\- \\frac{1}{4} \\sqrt{2} & \\frac{1}{2} \\sqrt{2} & \\frac{1}{4} \\sqrt{6}\\end{smallmatrix}\\right]$$"
       ],
       "metadata": {},
       "output_type": "pyout",
       "png": "[encoded data removed]",
       "prompt_number": 11,
       "text": [
        "\u23a1  ___                \u23a4\n",
        "\u23a2\u2572\u2571 3                 \u23a5\n",
        "\u23a2\u2500\u2500\u2500\u2500\u2500     0     1/2  \u23a5\n",
        "\u23a2  2                  \u23a5\n",
        "\u23a2                     \u23a5\n",
        "\u23a2  ___     ___     ___\u23a5\n",
        "\u23a2\u2572\u2571 2    \u2572\u2571 2   -\u2572\u2571 6 \u23a5\n",
        "\u23a2\u2500\u2500\u2500\u2500\u2500   \u2500\u2500\u2500\u2500\u2500  \u2500\u2500\u2500\u2500\u2500\u2500\u23a5\n",
        "\u23a2  4       2      4   \u23a5\n",
        "\u23a2                     \u23a5\n",
        "\u23a2   ___    ___    ___ \u23a5\n",
        "\u23a2-\u2572\u2571 2   \u2572\u2571 2   \u2572\u2571 6  \u23a5\n",
        "\u23a2\u2500\u2500\u2500\u2500\u2500\u2500  \u2500\u2500\u2500\u2500\u2500  \u2500\u2500\u2500\u2500\u2500 \u23a5\n",
        "\u23a3  4       2      4   \u23a6"
       ]
      }
     ],
     "prompt_number": 11
    },
    {
     "cell_type": "markdown",
     "metadata": {},
     "source": [
      "##Ejercicio 3\n",
      "\n",
      "El sistema de referencia {B} se conforma de la siguiente manera: inicialmente coincide \n",
      "con {A}, luego lo rotamos alrededor de $\\hat{Z}_B$ un \u00e1ngulo $\\theta$ y luego, al resultado anterior, lo\n",
      "\n",
      "rotamos alrededor de $\\hat{X}_B$ un \u00e1ngulo $\\phi$. Escribir la matriz rotaci\u00f3n que describe el cambio de\n",
      "descripci\u00f3n desde el vector $^{B}P$  al  $^{A}P$.\n",
      "\n",
      "\n",
      "***\n",
      "\n"
     ]
    },
    {
     "cell_type": "markdown",
     "metadata": {},
     "source": [
      "De acuerdo al enunciado, estamos girando el sistema de referencia {A} con respecto al sistema {B}, osea que tenemos:\n",
      "\n",
      "\\begin{equation}\n",
      "^{B}_{A}R( \\phi, \\theta) = R_Z(\\theta) R_X(\\phi)\n",
      "\\end{equation}"
     ]
    },
    {
     "cell_type": "code",
     "collapsed": false,
     "input": [
      "def Rot_XZ(a,b):\n",
      "    \n",
      "    M = Rot_Z(b) * Rot_X(a)\n",
      "    \n",
      "    return M"
     ],
     "language": "python",
     "metadata": {},
     "outputs": [],
     "prompt_number": 12
    },
    {
     "cell_type": "code",
     "collapsed": false,
     "input": [
      "T_XZ = Rot_XZ(phi,theta)\n",
      "T_XZ"
     ],
     "language": "python",
     "metadata": {},
     "outputs": [
      {
       "latex": [
        "$$\\left[\\begin{smallmatrix}\\cos{\\left (\\frac{1}{180} \\pi \\theta \\right )} & - \\sin{\\left (\\frac{1}{180} \\pi \\theta \\right )} \\cos{\\left (\\frac{1}{180} \\pi \\phi \\right )} & \\sin{\\left (\\frac{1}{180} \\pi \\phi \\right )} \\sin{\\left (\\frac{1}{180} \\pi \\theta \\right )}\\\\\\sin{\\left (\\frac{1}{180} \\pi \\theta \\right )} & \\cos{\\left (\\frac{1}{180} \\pi \\phi \\right )} \\cos{\\left (\\frac{1}{180} \\pi \\theta \\right )} & - \\sin{\\left (\\frac{1}{180} \\pi \\phi \\right )} \\cos{\\left (\\frac{1}{180} \\pi \\theta \\right )}\\\\0 & \\sin{\\left (\\frac{1}{180} \\pi \\phi \\right )} & \\cos{\\left (\\frac{1}{180} \\pi \\phi \\right )}\\end{smallmatrix}\\right]$$"
       ],
       "metadata": {},
       "output_type": "pyout",
       "png": "[encoded data removed]",
       "prompt_number": 13,
       "text": [
        "\u23a1   \u239b\u03c0\u22c5\u03b8\u239e      \u239b\u03c0\u22c5\u03b8\u239e    \u239b\u03c0\u22c5\u03c6\u239e     \u239b\u03c0\u22c5\u03c6\u239e    \u239b\u03c0\u22c5\u03b8\u239e \u23a4\n",
        "\u23a2cos\u239c\u2500\u2500\u2500\u239f  -sin\u239c\u2500\u2500\u2500\u239f\u22c5cos\u239c\u2500\u2500\u2500\u239f  sin\u239c\u2500\u2500\u2500\u239f\u22c5sin\u239c\u2500\u2500\u2500\u239f \u23a5\n",
        "\u23a2   \u239d180\u23a0      \u239d180\u23a0    \u239d180\u23a0     \u239d180\u23a0    \u239d180\u23a0 \u23a5\n",
        "\u23a2                                                \u23a5\n",
        "\u23a2   \u239b\u03c0\u22c5\u03b8\u239e     \u239b\u03c0\u22c5\u03c6\u239e    \u239b\u03c0\u22c5\u03b8\u239e       \u239b\u03c0\u22c5\u03c6\u239e    \u239b\u03c0\u22c5\u03b8\u239e\u23a5\n",
        "\u23a2sin\u239c\u2500\u2500\u2500\u239f  cos\u239c\u2500\u2500\u2500\u239f\u22c5cos\u239c\u2500\u2500\u2500\u239f   -sin\u239c\u2500\u2500\u2500\u239f\u22c5cos\u239c\u2500\u2500\u2500\u239f\u23a5\n",
        "\u23a2   \u239d180\u23a0     \u239d180\u23a0    \u239d180\u23a0       \u239d180\u23a0    \u239d180\u23a0\u23a5\n",
        "\u23a2                                                \u23a5\n",
        "\u23a2                  \u239b\u03c0\u22c5\u03c6\u239e               \u239b\u03c0\u22c5\u03c6\u239e     \u23a5\n",
        "\u23a2   0           sin\u239c\u2500\u2500\u2500\u239f            cos\u239c\u2500\u2500\u2500\u239f     \u23a5\n",
        "\u23a3                  \u239d180\u23a0               \u239d180\u23a0     \u23a6"
       ]
      }
     ],
     "prompt_number": 13
    },
    {
     "cell_type": "markdown",
     "metadata": {},
     "source": [
      "## Ejercicio 4\n",
      "A partir de los siguientes sistemas de referencia, dibujar un diagrama que muestre cada\n",
      "una de las transformaciones. Luego hallar $^{B}_{C}T$ .\n",
      "\n",
      "$$^{U}_{A}T = \\begin{bmatrix}\n",
      "            0.866 & -0.500 & 0.000 & 11.0 \\\\\\\\\n",
      "            0.500 & 0.866 & 0.000  & -3.0 \\\\\\\\\n",
      "            0.000 & 0.000 & 1.000 & 8.0 \\\\\\\\\n",
      "            0 & 0 & 0 & 1    \n",
      "      \\end{bmatrix}$$\n",
      "\n",
      "\n",
      "$$^{B}_{A}T = \\begin{bmatrix}\n",
      "            1 & 0 & 0.000 & 0 \\\\\\\\\n",
      "            0.000 & 0.866 & -0.500  & 10.0 \\\\\\\\\n",
      "            0.000 & 0.500 & 0.866 & -20.0 \\\\\\\\\n",
      "            0 & 0 & 0 & 1    \n",
      "      \\end{bmatrix}$$\n",
      "\n",
      "\n",
      "$$^{C}_{U}T = \\begin{bmatrix}\n",
      "            0.866 & -0.500 & 0.000 & -3.0 \\\\\\\\\n",
      "            0.433 & 0.750 & -0.500  & -3.0 \\\\\\\\\n",
      "            0.250 & 0.430 & 0.866 & 3.0 \\\\\\\\\n",
      "            0 & 0 & 0 & 1    \n",
      "      \\end{bmatrix}$$\n",
      "***"
     ]
    },
    {
     "cell_type": "markdown",
     "metadata": {},
     "source": [
      "Esquem\u00e1ticamente tenemos:"
     ]
    },
    {
     "cell_type": "code",
     "collapsed": false,
     "input": [
      "Image(filename='dibujo_eje4.jpg')"
     ],
     "language": "python",
     "metadata": {},
     "outputs": [
      {
       "jpeg": "[encoded data removed]",
       "metadata": {},
       "output_type": "pyout",
       "prompt_number": 14,
       "text": [
        "<IPython.core.display.Image object at 0xb6daa2c>"
       ]
      }
     ],
     "prompt_number": 14
    },
    {
     "cell_type": "markdown",
     "metadata": {},
     "source": [
      "Queremos hallar $^{B}_{C}T$ por ello planteamos la siguiente igualdad:\n",
      "\\begin{aligned}\n",
      "^{C}_{U}T ^{U}_{A}T =  ((^{B}_{C}T)^{-1} )^{B}_{A}T \\\\\n",
      "((^{B}_{C}T)^{-1} ) = (^{C}_{U}T) (^{U}_{A}T) (^{B}_{A}T)^{-1}\\\\\n",
      "(^{B}_{C}T) = ((^{C}_{U}T) (^{U}_{A}T) (^{B}_{A}T)^{-1})^{-1}\\\\\n",
      "(^{B}_{C}T) = (^{B}_{A}T) ((^{U}_{A}T))^{-1} ((^{C}_{U}T))^{-1} \\\\\n",
      "(^{B}_{C}T) = (^{B}_{A}T) (^{A}_{U}T) (^{U}_{C}T) \\\\\n",
      "\\end{aligned}"
     ]
    },
    {
     "cell_type": "code",
     "collapsed": false,
     "input": [
      "%%latex\n",
      "\\begin{equation}\n",
      "^{C}_{U}T ^{U}_{A}T =  ((^{B}_{C}T)^{-1} )^{B}_{A}T \\\\\n",
      "((^{B}_{C}T)^{-1} ) = (^{C}_{U}T) (^{U}_{A}T) (^{B}_{A}T)^{-1}\\\\\n",
      "(^{B}_{C}T) = ((^{C}_{U}T) (^{U}_{A}T) (^{B}_{A}T)^{-1})^{-1}\\\\\n",
      "(^{B}_{C}T) = (^{B}_{A}T) ((^{U}_{A}T))^{-1} ((^{C}_{U}T))^{-1} \\\\\n",
      "(^{B}_{C}T) = (^{B}_{A}T) (^{A}_{U}T) (^{U}_{C}T) \\\\\n",
      "\\end{equation}"
     ],
     "language": "python",
     "metadata": {},
     "outputs": [
      {
       "latex": [
        "\\begin{equation}\n",
        "^{C}_{U}T ^{U}_{A}T =  ((^{B}_{C}T)^{-1} )^{B}_{A}T \\\\\n",
        "((^{B}_{C}T)^{-1} ) = (^{C}_{U}T) (^{U}_{A}T) (^{B}_{A}T)^{-1}\\\\\n",
        "(^{B}_{C}T) = ((^{C}_{U}T) (^{U}_{A}T) (^{B}_{A}T)^{-1})^{-1}\\\\\n",
        "(^{B}_{C}T) = (^{B}_{A}T) ((^{U}_{A}T))^{-1} ((^{C}_{U}T))^{-1} \\\\\n",
        "(^{B}_{C}T) = (^{B}_{A}T) (^{A}_{U}T) (^{U}_{C}T) \\\\\n",
        "\\end{equation}"
       ],
       "metadata": {},
       "output_type": "display_data",
       "text": [
        "<IPython.core.display.Latex object at 0xb6da84c>"
       ]
      }
     ],
     "prompt_number": 15
    },
    {
     "cell_type": "code",
     "collapsed": false,
     "input": [
      "#definimos las matrices \n",
      "T_UA = Matrix([[0.866,-0.500,0.000,11.0],[0.500,0.866,0.000,-3.0],[0,0,1,8.0],[0,0,0,1]])\n",
      "T_BA = Matrix([[1,0,0,0],[0,0.866,-0.500,10],[0,0.500,0.866,-20.0],[0,0,0,1]])\n",
      "T_CU = Matrix([[0.866,-0.500,0,-3],[0.433,0.750,0.500,-3.0],[0.250,0.430,0.866,3.0],[0,0,0,1]])"
     ],
     "language": "python",
     "metadata": {},
     "outputs": [],
     "prompt_number": 16
    },
    {
     "cell_type": "markdown",
     "metadata": {},
     "source": [
      "Se puede demostrar, que la inversa de una transformaci\u00f3n homog\u00e9nea puede ser calculada computacionalmente de la siguiente manera:\n",
      "\n",
      "$$^{B}_{A}T =  \\begin{bmatrix}\n",
      "                ^{A}_{B} R^{T}  & -(^{A}_{B} R^{T}) ( ^{A}P_{BORG})  \\\\\\\n",
      "                          \\vec{0}   &   1 \n",
      "                \\end{bmatrix}$$\n"
     ]
    },
    {
     "cell_type": "code",
     "collapsed": false,
     "input": [
      "#Definimos una funcion para generar la inversa de una transformacion homogenea\n",
      "def inverse_T_h(T_h):\n",
      "    #extraemos la rotacion y traslacion\n",
      "    M = zeros((4,4))\n",
      "    R = T_h[0:3,0:3]\n",
      "    P = T_h[0:-1,-1]\n",
      "    \n",
      "    R_inv = R.T\n",
      "    \n",
      "    P_new = -R_inv * P\n",
      "    \n",
      "    M[0:3,0:3] = R_inv\n",
      "    M[0:-1,-1] = P_new\n",
      "    M[-1,:]=Matrix([[0,0,0,1]])\n",
      "    return M\n",
      "    "
     ],
     "language": "python",
     "metadata": {},
     "outputs": [],
     "prompt_number": 17
    },
    {
     "cell_type": "code",
     "collapsed": false,
     "input": [
      "#verificamos \n",
      "inverse_T_h(T_UA)-T_UA.inv()"
     ],
     "language": "python",
     "metadata": {},
     "outputs": [
      {
       "latex": [
        "$$\\left[\\begin{smallmatrix}-3.81056766497467 \\times 10^{-5} & -2.20009680426125 \\times 10^{-5} & 0 & 0.000353159539020709\\\\2.20009680426125 \\times 10^{-5} & -3.81056766498578 \\times 10^{-5} & 0 & -0.000356327678419532\\\\0 & 0 & 0 & 0\\\\0 & 0 & 0 & 0\\end{smallmatrix}\\right]$$"
       ],
       "metadata": {},
       "output_type": "pyout",
       "png": "[encoded data removed]",
       "prompt_number": 18,
       "text": [
        "\u23a1-3.81056766497467e-5  -2.20009680426125e-5  0  0.000353159539020709 \u23a4\n",
        "\u23a2                                                                    \u23a5\n",
        "\u23a22.20009680426125e-5   -3.81056766498578e-5  0  -0.000356327678419532\u23a5\n",
        "\u23a2                                                                    \u23a5\n",
        "\u23a2         0                     0            0            0          \u23a5\n",
        "\u23a2                                                                    \u23a5\n",
        "\u23a3         0                     0            0            0          \u23a6"
       ]
      }
     ],
     "prompt_number": 18
    },
    {
     "cell_type": "code",
     "collapsed": false,
     "input": [
      "%%timeit\n",
      "#tomamos el tiempo de procesamiento \n",
      "inverse_T_h(T_UA)"
     ],
     "language": "python",
     "metadata": {},
     "outputs": [
      {
       "output_type": "stream",
       "stream": "stdout",
       "text": [
        "1000 loops, best of 3: 1.08 ms per loop\n"
       ]
      }
     ],
     "prompt_number": 19
    },
    {
     "cell_type": "code",
     "collapsed": false,
     "input": [
      "%%timeit\n",
      "#tomamos el tiempo de procesamiento del metodo tradicional\n",
      "T_UA.inv()"
     ],
     "language": "python",
     "metadata": {},
     "outputs": [
      {
       "output_type": "stream",
       "stream": "stdout",
       "text": [
        "100 loops, best of 3: 5.55 ms per loop\n"
       ]
      }
     ],
     "prompt_number": 20
    },
    {
     "cell_type": "code",
     "collapsed": false,
     "input": [
      "T_BC = T_BA * inverse_T_h(T_UA) * inverse_T_h(T_CU)\n",
      "T_BC"
     ],
     "language": "python",
     "metadata": {},
     "outputs": [
      {
       "latex": [
        "$$\\left[\\begin{smallmatrix}0.499956 & 0.749978 & 0.4315 & -5.570698\\\\-0.749956 & 0.124978 & -0.21876892 & 19.79424076\\\\-0.433 & 0.6495 & 0.873646 & -24.850438\\\\0 & 0 & 0 & 1\\end{smallmatrix}\\right]$$"
       ],
       "metadata": {},
       "output_type": "pyout",
       "png": "[encoded data removed]",
       "prompt_number": 21,
       "text": [
        "\u23a10.499956   0.749978    0.4315      -5.570698 \u23a4\n",
        "\u23a2                                             \u23a5\n",
        "\u23a2-0.749956  0.124978  -0.21876892  19.79424076\u23a5\n",
        "\u23a2                                             \u23a5\n",
        "\u23a2 -0.433     0.6495    0.873646    -24.850438 \u23a5\n",
        "\u23a2                                             \u23a5\n",
        "\u23a3    0         0           0            1     \u23a6"
       ]
      }
     ],
     "prompt_number": 21
    },
    {
     "cell_type": "markdown",
     "metadata": {},
     "source": [
      "#Ejercicio 5\n",
      "\n",
      "A partir de la siguiente figura hallar:\n",
      "\n",
      "$$^{A}_{B}T$$\n",
      "\n",
      "$$^{A}_{C}T$$\n",
      "\n",
      "$$^{B}_{C}T$$\n",
      "\n",
      "$$^{C}_{A}T$$\n",
      "***\n"
     ]
    },
    {
     "cell_type": "code",
     "collapsed": false,
     "input": [
      "Image(filename='dibujo_tp1_eje5.jpg')"
     ],
     "language": "python",
     "metadata": {},
     "outputs": [
      {
       "jpeg": "[encoded data removed]",
       "metadata": {},
       "output_type": "pyout",
       "prompt_number": 22,
       "text": [
        "<IPython.core.display.Image object at 0xb6d7f8c>"
       ]
      }
     ],
     "prompt_number": 22
    },
    {
     "cell_type": "markdown",
     "metadata": {},
     "source": [
      "$^{A}_{B}T = R_{\\hat{Z}_A}(180\u00ba)D_{\\vec{q}}([3,0,0])$\n",
      "\n",
      "$^{A}_{C}T = R_{\\hat{Z}_A}(60\u00ba)R_{\\hat{Y}_A}(90\u00ba) D_{\\vec{q}}([3,0,2])$\n",
      "\n",
      "$^{B}_{C}T = R_{\\hat{Z}_B}(150\u00ba)R_{\\hat{Y}_B}(90\u00ba) D_{\\vec{q}}([0,0,2])$\n",
      "\n",
      "$(^{C}_{A}T) = (^{A}_{C}T )^{-1} = (^{A}_{C}T )^{T} $"
     ]
    },
    {
     "cell_type": "markdown",
     "metadata": {},
     "source": [
      "#Ejercicio 6\n",
      "\n",
      "**a**) Utilizando la convenci\u00f3n de \u00e1ngulos de Euler $Z-Y-X$ ($\\alpha - \\beta - \\gamma$), escriba un programa para calcular la matriz de rotaci\u00f3n $^{A}_{B}R$ cuando el usuario introduzca los \u00e1ngulos de Euler($\\alpha - \\beta - \\gamma$). Haga la prueba en dos ejemplos:\n",
      "\n",
      "**i**) $\\alpha = 10\u00ba$ , $\\beta = 20\u00ba$, $\\gamma = 30\u00ba$\n",
      "\n",
      "**ii**) $\\alpha = 30\u00ba$ , $\\beta = 90\u00ba$, $\\gamma = -55\u00ba$\n",
      "\n",
      "Para el caso **i**) demueste las seis restricciones para matrices de rotaci\u00f3n ortonormales unitarias(hay nueve n\u00fameros en una matriz de 3x3, pero solo tres son independientes). Adem\u00e1s demuestre la hermosa propiedad, $^{B}_{A}R = (^{A}_{B}R)^{-1}  = (^{A}_{B}R)^{T}$\n",
      "\n",
      "**b**) Escriba un programa para calcular los \u00e1ngulos ($\\alpha - \\beta - \\gamma$) de Euler cuando el usuario introduzca la matriz de rotaci\u00f3n $^{A}_{B}R$(el problema inverso). Calcule las dos soluciones posibles. Demuestre esta soluci\u00f3n inversa para los dos casos de la parte **a**). Use una comprobaci\u00f3n circular para verificar sus resultados(es decir, introduzca los \u00e1ngulos de Euler en el c\u00f3digo de la parte **a**); tome la matriz de rotaci\u00f3n $^{A}_{B}R$ resultante y utilicela como entrada para el c\u00f3digo **b**); obtendr\u00e1 dos conjuntos de respuestas; una debe ser la entrada original del usuario y la otra puede verificarse una vez m\u00e1s utilizando el c\u00f3digo de la parte **a**) ).\n",
      "\n",
      "**c**) Para una rotaci\u00f3n simple de $\\beta$ sobre el eje $Y$ solamente, para $\\beta=20\u00ba$ y $^{B}P=[1,0,1]^{T}$ calcule $^{A}P$; demuestre que sus resultados son correctos\n",
      "\n",
      "**d**) Compruebe los resultados con el toolbox de Corke\n",
      "***"
     ]
    },
    {
     "cell_type": "markdown",
     "metadata": {},
     "source": [
      "##\u00c1ngulos de Euler\n",
      "\n",
      " \n",
      "\n",
      "Otra posible descripci\u00f3n de una trama {B} puede ser:\n",
      "\n",
      " \n",
      "\n",
      "Comience con la trama que sea coincidente con una trama {A} conocida. Gire {B}  primero sobre $\\hat{Z}_B$ usando un \u00e1ngulo $\\alpha$, despu\u00e9s sobre $\\hat{Y}_B$, usando un \u00e1ngulo $\\beta$, y finalmente sobre $\\hat{X}_B$ usando un \u00e1ngulo $\\gamma$\n",
      "\n",
      " \n",
      "\n",
      "Asi la transformacion queda:\n",
      "\n",
      " \n",
      "\n",
      " \n",
      "\n",
      "$$^{A}_{B}R (\\alpha,\\beta,\\gamma) = R_Z(\\alpha) R_Y(\\beta) R_X(\\gamma)$$\n",
      "\n",
      " \n",
      "Por ello definimos la funci\u00f3n como:"
     ]
    },
    {
     "cell_type": "code",
     "collapsed": false,
     "input": [
      "#definimos la funci\u00f3n de rotaci\u00f3n de Euler\n",
      "def Rot_Euler_ZYX(a,b,c):\n",
      "    M = Rot_Z(a) * Rot_Y(b) * Rot_X(c)\n",
      "    \n",
      "    return M"
     ],
     "language": "python",
     "metadata": {},
     "outputs": [],
     "prompt_number": 23
    },
    {
     "cell_type": "code",
     "collapsed": false,
     "input": [
      "T_ZYX = Rot_Euler_ZYX(alpha,beta, gamma)\n",
      "T_ZYX"
     ],
     "language": "python",
     "metadata": {},
     "outputs": [
      {
       "latex": [
        "$$\\left[\\begin{smallmatrix}\\cos{\\left (\\frac{1}{180} \\pi \\alpha \\right )} \\cos{\\left (\\frac{1}{180} \\pi \\beta \\right )} & - \\sin{\\left (\\frac{1}{180} \\pi \\alpha \\right )} \\cos{\\left (\\frac{1}{180} \\pi \\gamma \\right )} + \\sin{\\left (\\frac{1}{180} \\pi \\beta \\right )} \\sin{\\left (\\frac{1}{180} \\pi \\gamma \\right )} \\cos{\\left (\\frac{1}{180} \\pi \\alpha \\right )} & \\sin{\\left (\\frac{1}{180} \\pi \\alpha \\right )} \\sin{\\left (\\frac{1}{180} \\pi \\gamma \\right )} + \\sin{\\left (\\frac{1}{180} \\pi \\beta \\right )} \\cos{\\left (\\frac{1}{180} \\pi \\alpha \\right )} \\cos{\\left (\\frac{1}{180} \\pi \\gamma \\right )}\\\\\\sin{\\left (\\frac{1}{180} \\pi \\alpha \\right )} \\cos{\\left (\\frac{1}{180} \\pi \\beta \\right )} & \\sin{\\left (\\frac{1}{180} \\pi \\alpha \\right )} \\sin{\\left (\\frac{1}{180} \\pi \\beta \\right )} \\sin{\\left (\\frac{1}{180} \\pi \\gamma \\right )} + \\cos{\\left (\\frac{1}{180} \\pi \\alpha \\right )} \\cos{\\left (\\frac{1}{180} \\pi \\gamma \\right )} & \\sin{\\left (\\frac{1}{180} \\pi \\alpha \\right )} \\sin{\\left (\\frac{1}{180} \\pi \\beta \\right )} \\cos{\\left (\\frac{1}{180} \\pi \\gamma \\right )} - \\sin{\\left (\\frac{1}{180} \\pi \\gamma \\right )} \\cos{\\left (\\frac{1}{180} \\pi \\alpha \\right )}\\\\- \\sin{\\left (\\frac{1}{180} \\pi \\beta \\right )} & \\sin{\\left (\\frac{1}{180} \\pi \\gamma \\right )} \\cos{\\left (\\frac{1}{180} \\pi \\beta \\right )} & \\cos{\\left (\\frac{1}{180} \\pi \\beta \\right )} \\cos{\\left (\\frac{1}{180} \\pi \\gamma \\right )}\\end{smallmatrix}\\right]$$"
       ],
       "metadata": {},
       "output_type": "pyout",
       "png": "[encoded data removed]",
       "prompt_number": 24,
       "text": [
        "\u23a1   \u239b\u03c0\u22c5\u03b1\u239e    \u239b\u03c0\u22c5\u03b2\u239e       \u239b\u03c0\u22c5\u03b1\u239e    \u239b\u03c0\u22c5\u03b3\u239e      \u239b\u03c0\u22c5\u03b2\u239e    \u239b\u03c0\u22c5\u03b3\u239e    \u239b\u03c0\u22c5\u03b1\u239e     \u239b\u03c0\u22c5\u03b1\u239e\n",
        "\u23a2cos\u239c\u2500\u2500\u2500\u239f\u22c5cos\u239c\u2500\u2500\u2500\u239f  - sin\u239c\u2500\u2500\u2500\u239f\u22c5cos\u239c\u2500\u2500\u2500\u239f + sin\u239c\u2500\u2500\u2500\u239f\u22c5sin\u239c\u2500\u2500\u2500\u239f\u22c5cos\u239c\u2500\u2500\u2500\u239f  sin\u239c\u2500\u2500\u2500\u239f\n",
        "\u23a2   \u239d180\u23a0    \u239d180\u23a0       \u239d180\u23a0    \u239d180\u23a0      \u239d180\u23a0    \u239d180\u23a0    \u239d180\u23a0     \u239d180\u23a0\n",
        "\u23a2                                                                             \n",
        "\u23a2   \u239b\u03c0\u22c5\u03b1\u239e    \u239b\u03c0\u22c5\u03b2\u239e      \u239b\u03c0\u22c5\u03b1\u239e    \u239b\u03c0\u22c5\u03b2\u239e    \u239b\u03c0\u22c5\u03b3\u239e      \u239b\u03c0\u22c5\u03b1\u239e    \u239b\u03c0\u22c5\u03b3\u239e      \u239b\u03c0\u22c5\u03b1\u239e\n",
        "\u23a2sin\u239c\u2500\u2500\u2500\u239f\u22c5cos\u239c\u2500\u2500\u2500\u239f   sin\u239c\u2500\u2500\u2500\u239f\u22c5sin\u239c\u2500\u2500\u2500\u239f\u22c5sin\u239c\u2500\u2500\u2500\u239f + cos\u239c\u2500\u2500\u2500\u239f\u22c5cos\u239c\u2500\u2500\u2500\u239f   sin\u239c\u2500\u2500\u2500\u239f\n",
        "\u23a2   \u239d180\u23a0    \u239d180\u23a0      \u239d180\u23a0    \u239d180\u23a0    \u239d180\u23a0      \u239d180\u23a0    \u239d180\u23a0      \u239d180\u23a0\n",
        "\u23a2                                                                             \n",
        "\u23a2        \u239b\u03c0\u22c5\u03b2\u239e                        \u239b\u03c0\u22c5\u03b3\u239e    \u239b\u03c0\u22c5\u03b2\u239e                          \n",
        "\u23a2    -sin\u239c\u2500\u2500\u2500\u239f                     sin\u239c\u2500\u2500\u2500\u239f\u22c5cos\u239c\u2500\u2500\u2500\u239f                          \n",
        "\u23a3        \u239d180\u23a0                        \u239d180\u23a0    \u239d180\u23a0                          \n",
        "\n",
        "    \u239b\u03c0\u22c5\u03b3\u239e      \u239b\u03c0\u22c5\u03b2\u239e    \u239b\u03c0\u22c5\u03b1\u239e    \u239b\u03c0\u22c5\u03b3\u239e\u23a4\n",
        "\u22c5sin\u239c\u2500\u2500\u2500\u239f + sin\u239c\u2500\u2500\u2500\u239f\u22c5cos\u239c\u2500\u2500\u2500\u239f\u22c5cos\u239c\u2500\u2500\u2500\u239f\u23a5\n",
        "    \u239d180\u23a0      \u239d180\u23a0    \u239d180\u23a0    \u239d180\u23a0\u23a5\n",
        "                                      \u23a5\n",
        "    \u239b\u03c0\u22c5\u03b2\u239e    \u239b\u03c0\u22c5\u03b3\u239e      \u239b\u03c0\u22c5\u03b3\u239e    \u239b\u03c0\u22c5\u03b1\u239e\u23a5\n",
        "\u22c5sin\u239c\u2500\u2500\u2500\u239f\u22c5cos\u239c\u2500\u2500\u2500\u239f - sin\u239c\u2500\u2500\u2500\u239f\u22c5cos\u239c\u2500\u2500\u2500\u239f\u23a5\n",
        "    \u239d180\u23a0    \u239d180\u23a0      \u239d180\u23a0    \u239d180\u23a0\u23a5\n",
        "                                      \u23a5\n",
        "         \u239b\u03c0\u22c5\u03b2\u239e    \u239b\u03c0\u22c5\u03b3\u239e               \u23a5\n",
        "      cos\u239c\u2500\u2500\u2500\u239f\u22c5cos\u239c\u2500\u2500\u2500\u239f               \u23a5\n",
        "         \u239d180\u23a0    \u239d180\u23a0               \u23a6"
       ]
      }
     ],
     "prompt_number": 24
    },
    {
     "cell_type": "code",
     "collapsed": false,
     "input": [
      "T_ZYX_i = Rot_Euler_ZYX(10,20,30)\n",
      "T_ZYX_i"
     ],
     "language": "python",
     "metadata": {},
     "outputs": [
      {
       "latex": [
        "$$\\left[\\begin{smallmatrix}\\cos{\\left (\\frac{1}{18} \\pi \\right )} \\cos{\\left (\\frac{1}{9} \\pi \\right )} & - \\frac{1}{2} \\sqrt{3} \\sin{\\left (\\frac{1}{18} \\pi \\right )} + \\frac{1}{2} \\sin{\\left (\\frac{1}{9} \\pi \\right )} \\cos{\\left (\\frac{1}{18} \\pi \\right )} & \\frac{1}{2} \\sin{\\left (\\frac{1}{18} \\pi \\right )} + \\frac{1}{2} \\sqrt{3} \\sin{\\left (\\frac{1}{9} \\pi \\right )} \\cos{\\left (\\frac{1}{18} \\pi \\right )}\\\\\\sin{\\left (\\frac{1}{18} \\pi \\right )} \\cos{\\left (\\frac{1}{9} \\pi \\right )} & \\frac{1}{2} \\sin{\\left (\\frac{1}{18} \\pi \\right )} \\sin{\\left (\\frac{1}{9} \\pi \\right )} + \\frac{1}{2} \\sqrt{3} \\cos{\\left (\\frac{1}{18} \\pi \\right )} & - \\frac{1}{2} \\cos{\\left (\\frac{1}{18} \\pi \\right )} + \\frac{1}{2} \\sqrt{3} \\sin{\\left (\\frac{1}{18} \\pi \\right )} \\sin{\\left (\\frac{1}{9} \\pi \\right )}\\\\- \\sin{\\left (\\frac{1}{9} \\pi \\right )} & \\frac{1}{2} \\cos{\\left (\\frac{1}{9} \\pi \\right )} & \\frac{1}{2} \\sqrt{3} \\cos{\\left (\\frac{1}{9} \\pi \\right )}\\end{smallmatrix}\\right]$$"
       ],
       "metadata": {},
       "output_type": "pyout",
       "png": "[encoded data removed]",
       "prompt_number": 25,
       "text": [
        "\u23a1                    ___    \u239b\u03c0 \u239e      \u239b\u03c0\u239e    \u239b\u03c0 \u239e      \u239b\u03c0 \u239e     ___    \u239b\u03c0\u239e    \n",
        "\u23a2                  \u2572\u2571 3 \u22c5sin\u239c\u2500\u2500\u239f   sin\u239c\u2500\u239f\u22c5cos\u239c\u2500\u2500\u239f   sin\u239c\u2500\u2500\u239f   \u2572\u2571 3 \u22c5sin\u239c\u2500\u239f\u22c5cos\n",
        "\u23a2   \u239b\u03c0 \u239e    \u239b\u03c0\u239e             \u239d18\u23a0      \u239d9\u23a0    \u239d18\u23a0      \u239d18\u23a0            \u239d9\u23a0    \n",
        "\u23a2cos\u239c\u2500\u2500\u239f\u22c5cos\u239c\u2500\u239f  - \u2500\u2500\u2500\u2500\u2500\u2500\u2500\u2500\u2500\u2500\u2500\u2500\u2500 + \u2500\u2500\u2500\u2500\u2500\u2500\u2500\u2500\u2500\u2500\u2500\u2500\u2500\u2500   \u2500\u2500\u2500\u2500\u2500\u2500\u2500 + \u2500\u2500\u2500\u2500\u2500\u2500\u2500\u2500\u2500\u2500\u2500\u2500\u2500\u2500\u2500\u2500\n",
        "\u23a2   \u239d18\u23a0    \u239d9\u23a0          2               2             2               2      \n",
        "\u23a2                                                                             \n",
        "\u23a2                    \u239b\u03c0 \u239e    \u239b\u03c0\u239e     ___    \u239b\u03c0 \u239e        \u239b\u03c0 \u239e     ___    \u239b\u03c0 \u239e  \n",
        "\u23a2                 sin\u239c\u2500\u2500\u239f\u22c5sin\u239c\u2500\u239f   \u2572\u2571 3 \u22c5cos\u239c\u2500\u2500\u239f     cos\u239c\u2500\u2500\u239f   \u2572\u2571 3 \u22c5sin\u239c\u2500\u2500\u239f\u22c5s\n",
        "\u23a2   \u239b\u03c0 \u239e    \u239b\u03c0\u239e      \u239d18\u23a0    \u239d9\u23a0            \u239d18\u23a0        \u239d18\u23a0            \u239d18\u23a0  \n",
        "\u23a2sin\u239c\u2500\u2500\u239f\u22c5cos\u239c\u2500\u239f   \u2500\u2500\u2500\u2500\u2500\u2500\u2500\u2500\u2500\u2500\u2500\u2500\u2500\u2500 + \u2500\u2500\u2500\u2500\u2500\u2500\u2500\u2500\u2500\u2500\u2500\u2500\u2500   - \u2500\u2500\u2500\u2500\u2500\u2500\u2500 + \u2500\u2500\u2500\u2500\u2500\u2500\u2500\u2500\u2500\u2500\u2500\u2500\u2500\u2500\u2500\n",
        "\u23a2   \u239d18\u23a0    \u239d9\u23a0         2                2              2               2     \n",
        "\u23a2                                                                             \n",
        "\u23a2                                \u239b\u03c0\u239e                           ___    \u239b\u03c0\u239e     \n",
        "\u23a2                             cos\u239c\u2500\u239f                         \u2572\u2571 3 \u22c5cos\u239c\u2500\u239f     \n",
        "\u23a2       \u239b\u03c0\u239e                      \u239d9\u23a0                                  \u239d9\u23a0     \n",
        "\u23a2   -sin\u239c\u2500\u239f                   \u2500\u2500\u2500\u2500\u2500\u2500                         \u2500\u2500\u2500\u2500\u2500\u2500\u2500\u2500\u2500\u2500\u2500\u2500     \n",
        "\u23a3       \u239d9\u23a0                     2                                 2           \n",
        "\n",
        "\u239b\u03c0 \u239e \u23a4\n",
        "\u239c\u2500\u2500\u239f \u23a5\n",
        "\u239d18\u23a0 \u23a5\n",
        "\u2500\u2500\u2500\u2500 \u23a5\n",
        "     \u23a5\n",
        "     \u23a5\n",
        "  \u239b\u03c0\u239e\u23a5\n",
        "in\u239c\u2500\u239f\u23a5\n",
        "  \u239d9\u23a0\u23a5\n",
        "\u2500\u2500\u2500\u2500\u2500\u23a5\n",
        "     \u23a5\n",
        "     \u23a5\n",
        "     \u23a5\n",
        "     \u23a5\n",
        "     \u23a5\n",
        "     \u23a5\n",
        "     \u23a6"
       ]
      }
     ],
     "prompt_number": 25
    },
    {
     "cell_type": "code",
     "collapsed": false,
     "input": [
      "T_ZYX_ii = Rot_Euler_ZYX(30,90,-55)\n",
      "T_ZYX_ii"
     ],
     "language": "python",
     "metadata": {},
     "outputs": [
      {
       "latex": [
        "$$\\left[\\begin{smallmatrix}0 & - \\frac{1}{2} \\sqrt{3} \\sin{\\left (\\frac{11}{36} \\pi \\right )} - \\frac{1}{2} \\cos{\\left (\\frac{11}{36} \\pi \\right )} & - \\frac{1}{2} \\sin{\\left (\\frac{11}{36} \\pi \\right )} + \\frac{1}{2} \\sqrt{3} \\cos{\\left (\\frac{11}{36} \\pi \\right )}\\\\0 & - \\frac{1}{2} \\sin{\\left (\\frac{11}{36} \\pi \\right )} + \\frac{1}{2} \\sqrt{3} \\cos{\\left (\\frac{11}{36} \\pi \\right )} & \\frac{1}{2} \\cos{\\left (\\frac{11}{36} \\pi \\right )} + \\frac{1}{2} \\sqrt{3} \\sin{\\left (\\frac{11}{36} \\pi \\right )}\\\\-1 & 0 & 0\\end{smallmatrix}\\right]$$"
       ],
       "metadata": {},
       "output_type": "pyout",
       "png": "[encoded data removed]",
       "prompt_number": 26,
       "text": [
        "\u23a1        ___    \u239b11\u22c5\u03c0\u239e      \u239b11\u22c5\u03c0\u239e       \u239b11\u22c5\u03c0\u239e     ___    \u239b11\u22c5\u03c0\u239e\u23a4\n",
        "\u23a2      \u2572\u2571 3 \u22c5sin\u239c\u2500\u2500\u2500\u2500\u239f   cos\u239c\u2500\u2500\u2500\u2500\u239f    sin\u239c\u2500\u2500\u2500\u2500\u239f   \u2572\u2571 3 \u22c5cos\u239c\u2500\u2500\u2500\u2500\u239f\u23a5\n",
        "\u23a2               \u239d 36 \u23a0      \u239d 36 \u23a0       \u239d 36 \u23a0            \u239d 36 \u23a0\u23a5\n",
        "\u23a20   - \u2500\u2500\u2500\u2500\u2500\u2500\u2500\u2500\u2500\u2500\u2500\u2500\u2500\u2500\u2500 - \u2500\u2500\u2500\u2500\u2500\u2500\u2500\u2500\u2500  - \u2500\u2500\u2500\u2500\u2500\u2500\u2500\u2500\u2500 + \u2500\u2500\u2500\u2500\u2500\u2500\u2500\u2500\u2500\u2500\u2500\u2500\u2500\u2500\u2500\u23a5\n",
        "\u23a2             2              2            2              2       \u23a5\n",
        "\u23a2                                                                \u23a5\n",
        "\u23a2         \u239b11\u22c5\u03c0\u239e     ___    \u239b11\u22c5\u03c0\u239e      \u239b11\u22c5\u03c0\u239e     ___    \u239b11\u22c5\u03c0\u239e \u23a5\n",
        "\u23a2      sin\u239c\u2500\u2500\u2500\u2500\u239f   \u2572\u2571 3 \u22c5cos\u239c\u2500\u2500\u2500\u2500\u239f   cos\u239c\u2500\u2500\u2500\u2500\u239f   \u2572\u2571 3 \u22c5sin\u239c\u2500\u2500\u2500\u2500\u239f \u23a5\n",
        "\u23a2         \u239d 36 \u23a0            \u239d 36 \u23a0      \u239d 36 \u23a0            \u239d 36 \u23a0 \u23a5\n",
        "\u23a20   - \u2500\u2500\u2500\u2500\u2500\u2500\u2500\u2500\u2500 + \u2500\u2500\u2500\u2500\u2500\u2500\u2500\u2500\u2500\u2500\u2500\u2500\u2500\u2500\u2500   \u2500\u2500\u2500\u2500\u2500\u2500\u2500\u2500\u2500 + \u2500\u2500\u2500\u2500\u2500\u2500\u2500\u2500\u2500\u2500\u2500\u2500\u2500\u2500\u2500 \u23a5\n",
        "\u23a2          2              2              2              2        \u23a5\n",
        "\u23a2                                                                \u23a5\n",
        "\u23a3-1                0                              0              \u23a6"
       ]
      }
     ],
     "prompt_number": 26
    },
    {
     "cell_type": "markdown",
     "metadata": {},
     "source": [
      "Como sabemos una matriz de rotaci\u00f3n $R$ la podemos pensar como:\n",
      "\n",
      "$$R=[\\hat{X} \\hat{Y} \\hat{Z}]$$\n",
      "\n",
      "luego estos tres vectores unitarios son los ejes de alguna trama, escritos en t\u00e9rminos de la trama de referencia. Cada uno es un vector unitario y los tres deben cumplir que sean mutuamente perpendiculares, por lo que podemos ver que hay seis restricciones en los nueve elementos de la matriz:\n",
      "\n",
      "$$| \\hat{X} | = 1$$\n",
      "\n",
      "$$| \\hat{Y} | = 1$$\n",
      "\n",
      "$$| \\hat{Z} | = 1$$\n",
      "\n",
      "$$\\hat{X}\\hat{Y}=0$$\n",
      "\n",
      "$$\\hat{X}\\hat{Z}=0$$\n",
      "\n",
      "$$\\hat{Y}\\hat{Z}=0$$\n"
     ]
    },
    {
     "cell_type": "code",
     "collapsed": false,
     "input": [
      "#Obtenemos el X \n",
      "X = T_ZYX_i[:,0]\n",
      "X"
     ],
     "language": "python",
     "metadata": {},
     "outputs": [
      {
       "latex": [
        "$$\\left[\\begin{smallmatrix}\\cos{\\left (\\frac{1}{18} \\pi \\right )} \\cos{\\left (\\frac{1}{9} \\pi \\right )}\\\\\\sin{\\left (\\frac{1}{18} \\pi \\right )} \\cos{\\left (\\frac{1}{9} \\pi \\right )}\\\\- \\sin{\\left (\\frac{1}{9} \\pi \\right )}\\end{smallmatrix}\\right]$$"
       ],
       "metadata": {},
       "output_type": "pyout",
       "png": "[encoded data removed]",
       "prompt_number": 27,
       "text": [
        "\u23a1   \u239b\u03c0 \u239e    \u239b\u03c0\u239e\u23a4\n",
        "\u23a2cos\u239c\u2500\u2500\u239f\u22c5cos\u239c\u2500\u239f\u23a5\n",
        "\u23a2   \u239d18\u23a0    \u239d9\u23a0\u23a5\n",
        "\u23a2              \u23a5\n",
        "\u23a2   \u239b\u03c0 \u239e    \u239b\u03c0\u239e\u23a5\n",
        "\u23a2sin\u239c\u2500\u2500\u239f\u22c5cos\u239c\u2500\u239f\u23a5\n",
        "\u23a2   \u239d18\u23a0    \u239d9\u23a0\u23a5\n",
        "\u23a2              \u23a5\n",
        "\u23a2       \u239b\u03c0\u239e    \u23a5\n",
        "\u23a2   -sin\u239c\u2500\u239f    \u23a5\n",
        "\u23a3       \u239d9\u23a0    \u23a6"
       ]
      }
     ],
     "prompt_number": 27
    },
    {
     "cell_type": "code",
     "collapsed": false,
     "input": [
      "#evaluamos num\u00e9ricamente\n",
      "X.norm().n(3)\n"
     ],
     "language": "python",
     "metadata": {},
     "outputs": [
      {
       "latex": [
        "$$1.0$$"
       ],
       "metadata": {},
       "output_type": "pyout",
       "png": "[encoded data removed]",
       "prompt_number": 28,
       "text": [
        "1.00"
       ]
      }
     ],
     "prompt_number": 28
    },
    {
     "cell_type": "code",
     "collapsed": false,
     "input": [
      "#Obtenemos el Y (generico)\n",
      "Y = T_ZYX_i[:,1]\n",
      "Y"
     ],
     "language": "python",
     "metadata": {},
     "outputs": [
      {
       "latex": [
        "$$\\left[\\begin{smallmatrix}- \\frac{1}{2} \\sqrt{3} \\sin{\\left (\\frac{1}{18} \\pi \\right )} + \\frac{1}{2} \\sin{\\left (\\frac{1}{9} \\pi \\right )} \\cos{\\left (\\frac{1}{18} \\pi \\right )}\\\\\\frac{1}{2} \\sin{\\left (\\frac{1}{18} \\pi \\right )} \\sin{\\left (\\frac{1}{9} \\pi \\right )} + \\frac{1}{2} \\sqrt{3} \\cos{\\left (\\frac{1}{18} \\pi \\right )}\\\\\\frac{1}{2} \\cos{\\left (\\frac{1}{9} \\pi \\right )}\\end{smallmatrix}\\right]$$"
       ],
       "metadata": {},
       "output_type": "pyout",
       "png": "[encoded data removed]",
       "prompt_number": 29,
       "text": [
        "\u23a1    ___    \u239b\u03c0 \u239e      \u239b\u03c0\u239e    \u239b\u03c0 \u239e\u23a4\n",
        "\u23a2  \u2572\u2571 3 \u22c5sin\u239c\u2500\u2500\u239f   sin\u239c\u2500\u239f\u22c5cos\u239c\u2500\u2500\u239f\u23a5\n",
        "\u23a2           \u239d18\u23a0      \u239d9\u23a0    \u239d18\u23a0\u23a5\n",
        "\u23a2- \u2500\u2500\u2500\u2500\u2500\u2500\u2500\u2500\u2500\u2500\u2500\u2500\u2500 + \u2500\u2500\u2500\u2500\u2500\u2500\u2500\u2500\u2500\u2500\u2500\u2500\u2500\u2500\u23a5\n",
        "\u23a2        2               2       \u23a5\n",
        "\u23a2                                \u23a5\n",
        "\u23a2    \u239b\u03c0 \u239e    \u239b\u03c0\u239e     ___    \u239b\u03c0 \u239e \u23a5\n",
        "\u23a2 sin\u239c\u2500\u2500\u239f\u22c5sin\u239c\u2500\u239f   \u2572\u2571 3 \u22c5cos\u239c\u2500\u2500\u239f \u23a5\n",
        "\u23a2    \u239d18\u23a0    \u239d9\u23a0            \u239d18\u23a0 \u23a5\n",
        "\u23a2 \u2500\u2500\u2500\u2500\u2500\u2500\u2500\u2500\u2500\u2500\u2500\u2500\u2500\u2500 + \u2500\u2500\u2500\u2500\u2500\u2500\u2500\u2500\u2500\u2500\u2500\u2500\u2500 \u23a5\n",
        "\u23a2       2                2       \u23a5\n",
        "\u23a2                                \u23a5\n",
        "\u23a2                \u239b\u03c0\u239e             \u23a5\n",
        "\u23a2             cos\u239c\u2500\u239f             \u23a5\n",
        "\u23a2                \u239d9\u23a0             \u23a5\n",
        "\u23a2             \u2500\u2500\u2500\u2500\u2500\u2500             \u23a5\n",
        "\u23a3               2                \u23a6"
       ]
      }
     ],
     "prompt_number": 29
    },
    {
     "cell_type": "code",
     "collapsed": false,
     "input": [
      "Y.norm().n(3)"
     ],
     "language": "python",
     "metadata": {},
     "outputs": [
      {
       "latex": [
        "$$1.0$$"
       ],
       "metadata": {},
       "output_type": "pyout",
       "png": "[encoded data removed]",
       "prompt_number": 30,
       "text": [
        "1.00"
       ]
      }
     ],
     "prompt_number": 30
    },
    {
     "cell_type": "code",
     "collapsed": false,
     "input": [
      "#Obtenemos el Z \n",
      "Z = T_ZYX_i[:,2]\n",
      "X"
     ],
     "language": "python",
     "metadata": {},
     "outputs": [
      {
       "latex": [
        "$$\\left[\\begin{smallmatrix}\\cos{\\left (\\frac{1}{18} \\pi \\right )} \\cos{\\left (\\frac{1}{9} \\pi \\right )}\\\\\\sin{\\left (\\frac{1}{18} \\pi \\right )} \\cos{\\left (\\frac{1}{9} \\pi \\right )}\\\\- \\sin{\\left (\\frac{1}{9} \\pi \\right )}\\end{smallmatrix}\\right]$$"
       ],
       "metadata": {},
       "output_type": "pyout",
       "png": "[encoded data removed]",
       "prompt_number": 31,
       "text": [
        "\u23a1   \u239b\u03c0 \u239e    \u239b\u03c0\u239e\u23a4\n",
        "\u23a2cos\u239c\u2500\u2500\u239f\u22c5cos\u239c\u2500\u239f\u23a5\n",
        "\u23a2   \u239d18\u23a0    \u239d9\u23a0\u23a5\n",
        "\u23a2              \u23a5\n",
        "\u23a2   \u239b\u03c0 \u239e    \u239b\u03c0\u239e\u23a5\n",
        "\u23a2sin\u239c\u2500\u2500\u239f\u22c5cos\u239c\u2500\u239f\u23a5\n",
        "\u23a2   \u239d18\u23a0    \u239d9\u23a0\u23a5\n",
        "\u23a2              \u23a5\n",
        "\u23a2       \u239b\u03c0\u239e    \u23a5\n",
        "\u23a2   -sin\u239c\u2500\u239f    \u23a5\n",
        "\u23a3       \u239d9\u23a0    \u23a6"
       ]
      }
     ],
     "prompt_number": 31
    },
    {
     "cell_type": "code",
     "collapsed": false,
     "input": [
      "Z.norm().n(3)"
     ],
     "language": "python",
     "metadata": {},
     "outputs": [
      {
       "latex": [
        "$$1.0$$"
       ],
       "metadata": {},
       "output_type": "pyout",
       "png": "[encoded data removed]",
       "prompt_number": 32,
       "text": [
        "1.00"
       ]
      }
     ],
     "prompt_number": 32
    },
    {
     "cell_type": "code",
     "collapsed": false,
     "input": [
      "prod=X.T * Y\n",
      "prod.n(3)"
     ],
     "language": "python",
     "metadata": {},
     "outputs": [
      {
       "latex": [
        "$$\\left[\\begin{smallmatrix}-2.0 \\times 10^{-115}\\end{smallmatrix}\\right]$$"
       ],
       "metadata": {},
       "output_type": "pyout",
       "png": "[encoded data removed]",
       "prompt_number": 33,
       "text": [
        "[-0.e-115]"
       ]
      }
     ],
     "prompt_number": 33
    },
    {
     "cell_type": "code",
     "collapsed": false,
     "input": [
      "prod2=X.T * Z\n",
      "prod2.n(3)"
     ],
     "language": "python",
     "metadata": {},
     "outputs": [
      {
       "latex": [
        "$$\\left[\\begin{smallmatrix}2.0 \\times 10^{-115}\\end{smallmatrix}\\right]$$"
       ],
       "metadata": {},
       "output_type": "pyout",
       "png": "[encoded data removed]",
       "prompt_number": 34,
       "text": [
        "[0.e-115]"
       ]
      }
     ],
     "prompt_number": 34
    },
    {
     "cell_type": "code",
     "collapsed": false,
     "input": [
      "prod3=Y.T * Z\n",
      "prod3.n(3)"
     ],
     "language": "python",
     "metadata": {},
     "outputs": [
      {
       "latex": [
        "$$\\left[\\begin{smallmatrix}1.0 \\times 10^{-115}\\end{smallmatrix}\\right]$$"
       ],
       "metadata": {},
       "output_type": "pyout",
       "png": "[encoded data removed]",
       "prompt_number": 35,
       "text": [
        "[0.e-115]"
       ]
      }
     ],
     "prompt_number": 35
    },
    {
     "cell_type": "code",
     "collapsed": false,
     "input": [
      "#Demostramos la hermosa propiedad(multiplicamos a izquierda y derecha por la traspuesta)\n",
      "\n",
      "a = T_ZYX_i * T_ZYX_i.T\n",
      "b = T_ZYX_i.T * T_ZYX_i"
     ],
     "language": "python",
     "metadata": {},
     "outputs": [],
     "prompt_number": 36
    },
    {
     "cell_type": "code",
     "collapsed": false,
     "input": [
      "a.n(10)"
     ],
     "language": "python",
     "metadata": {},
     "outputs": [
      {
       "latex": [
        "$$\\left[\\begin{smallmatrix}1.0 & -1.0 \\times 10^{-156} & 5.0 \\times 10^{-156}\\\\-1.0 \\times 10^{-156} & 1.0 & 1.0 \\times 10^{-156}\\\\5.0 \\times 10^{-156} & 1.0 \\times 10^{-156} & 1.0\\end{smallmatrix}\\right]$$"
       ],
       "metadata": {},
       "output_type": "pyout",
       "png": "[encoded data removed]",
       "prompt_number": 37,
       "text": [
        "\u23a1  1.0     -0.e-156  0.e-156\u23a4\n",
        "\u23a2                           \u23a5\n",
        "\u23a2-0.e-156    1.0     0.e-156\u23a5\n",
        "\u23a2                           \u23a5\n",
        "\u23a30.e-156   0.e-156     1.0  \u23a6"
       ]
      }
     ],
     "prompt_number": 37
    },
    {
     "cell_type": "code",
     "collapsed": false,
     "input": [
      "b.n(10)"
     ],
     "language": "python",
     "metadata": {},
     "outputs": [
      {
       "latex": [
        "$$\\left[\\begin{smallmatrix}1.0 & 5.0 \\times 10^{-156} & 9.0 \\times 10^{-156}\\\\5.0 \\times 10^{-156} & 1.0 & -1.0 \\times 10^{-156}\\\\9.0 \\times 10^{-156} & -1.0 \\times 10^{-156} & 1.0\\end{smallmatrix}\\right]$$"
       ],
       "metadata": {},
       "output_type": "pyout",
       "png": "[encoded data removed]",
       "prompt_number": 38,
       "text": [
        "\u23a1  1.0    0.e-156   0.e-155 \u23a4\n",
        "\u23a2                           \u23a5\n",
        "\u23a20.e-156    1.0     -0.e-156\u23a5\n",
        "\u23a2                           \u23a5\n",
        "\u23a30.e-155  -0.e-156    1.0   \u23a6"
       ]
      }
     ],
     "prompt_number": 38
    },
    {
     "cell_type": "code",
     "collapsed": false,
     "input": [
      "#funcion para calcular los \u00e1ngulos dada una matriz\n",
      "\n",
      "def get_angle(M):\n",
      "    #Calculamos beta y nos fijamos si es una singularidad\n",
      "    b1 = atan2(-M[2,0],sqrt(M[0,0]**2+M[1,0]**2))\n",
      "    if b1*180/pi == 90:\n",
      "        print 'caso degenerado'\n",
      "        a = 0\n",
      "        c = atan2(M[0,1],M[1,1])\n",
      "    \n",
      "    elif b1*180/pi == -90:\n",
      "        print 'caso degenerado'\n",
      "        a = 0\n",
      "        c = -atan2(-M[0,1],M[1,1])\n",
      "    \n",
      "    else:\n",
      "        \n",
      "        #b2 = atan2(-M[2,0],-sqrt(M[0,0]**2+M[1,0]**2))\n",
      "        #b2 = b*180/pi\n",
      "        \n",
      "        #calculamos alpha\n",
      "        a = atan2(M[1,0]/cos(b1),M[0,0]/cos(b1))\n",
      "        #calculamos gamma\n",
      "        c = atan2(M[2,1]/cos(b1),M[2,2]/cos(b1))\n",
      "    \n",
      "    a = a*180/pi\n",
      "    b1 = b1*180/pi\n",
      "    c = c*180/pi\n",
      "    \n",
      "    return  a.n(3),b1.n(3), c.n(3)"
     ],
     "language": "python",
     "metadata": {},
     "outputs": [],
     "prompt_number": 39
    },
    {
     "cell_type": "code",
     "collapsed": false,
     "input": [
      "angulos = get_angle(T_ZYX_i)\n",
      "angulos\n"
     ],
     "language": "python",
     "metadata": {},
     "outputs": [
      {
       "latex": [
        "$$\\begin{pmatrix}10.0, & 20.0, & 30.0\\end{pmatrix}$$"
       ],
       "metadata": {},
       "output_type": "pyout",
       "prompt_number": 40,
       "text": [
        "(10.0, 20.0, 30.0)"
       ]
      }
     ],
     "prompt_number": 40
    },
    {
     "cell_type": "code",
     "collapsed": false,
     "input": [
      "get_angle(T_ZYX_ii)\n"
     ],
     "language": "python",
     "metadata": {},
     "outputs": [
      {
       "output_type": "stream",
       "stream": "stdout",
       "text": [
        "caso degenerado\n"
       ]
      },
      {
       "latex": [
        "$$\\begin{pmatrix}0, & 90.0, & -85.0\\end{pmatrix}$$"
       ],
       "metadata": {},
       "output_type": "pyout",
       "prompt_number": 41,
       "text": [
        "(0, 90.0, -85.0)"
       ]
      }
     ],
     "prompt_number": 41
    },
    {
     "cell_type": "code",
     "collapsed": false,
     "input": [
      "# C)\n",
      "T_Y = Rot_Y(20)"
     ],
     "language": "python",
     "metadata": {},
     "outputs": [],
     "prompt_number": 42
    },
    {
     "cell_type": "code",
     "collapsed": false,
     "input": [
      "#Vector sobre el plano x-z con Arg = 45\n",
      "P_B = Matrix([[1],[0],[1]])\n",
      "P_B"
     ],
     "language": "python",
     "metadata": {},
     "outputs": [
      {
       "latex": [
        "$$\\left[\\begin{smallmatrix}1\\\\0\\\\1\\end{smallmatrix}\\right]$$"
       ],
       "metadata": {},
       "output_type": "pyout",
       "png": "[encoded data removed]",
       "prompt_number": 43,
       "text": [
        "\u23a11\u23a4\n",
        "\u23a2 \u23a5\n",
        "\u23a20\u23a5\n",
        "\u23a2 \u23a5\n",
        "\u23a31\u23a6"
       ]
      }
     ],
     "prompt_number": 43
    },
    {
     "cell_type": "code",
     "collapsed": false,
     "input": [
      "#rotamos 20 grados el vector ahora el Arg = 45-20 = 25\n",
      "P_A = T_Y * P_B\n",
      "P_A"
     ],
     "language": "python",
     "metadata": {},
     "outputs": [
      {
       "latex": [
        "$$\\left[\\begin{smallmatrix}\\sin{\\left (\\frac{1}{9} \\pi \\right )} + \\cos{\\left (\\frac{1}{9} \\pi \\right )}\\\\0\\\\- \\sin{\\left (\\frac{1}{9} \\pi \\right )} + \\cos{\\left (\\frac{1}{9} \\pi \\right )}\\end{smallmatrix}\\right]$$"
       ],
       "metadata": {},
       "output_type": "pyout",
       "png": "[encoded data removed]",
       "prompt_number": 44,
       "text": [
        "\u23a1    \u239b\u03c0\u239e      \u239b\u03c0\u239e \u23a4\n",
        "\u23a2 sin\u239c\u2500\u239f + cos\u239c\u2500\u239f \u23a5\n",
        "\u23a2    \u239d9\u23a0      \u239d9\u23a0 \u23a5\n",
        "\u23a2                 \u23a5\n",
        "\u23a2        0        \u23a5\n",
        "\u23a2                 \u23a5\n",
        "\u23a2     \u239b\u03c0\u239e      \u239b\u03c0\u239e\u23a5\n",
        "\u23a2- sin\u239c\u2500\u239f + cos\u239c\u2500\u239f\u23a5\n",
        "\u23a3     \u239d9\u23a0      \u239d9\u23a0\u23a6"
       ]
      }
     ],
     "prompt_number": 44
    },
    {
     "cell_type": "code",
     "collapsed": false,
     "input": [
      "angulo = atan2(P_A[2],P_A[0])*180/pi"
     ],
     "language": "python",
     "metadata": {},
     "outputs": [],
     "prompt_number": 45
    },
    {
     "cell_type": "code",
     "collapsed": false,
     "input": [
      "angulo.n(3)"
     ],
     "language": "python",
     "metadata": {},
     "outputs": [
      {
       "latex": [
        "$$25.0$$"
       ],
       "metadata": {},
       "output_type": "pyout",
       "png": "[encoded data removed]",
       "prompt_number": 46,
       "text": [
        "25.0"
       ]
      }
     ],
     "prompt_number": 46
    }
   ],
   "metadata": {}
  }
 ]
}