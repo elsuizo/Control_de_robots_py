{
 "cells": [
  {
   "cell_type": "markdown",
   "metadata": {},
   "source": [
    "#Martín Noblía\n",
    "\n",
    "##Tp1\n",
    "\n",
    "\n",
    "##Control de Robots 2013\n",
    "\n",
    "Licencia: ![](http://i.creativecommons.org/l/by-sa/2.5/ar/88x31.png)\n",
    "\n",
    "\n",
    "##Ejercicio 1\n",
    "\n",
    "#### Un vector $^{A}P$ es rotado alrededor de $Z_A$ un ángulo $\\theta$ y luego rotado alrededor de $X_A$ un ángulo $\\phi$. Escribir la matriz rotación que describe las rotaciones anteriores en el orden en que se dieron."
   ]
  },
  {
   "cell_type": "code",
   "execution_count": 37,
   "metadata": {
    "collapsed": false
   },
   "outputs": [],
   "source": [
    "from sympy import *\n",
    "\n",
    "from IPython.core.display import Image \n",
    "\n"
   ]
  },
  {
   "cell_type": "code",
   "execution_count": 38,
   "metadata": {
    "collapsed": false
   },
   "outputs": [],
   "source": [
    "#Con esto las salidas van a ser en LaTeX\n",
    "init_printing(use_latex=True)"
   ]
  },
  {
   "cell_type": "code",
   "execution_count": 39,
   "metadata": {
    "collapsed": false
   },
   "outputs": [
    {
     "data": {
      "image/jpeg": "[encoded data removed]",
      "text/plain": [
       "<IPython.core.display.Image object>"
      ]
     },
     "execution_count": 39,
     "metadata": {},
     "output_type": "execute_result"
    }
   ],
   "source": [
    "Image(filename='Imagenes/dibujo_tp1_ej1.jpg')"
   ]
  },
  {
   "cell_type": "markdown",
   "metadata": {},
   "source": [
    "En este caso el vector rota sobre los ejes del sistema de referencia fijo {A} por ello la rotación total es la composición de las rotaciones sobre el eje $\\hat{Z}_A$ y $\\hat{X}_A$, esta composición se calcula como sabemos multiplicando las matrices de cada transformación, osea:\n",
    "\n",
    "\\begin{equation}\n",
    "R(\\theta,\\phi) = R_X(\\phi) R_Z(\\theta)\n",
    "\\end{equation}\n"
   ]
  },
  {
   "cell_type": "code",
   "execution_count": 40,
   "metadata": {
    "collapsed": false
   },
   "outputs": [],
   "source": [
    "#Funcion simbólica para una rotación sobre el eje X\n",
    "def Rot_X(angle):\n",
    "    rad = angle*pi/180\n",
    "    M = Matrix([[1,0,0],[ 0,cos(rad),-sin(rad)],[0,sin(rad), cos(rad)]])\n",
    "    return M\n",
    "\n",
    "#Funcion simbólica para una rotación sobre el eje Y\n",
    "def Rot_Y(angle):\n",
    "    rad = angle*pi/180\n",
    "    M = Matrix([[cos(rad),0,sin(rad)],[ 0,1,0],[-sin(rad), 0,cos(rad)]])\n",
    "    return M\n",
    "\n",
    "#Funcion simbólica para una rotación sobre el eje Z\n",
    "def Rot_Z(angle):\n",
    "    rad = angle*pi/180\n",
    "    M = Matrix([[cos(rad),- sin(rad),0],[ sin(rad), cos(rad), 0],[0,0,1]])\n",
    "    return M\n",
    "\n",
    "#Función para la rotación de ángulos fijos XZ\n",
    "\n",
    "def Rot_XZ(a,b):\n",
    "    \n",
    "    M = Rot_X(b) * Rot_Z(a)\n",
    "    \n",
    "    return M"
   ]
  },
  {
   "cell_type": "code",
   "execution_count": 41,
   "metadata": {
    "collapsed": false
   },
   "outputs": [],
   "source": [
    "#estos son simbolos especiales que los toma como letras griegas directamente(muuy groso)\n",
    "alpha, beta , gamma, phi, theta =symbols('alpha beta gamma phi theta')"
   ]
  },
  {
   "cell_type": "code",
   "execution_count": 42,
   "metadata": {
    "collapsed": false
   },
   "outputs": [
    {
     "data": {
      "image/png": "[encoded data removed]",
      "text/latex": [
       "$$\\left[\\begin{matrix}\\cos{\\left (\\frac{\\pi \\theta}{180} \\right )} & - \\sin{\\left (\\frac{\\pi \\theta}{180} \\right )} & 0\\\\\\sin{\\left (\\frac{\\pi \\theta}{180} \\right )} \\cos{\\left (\\frac{\\pi \\phi}{180} \\right )} & \\cos{\\left (\\frac{\\pi \\phi}{180} \\right )} \\cos{\\left (\\frac{\\pi \\theta}{180} \\right )} & - \\sin{\\left (\\frac{\\pi \\phi}{180} \\right )}\\\\\\sin{\\left (\\frac{\\pi \\phi}{180} \\right )} \\sin{\\left (\\frac{\\pi \\theta}{180} \\right )} & \\sin{\\left (\\frac{\\pi \\phi}{180} \\right )} \\cos{\\left (\\frac{\\pi \\theta}{180} \\right )} & \\cos{\\left (\\frac{\\pi \\phi}{180} \\right )}\\end{matrix}\\right]$$"
      ],
      "text/plain": [
       "⎡       ⎛π⋅θ⎞               ⎛π⋅θ⎞               ⎤\n",
       "⎢    cos⎜───⎟           -sin⎜───⎟          0    ⎥\n",
       "⎢       ⎝180⎠               ⎝180⎠               ⎥\n",
       "⎢                                               ⎥\n",
       "⎢   ⎛π⋅θ⎞    ⎛π⋅φ⎞     ⎛π⋅φ⎞    ⎛π⋅θ⎞      ⎛π⋅φ⎞⎥\n",
       "⎢sin⎜───⎟⋅cos⎜───⎟  cos⎜───⎟⋅cos⎜───⎟  -sin⎜───⎟⎥\n",
       "⎢   ⎝180⎠    ⎝180⎠     ⎝180⎠    ⎝180⎠      ⎝180⎠⎥\n",
       "⎢                                               ⎥\n",
       "⎢   ⎛π⋅φ⎞    ⎛π⋅θ⎞     ⎛π⋅φ⎞    ⎛π⋅θ⎞     ⎛π⋅φ⎞ ⎥\n",
       "⎢sin⎜───⎟⋅sin⎜───⎟  sin⎜───⎟⋅cos⎜───⎟  cos⎜───⎟ ⎥\n",
       "⎣   ⎝180⎠    ⎝180⎠     ⎝180⎠    ⎝180⎠     ⎝180⎠ ⎦"
      ]
     },
     "execution_count": 42,
     "metadata": {},
     "output_type": "execute_result"
    }
   ],
   "source": [
    "#Matriz de rotación simbólica\n",
    "T_XZ = Rot_XZ(theta,phi)\n",
    "T_XZ"
   ]
  },
  {
   "cell_type": "code",
   "execution_count": 43,
   "metadata": {
    "collapsed": false
   },
   "outputs": [
    {
     "data": {
      "image/png": "[encoded data removed]",
      "text/latex": [
       "$$\\left[\\begin{matrix}1\\\\0\\\\0\\end{matrix}\\right]$$"
      ],
      "text/plain": [
       "⎡1⎤\n",
       "⎢ ⎥\n",
       "⎢0⎥\n",
       "⎢ ⎥\n",
       "⎣0⎦"
      ]
     },
     "execution_count": 43,
     "metadata": {},
     "output_type": "execute_result"
    }
   ],
   "source": [
    "#probemos con un ejemplo \n",
    "P = Matrix([[1],[0],[0]])\n",
    "P"
   ]
  },
  {
   "cell_type": "code",
   "execution_count": 44,
   "metadata": {
    "collapsed": false
   },
   "outputs": [
    {
     "data": {
      "image/png": "[encoded data removed]",
      "text/latex": [
       "$$\\left[\\begin{matrix}0\\\\0\\\\1\\end{matrix}\\right]$$"
      ],
      "text/plain": [
       "⎡0⎤\n",
       "⎢ ⎥\n",
       "⎢0⎥\n",
       "⎢ ⎥\n",
       "⎣1⎦"
      ]
     },
     "execution_count": 44,
     "metadata": {},
     "output_type": "execute_result"
    }
   ],
   "source": [
    "#lo vamos a girar $\\theta$ = 90 y $phi$=90 (Tiene que dar Z)\n",
    "P_new = T_XZ.subs([(theta,90),(phi,90)]) * P\n",
    "P_new"
   ]
  },
  {
   "cell_type": "markdown",
   "metadata": {},
   "source": [
    "## Ejercicio 2\n",
    "\n",
    "Un vector $^{A}P$ es rotado alrededor de $\\hat{Y}_A$ un ángulo de 30° y luego rotado alrededor de $\\hat{X}_A$\n",
    "un ángulo de 45°. Escribir la matriz rotación que describe las rotaciones anteriores en el\n",
    "orden en que se dieron."
   ]
  },
  {
   "cell_type": "markdown",
   "metadata": {},
   "source": [
    "En este caso la composición de rotaciones fijas quedan:\n",
    "\n",
    "$$R(\\theta,\\phi) = R_X(\\phi) R_Y(\\theta)$$\n"
   ]
  },
  {
   "cell_type": "code",
   "execution_count": 45,
   "metadata": {
    "collapsed": false
   },
   "outputs": [],
   "source": [
    "def Rot_XY(a,b):\n",
    "    M = Rot_X(b) * Rot_Y(a)\n",
    "    \n",
    "    return M"
   ]
  },
  {
   "cell_type": "code",
   "execution_count": 46,
   "metadata": {
    "collapsed": false
   },
   "outputs": [],
   "source": [
    "T_XY = Rot_XY(theta,phi)"
   ]
  },
  {
   "cell_type": "code",
   "execution_count": 47,
   "metadata": {
    "collapsed": false
   },
   "outputs": [
    {
     "data": {
      "image/png": "[encoded data removed]",
      "text/latex": [
       "$$\\left[\\begin{matrix}\\frac{\\sqrt{3}}{2} & 0 & \\frac{1}{2}\\\\\\frac{\\sqrt{2}}{4} & \\frac{\\sqrt{2}}{2} & - \\frac{\\sqrt{6}}{4}\\\\- \\frac{\\sqrt{2}}{4} & \\frac{\\sqrt{2}}{2} & \\frac{\\sqrt{6}}{4}\\end{matrix}\\right]$$"
      ],
      "text/plain": [
       "⎡   ___                 ⎤\n",
       "⎢ ╲╱ 3                  ⎥\n",
       "⎢ ─────     0      1/2  ⎥\n",
       "⎢   2                   ⎥\n",
       "⎢                       ⎥\n",
       "⎢   ___     ___     ___ ⎥\n",
       "⎢ ╲╱ 2    ╲╱ 2   -╲╱ 6  ⎥\n",
       "⎢ ─────   ─────  ───────⎥\n",
       "⎢   4       2       4   ⎥\n",
       "⎢                       ⎥\n",
       "⎢   ___     ___     ___ ⎥\n",
       "⎢-╲╱ 2    ╲╱ 2    ╲╱ 6  ⎥\n",
       "⎢───────  ─────   ───── ⎥\n",
       "⎣   4       2       4   ⎦"
      ]
     },
     "execution_count": 47,
     "metadata": {},
     "output_type": "execute_result"
    }
   ],
   "source": [
    "T_XY.subs([(theta,30),(phi,45)])"
   ]
  },
  {
   "cell_type": "markdown",
   "metadata": {},
   "source": [
    "##Ejercicio 3\n",
    "\n",
    "El sistema de referencia {B} se conforma de la siguiente manera: inicialmente coincide \n",
    "con {A}, luego lo rotamos alrededor de $\\hat{Z}_B$ un ángulo $\\theta$ y luego, al resultado anterior, lo\n",
    "\n",
    "rotamos alrededor de $\\hat{X}_B$ un ángulo $\\phi$. Escribir la matriz rotación que describe el cambio de\n",
    "descripción desde el vector $^{B}P$  al  $^{A}P$.\n",
    "\n",
    "\n",
    "***\n",
    "\n"
   ]
  },
  {
   "cell_type": "markdown",
   "metadata": {},
   "source": [
    "De acuerdo al enunciado, estamos girando el sistema de referencia {A} con respecto al sistema {B}, osea que tenemos:\n",
    "\n",
    "\\begin{equation}\n",
    "^{B}_{A}R( \\phi, \\theta) = R_Z(\\theta) R_X(\\phi)\n",
    "\\end{equation}"
   ]
  },
  {
   "cell_type": "code",
   "execution_count": 48,
   "metadata": {
    "collapsed": false
   },
   "outputs": [],
   "source": [
    "def Rot_XZ(a,b):\n",
    "    \n",
    "    M = Rot_Z(b) * Rot_X(a)\n",
    "    \n",
    "    return M"
   ]
  },
  {
   "cell_type": "code",
   "execution_count": 49,
   "metadata": {
    "collapsed": false
   },
   "outputs": [
    {
     "data": {
      "image/png": "[encoded data removed]",
      "text/latex": [
       "$$\\left[\\begin{matrix}\\cos{\\left (\\frac{\\pi \\theta}{180} \\right )} & - \\sin{\\left (\\frac{\\pi \\theta}{180} \\right )} \\cos{\\left (\\frac{\\pi \\phi}{180} \\right )} & \\sin{\\left (\\frac{\\pi \\phi}{180} \\right )} \\sin{\\left (\\frac{\\pi \\theta}{180} \\right )}\\\\\\sin{\\left (\\frac{\\pi \\theta}{180} \\right )} & \\cos{\\left (\\frac{\\pi \\phi}{180} \\right )} \\cos{\\left (\\frac{\\pi \\theta}{180} \\right )} & - \\sin{\\left (\\frac{\\pi \\phi}{180} \\right )} \\cos{\\left (\\frac{\\pi \\theta}{180} \\right )}\\\\0 & \\sin{\\left (\\frac{\\pi \\phi}{180} \\right )} & \\cos{\\left (\\frac{\\pi \\phi}{180} \\right )}\\end{matrix}\\right]$$"
      ],
      "text/plain": [
       "⎡   ⎛π⋅θ⎞      ⎛π⋅θ⎞    ⎛π⋅φ⎞     ⎛π⋅φ⎞    ⎛π⋅θ⎞ ⎤\n",
       "⎢cos⎜───⎟  -sin⎜───⎟⋅cos⎜───⎟  sin⎜───⎟⋅sin⎜───⎟ ⎥\n",
       "⎢   ⎝180⎠      ⎝180⎠    ⎝180⎠     ⎝180⎠    ⎝180⎠ ⎥\n",
       "⎢                                                ⎥\n",
       "⎢   ⎛π⋅θ⎞     ⎛π⋅φ⎞    ⎛π⋅θ⎞       ⎛π⋅φ⎞    ⎛π⋅θ⎞⎥\n",
       "⎢sin⎜───⎟  cos⎜───⎟⋅cos⎜───⎟   -sin⎜───⎟⋅cos⎜───⎟⎥\n",
       "⎢   ⎝180⎠     ⎝180⎠    ⎝180⎠       ⎝180⎠    ⎝180⎠⎥\n",
       "⎢                                                ⎥\n",
       "⎢                  ⎛π⋅φ⎞               ⎛π⋅φ⎞     ⎥\n",
       "⎢   0           sin⎜───⎟            cos⎜───⎟     ⎥\n",
       "⎣                  ⎝180⎠               ⎝180⎠     ⎦"
      ]
     },
     "execution_count": 49,
     "metadata": {},
     "output_type": "execute_result"
    }
   ],
   "source": [
    "T_XZ = Rot_XZ(phi,theta)\n",
    "T_XZ"
   ]
  },
  {
   "cell_type": "markdown",
   "metadata": {},
   "source": [
    "## Ejercicio 4\n",
    "A partir de los siguientes sistemas de referencia, dibujar un diagrama que muestre cada\n",
    "una de las transformaciones. Luego hallar $^{B}_{C}T$ .\n",
    "\n",
    "$$^{U}_{A}T = \\begin{bmatrix}\n",
    "            0.866 & -0.500 & 0.000 & 11.0 \\\\\\\\\n",
    "            0.500 & 0.866 & 0.000  & -3.0 \\\\\\\\\n",
    "            0.000 & 0.000 & 1.000 & 8.0 \\\\\\\\\n",
    "            0 & 0 & 0 & 1    \n",
    "      \\end{bmatrix}$$\n",
    "\n",
    "\n",
    "$$^{B}_{A}T = \\begin{bmatrix}\n",
    "            1 & 0 & 0.000 & 0 \\\\\\\\\n",
    "            0.000 & 0.866 & -0.500  & 10.0 \\\\\\\\\n",
    "            0.000 & 0.500 & 0.866 & -20.0 \\\\\\\\\n",
    "            0 & 0 & 0 & 1    \n",
    "      \\end{bmatrix}$$\n",
    "\n",
    "\n",
    "$$^{C}_{U}T = \\begin{bmatrix}\n",
    "            0.866 & -0.500 & 0.000 & -3.0 \\\\\\\\\n",
    "            0.433 & 0.750 & -0.500  & -3.0 \\\\\\\\\n",
    "            0.250 & 0.430 & 0.866 & 3.0 \\\\\\\\\n",
    "            0 & 0 & 0 & 1    \n",
    "      \\end{bmatrix}$$\n",
    "***"
   ]
  },
  {
   "cell_type": "markdown",
   "metadata": {},
   "source": [
    "Esquemáticamente tenemos:"
   ]
  },
  {
   "cell_type": "code",
   "execution_count": 50,
   "metadata": {
    "collapsed": false
   },
   "outputs": [
    {
     "data": {
      "image/jpeg": "[encoded data removed]",
      "text/plain": [
       "<IPython.core.display.Image object>"
      ]
     },
     "execution_count": 50,
     "metadata": {},
     "output_type": "execute_result"
    }
   ],
   "source": [
    "Image(filename='Imagenes/dibujo_eje4.jpeg')"
   ]
  },
  {
   "cell_type": "markdown",
   "metadata": {},
   "source": [
    "Queremos hallar $^{B}_{C}T$ por ello planteamos la siguiente igualdad:\n",
    "\\begin{aligned}\n",
    "^{C}_{U}T ^{U}_{A}T =  ((^{B}_{C}T)^{-1} )^{B}_{A}T \\\\\n",
    "((^{B}_{C}T)^{-1} ) = (^{C}_{U}T) (^{U}_{A}T) (^{B}_{A}T)^{-1}\\\\\n",
    "(^{B}_{C}T) = ((^{C}_{U}T) (^{U}_{A}T) (^{B}_{A}T)^{-1})^{-1}\\\\\n",
    "(^{B}_{C}T) = (^{B}_{A}T) ((^{U}_{A}T))^{-1} ((^{C}_{U}T))^{-1} \\\\\n",
    "(^{B}_{C}T) = (^{B}_{A}T) (^{A}_{U}T) (^{U}_{C}T) \\\\\n",
    "\\end{aligned}"
   ]
  },
  {
   "cell_type": "code",
   "execution_count": 51,
   "metadata": {
    "collapsed": false
   },
   "outputs": [
    {
     "data": {
      "text/latex": [
       "\\begin{equation}\n",
       "^{C}_{U}T ^{U}_{A}T =  ((^{B}_{C}T)^{-1} )^{B}_{A}T \\\\\n",
       "((^{B}_{C}T)^{-1} ) = (^{C}_{U}T) (^{U}_{A}T) (^{B}_{A}T)^{-1}\\\\\n",
       "(^{B}_{C}T) = ((^{C}_{U}T) (^{U}_{A}T) (^{B}_{A}T)^{-1})^{-1}\\\\\n",
       "(^{B}_{C}T) = (^{B}_{A}T) ((^{U}_{A}T))^{-1} ((^{C}_{U}T))^{-1} \\\\\n",
       "(^{B}_{C}T) = (^{B}_{A}T) (^{A}_{U}T) (^{U}_{C}T) \\\\\n",
       "\\end{equation}"
      ],
      "text/plain": [
       "<IPython.core.display.Latex object>"
      ]
     },
     "metadata": {},
     "output_type": "display_data"
    }
   ],
   "source": [
    "%%latex\n",
    "\\begin{equation}\n",
    "^{C}_{U}T ^{U}_{A}T =  ((^{B}_{C}T)^{-1} )^{B}_{A}T \\\\\n",
    "((^{B}_{C}T)^{-1} ) = (^{C}_{U}T) (^{U}_{A}T) (^{B}_{A}T)^{-1}\\\\\n",
    "(^{B}_{C}T) = ((^{C}_{U}T) (^{U}_{A}T) (^{B}_{A}T)^{-1})^{-1}\\\\\n",
    "(^{B}_{C}T) = (^{B}_{A}T) ((^{U}_{A}T))^{-1} ((^{C}_{U}T))^{-1} \\\\\n",
    "(^{B}_{C}T) = (^{B}_{A}T) (^{A}_{U}T) (^{U}_{C}T) \\\\\n",
    "\\end{equation}"
   ]
  },
  {
   "cell_type": "code",
   "execution_count": 52,
   "metadata": {
    "collapsed": false
   },
   "outputs": [],
   "source": [
    "#definimos las matrices \n",
    "T_UA = Matrix([[0.866,-0.500,0.000,11.0],[0.500,0.866,0.000,-3.0],[0,0,1,8.0],[0,0,0,1]])\n",
    "T_BA = Matrix([[1,0,0,0],[0,0.866,-0.500,10],[0,0.500,0.866,-20.0],[0,0,0,1]])\n",
    "T_CU = Matrix([[0.866,-0.500,0,-3],[0.433,0.750,0.500,-3.0],[0.250,0.430,0.866,3.0],[0,0,0,1]])"
   ]
  },
  {
   "cell_type": "markdown",
   "metadata": {},
   "source": [
    "Se puede demostrar, que la inversa de una transformación homogénea puede ser calculada computacionalmente de la siguiente manera:\n",
    "\n",
    "$$^{B}_{A}T =  \\begin{bmatrix}\n",
    "                ^{A}_{B} R^{T}  & -(^{A}_{B} R^{T}) ( ^{A}P_{BORG})  \\\\\\\n",
    "                          \\vec{0}   &   1 \n",
    "                \\end{bmatrix}$$\n"
   ]
  },
  {
   "cell_type": "code",
   "execution_count": 53,
   "metadata": {
    "collapsed": false
   },
   "outputs": [],
   "source": [
    "#Definimos una funcion para generar la inversa de una transformacion homogenea\n",
    "def inverse_T_h(T_h):\n",
    "    #extraemos la rotacion y traslacion\n",
    "    M = zeros((4,4))\n",
    "    R = T_h[0:3,0:3]\n",
    "    P = T_h[0:-1,-1]\n",
    "    \n",
    "    R_inv = R.T\n",
    "    \n",
    "    P_new = -R_inv * P\n",
    "    \n",
    "    M[0:3,0:3] = R_inv\n",
    "    M[0:-1,-1] = P_new\n",
    "    M[-1,:]=Matrix([[0,0,0,1]])\n",
    "    return M\n",
    "    "
   ]
  },
  {
   "cell_type": "code",
   "execution_count": 54,
   "metadata": {
    "collapsed": false
   },
   "outputs": [
    {
     "data": {
      "image/png": "[encoded data removed]",
      "text/latex": [
       "$$\\left[\\begin{matrix}-3.81056766497467 \\cdot 10^{-5} & -2.20009680426125 \\cdot 10^{-5} & 0 & 0.000353159539020709\\\\2.20009680426125 \\cdot 10^{-5} & -3.81056766498578 \\cdot 10^{-5} & 0 & -0.000356327678419532\\\\0 & 0 & 0 & 0\\\\0 & 0 & 0 & 0\\end{matrix}\\right]$$"
      ],
      "text/plain": [
       "⎡-3.81056766497467e-5  -2.20009680426125e-5  0  0.000353159539020709 ⎤\n",
       "⎢                                                                    ⎥\n",
       "⎢2.20009680426125e-5   -3.81056766498578e-5  0  -0.000356327678419532⎥\n",
       "⎢                                                                    ⎥\n",
       "⎢         0                     0            0            0          ⎥\n",
       "⎢                                                                    ⎥\n",
       "⎣         0                     0            0            0          ⎦"
      ]
     },
     "execution_count": 54,
     "metadata": {},
     "output_type": "execute_result"
    }
   ],
   "source": [
    "#verificamos \n",
    "inverse_T_h(T_UA)-T_UA.inv()"
   ]
  },
  {
   "cell_type": "code",
   "execution_count": 55,
   "metadata": {
    "collapsed": false
   },
   "outputs": [
    {
     "name": "stdout",
     "output_type": "stream",
     "text": [
      "1000 loops, best of 3: 1 ms per loop\n"
     ]
    }
   ],
   "source": [
    "%%timeit\n",
    "#tomamos el tiempo de procesamiento \n",
    "inverse_T_h(T_UA)"
   ]
  },
  {
   "cell_type": "code",
   "execution_count": 56,
   "metadata": {
    "collapsed": false
   },
   "outputs": [
    {
     "name": "stdout",
     "output_type": "stream",
     "text": [
      "100 loops, best of 3: 3.46 ms per loop\n"
     ]
    }
   ],
   "source": [
    "%%timeit\n",
    "#tomamos el tiempo de procesamiento del metodo tradicional\n",
    "T_UA.inv()"
   ]
  },
  {
   "cell_type": "code",
   "execution_count": 57,
   "metadata": {
    "collapsed": false
   },
   "outputs": [
    {
     "data": {
      "image/png": "[encoded data removed]",
      "text/latex": [
       "$$\\left[\\begin{matrix}0.499956 & 0.749978 & 0.4315 & -5.570698\\\\-0.749956 & 0.124978 & -0.21876892 & 19.79424076\\\\-0.433 & 0.6495 & 0.873646 & -24.850438\\\\0 & 0 & 0 & 1\\end{matrix}\\right]$$"
      ],
      "text/plain": [
       "⎡0.499956   0.749978    0.4315      -5.570698 ⎤\n",
       "⎢                                             ⎥\n",
       "⎢-0.749956  0.124978  -0.21876892  19.79424076⎥\n",
       "⎢                                             ⎥\n",
       "⎢ -0.433     0.6495    0.873646    -24.850438 ⎥\n",
       "⎢                                             ⎥\n",
       "⎣    0         0           0            1     ⎦"
      ]
     },
     "execution_count": 57,
     "metadata": {},
     "output_type": "execute_result"
    }
   ],
   "source": [
    "#Calculamos la transformacion de acuerdo a la ecuacion de arriba\n",
    "T_BC = T_BA * inverse_T_h(T_UA) * inverse_T_h(T_CU)\n",
    "T_BC"
   ]
  },
  {
   "cell_type": "markdown",
   "metadata": {},
   "source": [
    "#Ejercicio 5\n",
    "\n",
    "A partir de la siguiente figura hallar:\n",
    "\n",
    "$$^{A}_{B}T$$\n",
    "\n",
    "$$^{A}_{C}T$$\n",
    "\n",
    "$$^{B}_{C}T$$\n",
    "\n",
    "$$^{C}_{A}T$$\n",
    "***\n"
   ]
  },
  {
   "cell_type": "code",
   "execution_count": 58,
   "metadata": {
    "collapsed": false
   },
   "outputs": [
    {
     "data": {
      "image/jpeg": "[encoded data removed]",
      "text/plain": [
       "<IPython.core.display.Image object>"
      ]
     },
     "execution_count": 58,
     "metadata": {},
     "output_type": "execute_result"
    }
   ],
   "source": [
    "Image(filename='Imagenes/dibujo_tp1_eje5.jpeg')"
   ]
  },
  {
   "cell_type": "markdown",
   "metadata": {},
   "source": [
    "$^{A}_{B}T = R_{\\hat{Z}_A}(180º)D_{\\vec{q}}([3,0,0])$\n",
    "\n",
    "$^{A}_{C}T = R_{\\hat{Z}_A}(30º)R_{\\hat{Y}_A}(90º) D_{\\vec{q}}([3,0,2])$\n",
    "\n",
    "$^{B}_{C}T = R_{\\hat{Z}_B}(150º)R_{\\hat{Y}_B}(90º) D_{\\vec{q}}([0,0,2])$\n",
    "\n",
    "$(^{C}_{A}T) = (^{A}_{C}T )^{-1} = (^{A}_{C}T )^{T} $"
   ]
  },
  {
   "cell_type": "markdown",
   "metadata": {},
   "source": [
    "#Ejercicio 6\n",
    "\n",
    "**a**) Utilizando la convención de ángulos de Euler $Z-Y-X$ ($\\alpha - \\beta - \\gamma$), escriba un programa para calcular la matriz de rotación $^{A}_{B}R$ cuando el usuario introduzca los ángulos de Euler($\\alpha - \\beta - \\gamma$). Haga la prueba en dos ejemplos:\n",
    "\n",
    "**i**) $\\alpha = 10º$ , $\\beta = 20º$, $\\gamma = 30º$\n",
    "\n",
    "**ii**) $\\alpha = 30º$ , $\\beta = 90º$, $\\gamma = -55º$\n",
    "\n",
    "Para el caso **i**) demueste las seis restricciones para matrices de rotación ortonormales unitarias(hay nueve números en una matriz de 3x3, pero solo tres son independientes). Además demuestre la hermosa propiedad, $^{B}_{A}R = (^{A}_{B}R)^{-1}  = (^{A}_{B}R)^{T}$\n",
    "\n",
    "**b**) Escriba un programa para calcular los ángulos ($\\alpha - \\beta - \\gamma$) de Euler cuando el usuario introduzca la matriz de rotación $^{A}_{B}R$(el problema inverso). Calcule las dos soluciones posibles. Demuestre esta solución inversa para los dos casos de la parte **a**). Use una comprobación circular para verificar sus resultados(es decir, introduzca los ángulos de Euler en el código de la parte **a**); tome la matriz de rotación $^{A}_{B}R$ resultante y utilicela como entrada para el código **b**); obtendrá dos conjuntos de respuestas; una debe ser la entrada original del usuario y la otra puede verificarse una vez más utilizando el código de la parte **a**) ).\n",
    "\n",
    "**c**) Para una rotación simple de $\\beta$ sobre el eje $Y$ solamente, para $\\beta=20º$ y $^{B}P=[1,0,1]^{T}$ calcule $^{A}P$; demuestre que sus resultados son correctos\n",
    "\n",
    "**d**) Compruebe los resultados con el toolbox de Corke\n",
    "***"
   ]
  },
  {
   "cell_type": "markdown",
   "metadata": {},
   "source": [
    "##Ángulos de Euler\n",
    "\n",
    " \n",
    "\n",
    "Otra posible descripción de una trama {B} puede ser:\n",
    "\n",
    " \n",
    "\n",
    "Comience con la trama que sea coincidente con una trama {A} conocida. Gire {B}  primero sobre $\\hat{Z}_B$ usando un ángulo $\\alpha$, después sobre $\\hat{Y}_B$, usando un ángulo $\\beta$, y finalmente sobre $\\hat{X}_B$ usando un ángulo $\\gamma$\n",
    "\n",
    " \n",
    "\n",
    "Asi la transformacion queda:\n",
    "\n",
    " \n",
    "\n",
    " \n",
    "\n",
    "$$^{A}_{B}R (\\alpha,\\beta,\\gamma) = R_Z(\\alpha) R_Y(\\beta) R_X(\\gamma)$$\n",
    "\n",
    " \n",
    "Por ello definimos la función como:"
   ]
  },
  {
   "cell_type": "code",
   "execution_count": 59,
   "metadata": {
    "collapsed": false
   },
   "outputs": [],
   "source": [
    "#definimos la función de rotación de Euler\n",
    "def Rot_Euler_ZYX(a,b,c):\n",
    "    M = Rot_Z(a) * Rot_Y(b) * Rot_X(c)\n",
    "    \n",
    "    return M"
   ]
  },
  {
   "cell_type": "code",
   "execution_count": 60,
   "metadata": {
    "collapsed": false
   },
   "outputs": [
    {
     "data": {
      "image/png": "[encoded data removed]",
      "text/latex": [
       "$$\\left[\\begin{matrix}\\cos{\\left (\\frac{\\pi \\alpha}{180} \\right )} \\cos{\\left (\\frac{\\pi \\beta}{180} \\right )} & - \\sin{\\left (\\frac{\\pi \\alpha}{180} \\right )} \\cos{\\left (\\frac{\\pi \\gamma}{180} \\right )} + \\sin{\\left (\\frac{\\pi \\beta}{180} \\right )} \\sin{\\left (\\frac{\\pi \\gamma}{180} \\right )} \\cos{\\left (\\frac{\\pi \\alpha}{180} \\right )} & \\sin{\\left (\\frac{\\pi \\alpha}{180} \\right )} \\sin{\\left (\\frac{\\pi \\gamma}{180} \\right )} + \\sin{\\left (\\frac{\\pi \\beta}{180} \\right )} \\cos{\\left (\\frac{\\pi \\alpha}{180} \\right )} \\cos{\\left (\\frac{\\pi \\gamma}{180} \\right )}\\\\\\sin{\\left (\\frac{\\pi \\alpha}{180} \\right )} \\cos{\\left (\\frac{\\pi \\beta}{180} \\right )} & \\sin{\\left (\\frac{\\pi \\alpha}{180} \\right )} \\sin{\\left (\\frac{\\pi \\beta}{180} \\right )} \\sin{\\left (\\frac{\\pi \\gamma}{180} \\right )} + \\cos{\\left (\\frac{\\pi \\alpha}{180} \\right )} \\cos{\\left (\\frac{\\pi \\gamma}{180} \\right )} & \\sin{\\left (\\frac{\\pi \\alpha}{180} \\right )} \\sin{\\left (\\frac{\\pi \\beta}{180} \\right )} \\cos{\\left (\\frac{\\pi \\gamma}{180} \\right )} - \\sin{\\left (\\frac{\\pi \\gamma}{180} \\right )} \\cos{\\left (\\frac{\\pi \\alpha}{180} \\right )}\\\\- \\sin{\\left (\\frac{\\pi \\beta}{180} \\right )} & \\sin{\\left (\\frac{\\pi \\gamma}{180} \\right )} \\cos{\\left (\\frac{\\pi \\beta}{180} \\right )} & \\cos{\\left (\\frac{\\pi \\beta}{180} \\right )} \\cos{\\left (\\frac{\\pi \\gamma}{180} \\right )}\\end{matrix}\\right]$$"
      ],
      "text/plain": [
       "⎡   ⎛π⋅α⎞    ⎛π⋅β⎞       ⎛π⋅α⎞    ⎛π⋅γ⎞      ⎛π⋅β⎞    ⎛π⋅γ⎞    ⎛π⋅α⎞     ⎛π⋅α⎞\n",
       "⎢cos⎜───⎟⋅cos⎜───⎟  - sin⎜───⎟⋅cos⎜───⎟ + sin⎜───⎟⋅sin⎜───⎟⋅cos⎜───⎟  sin⎜───⎟\n",
       "⎢   ⎝180⎠    ⎝180⎠       ⎝180⎠    ⎝180⎠      ⎝180⎠    ⎝180⎠    ⎝180⎠     ⎝180⎠\n",
       "⎢                                                                             \n",
       "⎢   ⎛π⋅α⎞    ⎛π⋅β⎞      ⎛π⋅α⎞    ⎛π⋅β⎞    ⎛π⋅γ⎞      ⎛π⋅α⎞    ⎛π⋅γ⎞      ⎛π⋅α⎞\n",
       "⎢sin⎜───⎟⋅cos⎜───⎟   sin⎜───⎟⋅sin⎜───⎟⋅sin⎜───⎟ + cos⎜───⎟⋅cos⎜───⎟   sin⎜───⎟\n",
       "⎢   ⎝180⎠    ⎝180⎠      ⎝180⎠    ⎝180⎠    ⎝180⎠      ⎝180⎠    ⎝180⎠      ⎝180⎠\n",
       "⎢                                                                             \n",
       "⎢        ⎛π⋅β⎞                        ⎛π⋅γ⎞    ⎛π⋅β⎞                          \n",
       "⎢    -sin⎜───⎟                     sin⎜───⎟⋅cos⎜───⎟                          \n",
       "⎣        ⎝180⎠                        ⎝180⎠    ⎝180⎠                          \n",
       "\n",
       "    ⎛π⋅γ⎞      ⎛π⋅β⎞    ⎛π⋅α⎞    ⎛π⋅γ⎞⎤\n",
       "⋅sin⎜───⎟ + sin⎜───⎟⋅cos⎜───⎟⋅cos⎜───⎟⎥\n",
       "    ⎝180⎠      ⎝180⎠    ⎝180⎠    ⎝180⎠⎥\n",
       "                                      ⎥\n",
       "    ⎛π⋅β⎞    ⎛π⋅γ⎞      ⎛π⋅γ⎞    ⎛π⋅α⎞⎥\n",
       "⋅sin⎜───⎟⋅cos⎜───⎟ - sin⎜───⎟⋅cos⎜───⎟⎥\n",
       "    ⎝180⎠    ⎝180⎠      ⎝180⎠    ⎝180⎠⎥\n",
       "                                      ⎥\n",
       "         ⎛π⋅β⎞    ⎛π⋅γ⎞               ⎥\n",
       "      cos⎜───⎟⋅cos⎜───⎟               ⎥\n",
       "         ⎝180⎠    ⎝180⎠               ⎦"
      ]
     },
     "execution_count": 60,
     "metadata": {},
     "output_type": "execute_result"
    }
   ],
   "source": [
    "T_ZYX = Rot_Euler_ZYX(alpha,beta, gamma)\n",
    "T_ZYX"
   ]
  },
  {
   "cell_type": "code",
   "execution_count": 61,
   "metadata": {
    "collapsed": false
   },
   "outputs": [
    {
     "data": {
      "image/png": "[encoded data removed]",
      "text/latex": [
       "$$\\left[\\begin{matrix}\\cos{\\left (\\frac{\\pi}{18} \\right )} \\cos{\\left (\\frac{\\pi}{9} \\right )} & - \\frac{\\sqrt{3}}{2} \\sin{\\left (\\frac{\\pi}{18} \\right )} + \\frac{1}{2} \\sin{\\left (\\frac{\\pi}{9} \\right )} \\cos{\\left (\\frac{\\pi}{18} \\right )} & \\frac{1}{2} \\sin{\\left (\\frac{\\pi}{18} \\right )} + \\frac{\\sqrt{3}}{2} \\sin{\\left (\\frac{\\pi}{9} \\right )} \\cos{\\left (\\frac{\\pi}{18} \\right )}\\\\\\sin{\\left (\\frac{\\pi}{18} \\right )} \\cos{\\left (\\frac{\\pi}{9} \\right )} & \\frac{1}{2} \\sin{\\left (\\frac{\\pi}{18} \\right )} \\sin{\\left (\\frac{\\pi}{9} \\right )} + \\frac{\\sqrt{3}}{2} \\cos{\\left (\\frac{\\pi}{18} \\right )} & - \\frac{1}{2} \\cos{\\left (\\frac{\\pi}{18} \\right )} + \\frac{\\sqrt{3}}{2} \\sin{\\left (\\frac{\\pi}{18} \\right )} \\sin{\\left (\\frac{\\pi}{9} \\right )}\\\\- \\sin{\\left (\\frac{\\pi}{9} \\right )} & \\frac{1}{2} \\cos{\\left (\\frac{\\pi}{9} \\right )} & \\frac{\\sqrt{3}}{2} \\cos{\\left (\\frac{\\pi}{9} \\right )}\\end{matrix}\\right]$$"
      ],
      "text/plain": [
       "⎡                    ___    ⎛π ⎞      ⎛π⎞    ⎛π ⎞      ⎛π ⎞     ___    ⎛π⎞    \n",
       "⎢                  ╲╱ 3 ⋅sin⎜──⎟   sin⎜─⎟⋅cos⎜──⎟   sin⎜──⎟   ╲╱ 3 ⋅sin⎜─⎟⋅cos\n",
       "⎢   ⎛π ⎞    ⎛π⎞             ⎝18⎠      ⎝9⎠    ⎝18⎠      ⎝18⎠            ⎝9⎠    \n",
       "⎢cos⎜──⎟⋅cos⎜─⎟  - ───────────── + ──────────────   ─────── + ────────────────\n",
       "⎢   ⎝18⎠    ⎝9⎠          2               2             2               2      \n",
       "⎢                                                                             \n",
       "⎢                    ⎛π ⎞    ⎛π⎞     ___    ⎛π ⎞        ⎛π ⎞     ___    ⎛π ⎞  \n",
       "⎢                 sin⎜──⎟⋅sin⎜─⎟   ╲╱ 3 ⋅cos⎜──⎟     cos⎜──⎟   ╲╱ 3 ⋅sin⎜──⎟⋅s\n",
       "⎢   ⎛π ⎞    ⎛π⎞      ⎝18⎠    ⎝9⎠            ⎝18⎠        ⎝18⎠            ⎝18⎠  \n",
       "⎢sin⎜──⎟⋅cos⎜─⎟   ────────────── + ─────────────   - ─────── + ───────────────\n",
       "⎢   ⎝18⎠    ⎝9⎠         2                2              2               2     \n",
       "⎢                                                                             \n",
       "⎢                                ⎛π⎞                           ___    ⎛π⎞     \n",
       "⎢                             cos⎜─⎟                         ╲╱ 3 ⋅cos⎜─⎟     \n",
       "⎢       ⎛π⎞                      ⎝9⎠                                  ⎝9⎠     \n",
       "⎢   -sin⎜─⎟                   ──────                         ────────────     \n",
       "⎣       ⎝9⎠                     2                                 2           \n",
       "\n",
       "⎛π ⎞ ⎤\n",
       "⎜──⎟ ⎥\n",
       "⎝18⎠ ⎥\n",
       "──── ⎥\n",
       "     ⎥\n",
       "     ⎥\n",
       "  ⎛π⎞⎥\n",
       "in⎜─⎟⎥\n",
       "  ⎝9⎠⎥\n",
       "─────⎥\n",
       "     ⎥\n",
       "     ⎥\n",
       "     ⎥\n",
       "     ⎥\n",
       "     ⎥\n",
       "     ⎥\n",
       "     ⎦"
      ]
     },
     "execution_count": 61,
     "metadata": {},
     "output_type": "execute_result"
    }
   ],
   "source": [
    "T_ZYX_i = Rot_Euler_ZYX(10,20,30)\n",
    "T_ZYX_i"
   ]
  },
  {
   "cell_type": "code",
   "execution_count": 62,
   "metadata": {
    "collapsed": false
   },
   "outputs": [
    {
     "data": {
      "image/png": "[encoded data removed]",
      "text/latex": [
       "$$\\left[\\begin{matrix}\\frac{\\sqrt{3}}{2} \\cos{\\left (0.499444444444444 \\pi \\right )} & - \\frac{\\sqrt{3}}{2} \\sin{\\left (\\frac{11 \\pi}{36} \\right )} \\sin{\\left (0.499444444444444 \\pi \\right )} - \\frac{1}{2} \\cos{\\left (\\frac{11 \\pi}{36} \\right )} & - \\frac{1}{2} \\sin{\\left (\\frac{11 \\pi}{36} \\right )} + \\frac{\\sqrt{3}}{2} \\sin{\\left (0.499444444444444 \\pi \\right )} \\cos{\\left (\\frac{11 \\pi}{36} \\right )}\\\\\\frac{1}{2} \\cos{\\left (0.499444444444444 \\pi \\right )} & - \\frac{1}{2} \\sin{\\left (\\frac{11 \\pi}{36} \\right )} \\sin{\\left (0.499444444444444 \\pi \\right )} + \\frac{\\sqrt{3}}{2} \\cos{\\left (\\frac{11 \\pi}{36} \\right )} & \\frac{1}{2} \\sin{\\left (0.499444444444444 \\pi \\right )} \\cos{\\left (\\frac{11 \\pi}{36} \\right )} + \\frac{\\sqrt{3}}{2} \\sin{\\left (\\frac{11 \\pi}{36} \\right )}\\\\- \\sin{\\left (0.499444444444444 \\pi \\right )} & - \\sin{\\left (\\frac{11 \\pi}{36} \\right )} \\cos{\\left (0.499444444444444 \\pi \\right )} & \\cos{\\left (\\frac{11 \\pi}{36} \\right )} \\cos{\\left (0.499444444444444 \\pi \\right )}\\end{matrix}\\right]$$"
      ],
      "text/plain": [
       "⎡                                    ___    ⎛11⋅π⎞                            \n",
       "⎢  ___                             ╲╱ 3 ⋅sin⎜────⎟⋅sin(0.499444444444444⋅π)   \n",
       "⎢╲╱ 3 ⋅cos(0.499444444444444⋅π)             ⎝ 36 ⎠                            \n",
       "⎢──────────────────────────────  - ──────────────────────────────────────── - \n",
       "⎢              2                                      2                       \n",
       "⎢                                                                             \n",
       "⎢                                     ⎛11⋅π⎞                              ___ \n",
       "⎢                                  sin⎜────⎟⋅sin(0.499444444444444⋅π)   ╲╱ 3 ⋅\n",
       "⎢   cos(0.499444444444444⋅π)          ⎝ 36 ⎠                                  \n",
       "⎢   ────────────────────────     - ────────────────────────────────── + ──────\n",
       "⎢              2                                   2                          \n",
       "⎢                                                                             \n",
       "⎢                                             ⎛11⋅π⎞                          \n",
       "⎢  -sin(0.499444444444444⋅π)              -sin⎜────⎟⋅cos(0.499444444444444⋅π) \n",
       "⎣                                             ⎝ 36 ⎠                          \n",
       "\n",
       "   ⎛11⋅π⎞       ⎛11⋅π⎞     ___                             ⎛11⋅π⎞⎤\n",
       "cos⎜────⎟    sin⎜────⎟   ╲╱ 3 ⋅sin(0.499444444444444⋅π)⋅cos⎜────⎟⎥\n",
       "   ⎝ 36 ⎠       ⎝ 36 ⎠                                     ⎝ 36 ⎠⎥\n",
       "─────────  - ───────── + ────────────────────────────────────────⎥\n",
       "    2            2                          2                    ⎥\n",
       "                                                                 ⎥\n",
       "   ⎛11⋅π⎞                               ⎛11⋅π⎞     ___    ⎛11⋅π⎞ ⎥\n",
       "cos⎜────⎟   sin(0.499444444444444⋅π)⋅cos⎜────⎟   ╲╱ 3 ⋅sin⎜────⎟ ⎥\n",
       "   ⎝ 36 ⎠                               ⎝ 36 ⎠            ⎝ 36 ⎠ ⎥\n",
       "─────────   ────────────────────────────────── + ─────────────── ⎥\n",
       " 2                          2                           2        ⎥\n",
       "                                                                 ⎥\n",
       "                        ⎛11⋅π⎞                                   ⎥\n",
       "                     cos⎜────⎟⋅cos(0.499444444444444⋅π)          ⎥\n",
       "                        ⎝ 36 ⎠                                   ⎦"
      ]
     },
     "execution_count": 62,
     "metadata": {},
     "output_type": "execute_result"
    }
   ],
   "source": [
    "T_ZYX_ii = Rot_Euler_ZYX(30,89.9,-55)\n",
    "T_ZYX_ii"
   ]
  },
  {
   "cell_type": "markdown",
   "metadata": {},
   "source": [
    "Como sabemos una matriz de rotación $R$ la podemos pensar como:\n",
    "\n",
    "$$R=[\\hat{X} \\hat{Y} \\hat{Z}]$$\n",
    "\n",
    "luego estos tres vectores unitarios son los ejes de alguna trama, escritos en términos de la trama de referencia. Cada uno es un vector unitario y los tres deben cumplir que sean mutuamente perpendiculares, por lo que podemos ver que hay seis restricciones en los nueve elementos de la matriz:\n",
    "\n",
    "$$| \\hat{X} | = 1$$\n",
    "\n",
    "$$| \\hat{Y} | = 1$$\n",
    "\n",
    "$$| \\hat{Z} | = 1$$\n",
    "\n",
    "$$\\hat{X}\\hat{Y}=0$$\n",
    "\n",
    "$$\\hat{X}\\hat{Z}=0$$\n",
    "\n",
    "$$\\hat{Y}\\hat{Z}=0$$\n"
   ]
  },
  {
   "cell_type": "code",
   "execution_count": 63,
   "metadata": {
    "collapsed": false
   },
   "outputs": [
    {
     "data": {
      "image/png": "[encoded data removed]",
      "text/latex": [
       "$$\\left[\\begin{matrix}\\cos{\\left (\\frac{\\pi}{18} \\right )} \\cos{\\left (\\frac{\\pi}{9} \\right )}\\\\\\sin{\\left (\\frac{\\pi}{18} \\right )} \\cos{\\left (\\frac{\\pi}{9} \\right )}\\\\- \\sin{\\left (\\frac{\\pi}{9} \\right )}\\end{matrix}\\right]$$"
      ],
      "text/plain": [
       "⎡   ⎛π ⎞    ⎛π⎞⎤\n",
       "⎢cos⎜──⎟⋅cos⎜─⎟⎥\n",
       "⎢   ⎝18⎠    ⎝9⎠⎥\n",
       "⎢              ⎥\n",
       "⎢   ⎛π ⎞    ⎛π⎞⎥\n",
       "⎢sin⎜──⎟⋅cos⎜─⎟⎥\n",
       "⎢   ⎝18⎠    ⎝9⎠⎥\n",
       "⎢              ⎥\n",
       "⎢       ⎛π⎞    ⎥\n",
       "⎢   -sin⎜─⎟    ⎥\n",
       "⎣       ⎝9⎠    ⎦"
      ]
     },
     "execution_count": 63,
     "metadata": {},
     "output_type": "execute_result"
    }
   ],
   "source": [
    "#Obtenemos el X \n",
    "X = T_ZYX_i[:,0]\n",
    "X"
   ]
  },
  {
   "cell_type": "code",
   "execution_count": 64,
   "metadata": {
    "collapsed": false
   },
   "outputs": [
    {
     "data": {
      "image/png": "[encoded data removed]",
      "text/latex": [
       "$$1.0$$"
      ],
      "text/plain": [
       "1.00"
      ]
     },
     "execution_count": 64,
     "metadata": {},
     "output_type": "execute_result"
    }
   ],
   "source": [
    "#evaluamos numéricamente\n",
    "X.norm().n(3)\n"
   ]
  },
  {
   "cell_type": "code",
   "execution_count": 65,
   "metadata": {
    "collapsed": false
   },
   "outputs": [
    {
     "data": {
      "image/png": "[encoded data removed]",
      "text/latex": [
       "$$\\left[\\begin{matrix}- \\frac{\\sqrt{3}}{2} \\sin{\\left (\\frac{\\pi}{18} \\right )} + \\frac{1}{2} \\sin{\\left (\\frac{\\pi}{9} \\right )} \\cos{\\left (\\frac{\\pi}{18} \\right )}\\\\\\frac{1}{2} \\sin{\\left (\\frac{\\pi}{18} \\right )} \\sin{\\left (\\frac{\\pi}{9} \\right )} + \\frac{\\sqrt{3}}{2} \\cos{\\left (\\frac{\\pi}{18} \\right )}\\\\\\frac{1}{2} \\cos{\\left (\\frac{\\pi}{9} \\right )}\\end{matrix}\\right]$$"
      ],
      "text/plain": [
       "⎡    ___    ⎛π ⎞      ⎛π⎞    ⎛π ⎞⎤\n",
       "⎢  ╲╱ 3 ⋅sin⎜──⎟   sin⎜─⎟⋅cos⎜──⎟⎥\n",
       "⎢           ⎝18⎠      ⎝9⎠    ⎝18⎠⎥\n",
       "⎢- ───────────── + ──────────────⎥\n",
       "⎢        2               2       ⎥\n",
       "⎢                                ⎥\n",
       "⎢    ⎛π ⎞    ⎛π⎞     ___    ⎛π ⎞ ⎥\n",
       "⎢ sin⎜──⎟⋅sin⎜─⎟   ╲╱ 3 ⋅cos⎜──⎟ ⎥\n",
       "⎢    ⎝18⎠    ⎝9⎠            ⎝18⎠ ⎥\n",
       "⎢ ────────────── + ───────────── ⎥\n",
       "⎢       2                2       ⎥\n",
       "⎢                                ⎥\n",
       "⎢                ⎛π⎞             ⎥\n",
       "⎢             cos⎜─⎟             ⎥\n",
       "⎢                ⎝9⎠             ⎥\n",
       "⎢             ──────             ⎥\n",
       "⎣               2                ⎦"
      ]
     },
     "execution_count": 65,
     "metadata": {},
     "output_type": "execute_result"
    }
   ],
   "source": [
    "#Obtenemos el Y (generico)\n",
    "Y = T_ZYX_i[:,1]\n",
    "Y"
   ]
  },
  {
   "cell_type": "code",
   "execution_count": 66,
   "metadata": {
    "collapsed": false
   },
   "outputs": [
    {
     "data": {
      "image/png": "[encoded data removed]",
      "text/latex": [
       "$$1.0$$"
      ],
      "text/plain": [
       "1.00"
      ]
     },
     "execution_count": 66,
     "metadata": {},
     "output_type": "execute_result"
    }
   ],
   "source": [
    "Y.norm().n(3)"
   ]
  },
  {
   "cell_type": "code",
   "execution_count": 67,
   "metadata": {
    "collapsed": false
   },
   "outputs": [
    {
     "data": {
      "image/png": "[encoded data removed]",
      "text/latex": [
       "$$\\left[\\begin{matrix}\\cos{\\left (\\frac{\\pi}{18} \\right )} \\cos{\\left (\\frac{\\pi}{9} \\right )}\\\\\\sin{\\left (\\frac{\\pi}{18} \\right )} \\cos{\\left (\\frac{\\pi}{9} \\right )}\\\\- \\sin{\\left (\\frac{\\pi}{9} \\right )}\\end{matrix}\\right]$$"
      ],
      "text/plain": [
       "⎡   ⎛π ⎞    ⎛π⎞⎤\n",
       "⎢cos⎜──⎟⋅cos⎜─⎟⎥\n",
       "⎢   ⎝18⎠    ⎝9⎠⎥\n",
       "⎢              ⎥\n",
       "⎢   ⎛π ⎞    ⎛π⎞⎥\n",
       "⎢sin⎜──⎟⋅cos⎜─⎟⎥\n",
       "⎢   ⎝18⎠    ⎝9⎠⎥\n",
       "⎢              ⎥\n",
       "⎢       ⎛π⎞    ⎥\n",
       "⎢   -sin⎜─⎟    ⎥\n",
       "⎣       ⎝9⎠    ⎦"
      ]
     },
     "execution_count": 67,
     "metadata": {},
     "output_type": "execute_result"
    }
   ],
   "source": [
    "#Obtenemos el Z \n",
    "Z = T_ZYX_i[:,2]\n",
    "X"
   ]
  },
  {
   "cell_type": "code",
   "execution_count": 68,
   "metadata": {
    "collapsed": false
   },
   "outputs": [
    {
     "data": {
      "image/png": "[encoded data removed]",
      "text/latex": [
       "$$1.0$$"
      ],
      "text/plain": [
       "1.00"
      ]
     },
     "execution_count": 68,
     "metadata": {},
     "output_type": "execute_result"
    }
   ],
   "source": [
    "Z.norm().n(3)"
   ]
  },
  {
   "cell_type": "code",
   "execution_count": 69,
   "metadata": {
    "collapsed": false
   },
   "outputs": [
    {
     "data": {
      "image/png": "[encoded data removed]",
      "text/latex": [
       "$$\\left[\\begin{matrix}-2.0 \\cdot 10^{-115}\\end{matrix}\\right]$$"
      ],
      "text/plain": [
       "[-0.e-115]"
      ]
     },
     "execution_count": 69,
     "metadata": {},
     "output_type": "execute_result"
    }
   ],
   "source": [
    "prod=X.T * Y\n",
    "prod.n(3)"
   ]
  },
  {
   "cell_type": "code",
   "execution_count": 70,
   "metadata": {
    "collapsed": false
   },
   "outputs": [
    {
     "data": {
      "image/png": "[encoded data removed]",
      "text/latex": [
       "$$\\left[\\begin{matrix}2.0 \\cdot 10^{-115}\\end{matrix}\\right]$$"
      ],
      "text/plain": [
       "[0.e-115]"
      ]
     },
     "execution_count": 70,
     "metadata": {},
     "output_type": "execute_result"
    }
   ],
   "source": [
    "prod2=X.T * Z\n",
    "prod2.n(3)"
   ]
  },
  {
   "cell_type": "code",
   "execution_count": 71,
   "metadata": {
    "collapsed": false
   },
   "outputs": [
    {
     "data": {
      "image/png": "[encoded data removed]",
      "text/latex": [
       "$$\\left[\\begin{matrix}1.0 \\cdot 10^{-115}\\end{matrix}\\right]$$"
      ],
      "text/plain": [
       "[0.e-115]"
      ]
     },
     "execution_count": 71,
     "metadata": {},
     "output_type": "execute_result"
    }
   ],
   "source": [
    "prod3=Y.T * Z\n",
    "prod3.n(3)"
   ]
  },
  {
   "cell_type": "code",
   "execution_count": 72,
   "metadata": {
    "collapsed": false
   },
   "outputs": [],
   "source": [
    "#Demostramos la hermosa propiedad(multiplicamos a izquierda y derecha por la traspuesta)\n",
    "\n",
    "a = T_ZYX_i * T_ZYX_i.T\n",
    "b = T_ZYX_i.T * T_ZYX_i"
   ]
  },
  {
   "cell_type": "code",
   "execution_count": 73,
   "metadata": {
    "collapsed": false
   },
   "outputs": [
    {
     "data": {
      "image/png": "[encoded data removed]",
      "text/latex": [
       "$$\\left[\\begin{matrix}1.0 & -1.0 \\cdot 10^{-156} & 5.0 \\cdot 10^{-156}\\\\-1.0 \\cdot 10^{-156} & 1.0 & 1.0 \\cdot 10^{-156}\\\\5.0 \\cdot 10^{-156} & 1.0 \\cdot 10^{-156} & 1.0\\end{matrix}\\right]$$"
      ],
      "text/plain": [
       "⎡  1.0     -0.e-156  0.e-156⎤\n",
       "⎢                           ⎥\n",
       "⎢-0.e-156    1.0     0.e-156⎥\n",
       "⎢                           ⎥\n",
       "⎣0.e-156   0.e-156     1.0  ⎦"
      ]
     },
     "execution_count": 73,
     "metadata": {},
     "output_type": "execute_result"
    }
   ],
   "source": [
    "a.n(10)"
   ]
  },
  {
   "cell_type": "code",
   "execution_count": 74,
   "metadata": {
    "collapsed": false
   },
   "outputs": [
    {
     "data": {
      "image/png": "[encoded data removed]",
      "text/latex": [
       "$$\\left[\\begin{matrix}1.0 & 5.0 \\cdot 10^{-156} & 9.0 \\cdot 10^{-156}\\\\5.0 \\cdot 10^{-156} & 1.0 & -1.0 \\cdot 10^{-156}\\\\9.0 \\cdot 10^{-156} & -1.0 \\cdot 10^{-156} & 1.0\\end{matrix}\\right]$$"
      ],
      "text/plain": [
       "⎡  1.0    0.e-156   0.e-155 ⎤\n",
       "⎢                           ⎥\n",
       "⎢0.e-156    1.0     -0.e-156⎥\n",
       "⎢                           ⎥\n",
       "⎣0.e-155  -0.e-156    1.0   ⎦"
      ]
     },
     "execution_count": 74,
     "metadata": {},
     "output_type": "execute_result"
    }
   ],
   "source": [
    "b.n(10)"
   ]
  },
  {
   "cell_type": "code",
   "execution_count": 75,
   "metadata": {
    "collapsed": false
   },
   "outputs": [],
   "source": [
    "#funcion para calcular los ángulos dada una matriz\n",
    "\n",
    "def get_angle(M):\n",
    "    #Calculamos beta y nos fijamos si es una singularidad\n",
    "    b1 = atan2(-M[2,0],sqrt(M[0,0]**2+M[1,0]**2))\n",
    "    if b1*180/pi == 90:\n",
    "        print 'caso degenerado'\n",
    "        a = 0\n",
    "        c = atan2(M[0,1],M[1,1])\n",
    "    \n",
    "    elif b1*180/pi == -90:\n",
    "        print 'caso degenerado'\n",
    "        a = 0\n",
    "        c = -atan2(-M[0,1],M[1,1])\n",
    "    \n",
    "    else:\n",
    "        \n",
    "        #b2 = atan2(-M[2,0],-sqrt(M[0,0]**2+M[1,0]**2))\n",
    "        #b2 = b*180/pi\n",
    "        \n",
    "        #calculamos alpha\n",
    "        a = atan2(M[1,0]/cos(b1),M[0,0]/cos(b1))\n",
    "        #calculamos gamma\n",
    "        c = atan2(M[2,1]/cos(b1),M[2,2]/cos(b1))\n",
    "    \n",
    "    a = a*180/pi\n",
    "    b1 = b1*180/pi\n",
    "    c = c*180/pi\n",
    "    \n",
    "    return  a.n(3),b1.n(3), c.n(3)"
   ]
  },
  {
   "cell_type": "code",
   "execution_count": 76,
   "metadata": {
    "collapsed": false
   },
   "outputs": [
    {
     "data": {
      "image/png": "[encoded data removed]",
      "text/latex": [
       "$$\\begin{pmatrix}10.0, & 20.0, & 30.0\\end{pmatrix}$$"
      ],
      "text/plain": [
       "(10.0, 20.0, 30.0)"
      ]
     },
     "execution_count": 76,
     "metadata": {},
     "output_type": "execute_result"
    }
   ],
   "source": [
    "angulos = get_angle(T_ZYX_i)\n",
    "angulos\n"
   ]
  },
  {
   "cell_type": "code",
   "execution_count": 77,
   "metadata": {
    "collapsed": false
   },
   "outputs": [
    {
     "data": {
      "image/png": "[encoded data removed]",
      "text/latex": [
       "$$\\begin{pmatrix}30.0, & 89.9, & -55.0\\end{pmatrix}$$"
      ],
      "text/plain": [
       "(30.0, 89.9, -55.0)"
      ]
     },
     "execution_count": 77,
     "metadata": {},
     "output_type": "execute_result"
    }
   ],
   "source": [
    "get_angle(T_ZYX_ii)\n"
   ]
  },
  {
   "cell_type": "code",
   "execution_count": 78,
   "metadata": {
    "collapsed": false
   },
   "outputs": [],
   "source": [
    "# C)\n",
    "T_Y = Rot_Y(20)"
   ]
  },
  {
   "cell_type": "code",
   "execution_count": 79,
   "metadata": {
    "collapsed": false
   },
   "outputs": [
    {
     "data": {
      "image/png": "[encoded data removed]",
      "text/latex": [
       "$$\\left[\\begin{matrix}1\\\\0\\\\1\\end{matrix}\\right]$$"
      ],
      "text/plain": [
       "⎡1⎤\n",
       "⎢ ⎥\n",
       "⎢0⎥\n",
       "⎢ ⎥\n",
       "⎣1⎦"
      ]
     },
     "execution_count": 79,
     "metadata": {},
     "output_type": "execute_result"
    }
   ],
   "source": [
    "#Vector sobre el plano x-z con Arg = 45\n",
    "P_B = Matrix([[1],[0],[1]])\n",
    "P_B"
   ]
  },
  {
   "cell_type": "code",
   "execution_count": 80,
   "metadata": {
    "collapsed": false
   },
   "outputs": [
    {
     "data": {
      "image/png": "[encoded data removed]",
      "text/latex": [
       "$$\\left[\\begin{matrix}\\sin{\\left (\\frac{\\pi}{9} \\right )} + \\cos{\\left (\\frac{\\pi}{9} \\right )}\\\\0\\\\- \\sin{\\left (\\frac{\\pi}{9} \\right )} + \\cos{\\left (\\frac{\\pi}{9} \\right )}\\end{matrix}\\right]$$"
      ],
      "text/plain": [
       "⎡    ⎛π⎞      ⎛π⎞ ⎤\n",
       "⎢ sin⎜─⎟ + cos⎜─⎟ ⎥\n",
       "⎢    ⎝9⎠      ⎝9⎠ ⎥\n",
       "⎢                 ⎥\n",
       "⎢        0        ⎥\n",
       "⎢                 ⎥\n",
       "⎢     ⎛π⎞      ⎛π⎞⎥\n",
       "⎢- sin⎜─⎟ + cos⎜─⎟⎥\n",
       "⎣     ⎝9⎠      ⎝9⎠⎦"
      ]
     },
     "execution_count": 80,
     "metadata": {},
     "output_type": "execute_result"
    }
   ],
   "source": [
    "#rotamos 20 grados el vector ahora el Arg = 45-20 = 25\n",
    "P_A = T_Y * P_B\n",
    "P_A"
   ]
  },
  {
   "cell_type": "code",
   "execution_count": 81,
   "metadata": {
    "collapsed": false
   },
   "outputs": [],
   "source": [
    "angulo = atan2(P_A[2],P_A[0])*180/pi"
   ]
  },
  {
   "cell_type": "code",
   "execution_count": 82,
   "metadata": {
    "collapsed": false
   },
   "outputs": [
    {
     "data": {
      "image/png": "[encoded data removed]",
      "text/latex": [
       "$$25.0$$"
      ],
      "text/plain": [
       "25.0"
      ]
     },
     "execution_count": 82,
     "metadata": {},
     "output_type": "execute_result"
    }
   ],
   "source": [
    "angulo.n(3)"
   ]
  },
  {
   "cell_type": "code",
   "execution_count": null,
   "metadata": {
    "collapsed": false
   },
   "outputs": [],
   "source": []
  }
 ],
 "metadata": {
  "kernelspec": {
   "display_name": "Python 2",
   "language": "python",
   "name": "python2"
  },
  "language_info": {
   "codemirror_mode": {
    "name": "ipython",
    "version": 2
   },
   "file_extension": ".py",
   "mimetype": "text/x-python",
   "name": "python",
   "nbconvert_exporter": "python",
   "pygments_lexer": "ipython2",
   "version": "2.7.9"
  }
 },
 "nbformat": 4,
 "nbformat_minor": 0
}
