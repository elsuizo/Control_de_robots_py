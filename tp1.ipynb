{
 "metadata": {
  "name": ""
 },
 "nbformat": 3,
 "nbformat_minor": 0,
 "worksheets": [
  {
   "cells": [
    {
     "cell_type": "markdown",
     "metadata": {},
     "source": [
      "#Mart\u00edn Nobl\u00eda\n",
      "\n",
      "##Tp1\n",
      "\n",
      "\n",
      "##Control de Robots 2013\n",
      "\n",
      "Licencia: ![](http://i.creativecommons.org/l/by-sa/2.5/ar/88x31.png)\n",
      "\n",
      "\n",
      "##Ejercicio 1\n",
      "\n",
      "#### Un vector $^{A}P$ es rotado alrededor de $Z_A$ un \u00e1ngulo $\\theta$ y luego rotado alrededor de $X_A$ un \u00e1ngulo $\\phi$. Escribir la matriz rotaci\u00f3n que describe las rotaciones anteriores en el orden en que se dieron."
     ]
    },
    {
     "cell_type": "code",
     "collapsed": false,
     "input": [
      "from sympy import *\n",
      "\n",
      "from IPython.core.display import Image \n"
     ],
     "language": "python",
     "metadata": {},
     "outputs": [],
     "prompt_number": 1
    },
    {
     "cell_type": "code",
     "collapsed": false,
     "input": [
      "#Con esto las salidas van a ser en LaTeX\n",
      "init_printing(use_latex=True)"
     ],
     "language": "python",
     "metadata": {},
     "outputs": [],
     "prompt_number": 27
    },
    {
     "cell_type": "code",
     "collapsed": false,
     "input": [
      "Image(filename='dibujo_tp1_ej1.jpg')"
     ],
     "language": "python",
     "metadata": {},
     "outputs": [
      {
       "jpeg": "[encoded data removed]",
       "metadata": {},
       "output_type": "pyout",
       "prompt_number": 28,
       "text": [
        "<IPython.core.display.Image object at 0xbe34fec>"
       ]
      }
     ],
     "prompt_number": 28
    },
    {
     "cell_type": "markdown",
     "metadata": {},
     "source": [
      "En este caso el vector rota sobre los ejes del sistema de referencia fijo {A} por ello la rotaci\u00f3n total es la composici\u00f3n de las rotaciones sobre el eje $\\hat{Z}_A$ y $\\hat{X}_A$, esta composici\u00f3n se calcula como sabemos multiplicando las matrices de cada transformaci\u00f3n, osea:\n",
      "\n",
      "\\begin{equation}\n",
      "R(\\theta,\\phi) = R_X(\\phi) R_Z(\\theta)\n",
      "\\end{equation}\n"
     ]
    },
    {
     "cell_type": "code",
     "collapsed": false,
     "input": [
      "#Funcion simb\u00f3lica para una rotaci\u00f3n sobre el eje X\n",
      "def Rot_X(angle):\n",
      "    rad = angle*pi/180\n",
      "    M = Matrix([[1,0,0],[ 0,cos(rad),-sin(rad)],[0,sin(rad), cos(rad)]])\n",
      "    return M\n",
      "\n",
      "#Funcion simb\u00f3lica para una rotaci\u00f3n sobre el eje Y\n",
      "def Rot_Y(angle):\n",
      "    rad = angle*pi/180\n",
      "    M = Matrix([[cos(rad),0,sin(rad)],[ 0,1,0],[-sin(rad), 0,cos(rad)]])\n",
      "    return M\n",
      "\n",
      "#Funcion simb\u00f3lica para una rotaci\u00f3n sobre el eje Z\n",
      "def Rot_Z(angle):\n",
      "    rad = angle*pi/180\n",
      "    M = Matrix([[cos(rad),- sin(rad),0],[ sin(rad), cos(rad), 0],[0,0,1]])\n",
      "    return M\n",
      "\n",
      "#Funci\u00f3n para la rotaci\u00f3n de \u00e1ngulos fijos XZ\n",
      "\n",
      "def Rot_XZ(a,b):\n",
      "    \n",
      "    M = Rot_X(b) * Rot_Z(a)\n",
      "    \n",
      "    return M"
     ],
     "language": "python",
     "metadata": {},
     "outputs": [],
     "prompt_number": 29
    },
    {
     "cell_type": "code",
     "collapsed": false,
     "input": [
      "#estos son simbolos especiales que los toma como letras griegas directamente(muuy groso)\n",
      "alpha, beta , gamma, phi, theta =symbols('alpha beta gamma phi theta')"
     ],
     "language": "python",
     "metadata": {},
     "outputs": [],
     "prompt_number": 30
    },
    {
     "cell_type": "code",
     "collapsed": false,
     "input": [
      "#Matriz de rotaci\u00f3n simb\u00f3lica\n",
      "T_XZ = Rot_XZ(theta,phi)\n",
      "T_XZ"
     ],
     "language": "python",
     "metadata": {},
     "outputs": [
      {
       "latex": [
        "$$\\left[\\begin{smallmatrix}\\cos{\\left (\\frac{1}{180} \\pi \\theta \\right )} & - \\sin{\\left (\\frac{1}{180} \\pi \\theta \\right )} & 0\\\\\\sin{\\left (\\frac{1}{180} \\pi \\theta \\right )} \\cos{\\left (\\frac{1}{180} \\pi \\phi \\right )} & \\cos{\\left (\\frac{1}{180} \\pi \\phi \\right )} \\cos{\\left (\\frac{1}{180} \\pi \\theta \\right )} & - \\sin{\\left (\\frac{1}{180} \\pi \\phi \\right )}\\\\\\sin{\\left (\\frac{1}{180} \\pi \\phi \\right )} \\sin{\\left (\\frac{1}{180} \\pi \\theta \\right )} & \\sin{\\left (\\frac{1}{180} \\pi \\phi \\right )} \\cos{\\left (\\frac{1}{180} \\pi \\theta \\right )} & \\cos{\\left (\\frac{1}{180} \\pi \\phi \\right )}\\end{smallmatrix}\\right]$$"
       ],
       "metadata": {},
       "output_type": "pyout",
       "png": "[encoded data removed]",
       "prompt_number": 31,
       "text": [
        "\u23a1       \u239b\u03c0\u22c5\u03b8\u239e               \u239b\u03c0\u22c5\u03b8\u239e               \u23a4\n",
        "\u23a2    cos\u239c\u2500\u2500\u2500\u239f           -sin\u239c\u2500\u2500\u2500\u239f          0    \u23a5\n",
        "\u23a2       \u239d180\u23a0               \u239d180\u23a0               \u23a5\n",
        "\u23a2                                               \u23a5\n",
        "\u23a2   \u239b\u03c0\u22c5\u03b8\u239e    \u239b\u03c0\u22c5\u03c6\u239e     \u239b\u03c0\u22c5\u03c6\u239e    \u239b\u03c0\u22c5\u03b8\u239e      \u239b\u03c0\u22c5\u03c6\u239e\u23a5\n",
        "\u23a2sin\u239c\u2500\u2500\u2500\u239f\u22c5cos\u239c\u2500\u2500\u2500\u239f  cos\u239c\u2500\u2500\u2500\u239f\u22c5cos\u239c\u2500\u2500\u2500\u239f  -sin\u239c\u2500\u2500\u2500\u239f\u23a5\n",
        "\u23a2   \u239d180\u23a0    \u239d180\u23a0     \u239d180\u23a0    \u239d180\u23a0      \u239d180\u23a0\u23a5\n",
        "\u23a2                                               \u23a5\n",
        "\u23a2   \u239b\u03c0\u22c5\u03c6\u239e    \u239b\u03c0\u22c5\u03b8\u239e     \u239b\u03c0\u22c5\u03c6\u239e    \u239b\u03c0\u22c5\u03b8\u239e     \u239b\u03c0\u22c5\u03c6\u239e \u23a5\n",
        "\u23a2sin\u239c\u2500\u2500\u2500\u239f\u22c5sin\u239c\u2500\u2500\u2500\u239f  sin\u239c\u2500\u2500\u2500\u239f\u22c5cos\u239c\u2500\u2500\u2500\u239f  cos\u239c\u2500\u2500\u2500\u239f \u23a5\n",
        "\u23a3   \u239d180\u23a0    \u239d180\u23a0     \u239d180\u23a0    \u239d180\u23a0     \u239d180\u23a0 \u23a6"
       ]
      }
     ],
     "prompt_number": 31
    },
    {
     "cell_type": "code",
     "collapsed": false,
     "input": [
      "#probemos con un ejemplo \n",
      "P = Matrix([[1],[0],[0]])\n",
      "P"
     ],
     "language": "python",
     "metadata": {},
     "outputs": [
      {
       "latex": [
        "$$\\left[\\begin{smallmatrix}1\\\\0\\\\0\\end{smallmatrix}\\right]$$"
       ],
       "metadata": {},
       "output_type": "pyout",
       "png": "[encoded data removed]",
       "prompt_number": 32,
       "text": [
        "\u23a11\u23a4\n",
        "\u23a2 \u23a5\n",
        "\u23a20\u23a5\n",
        "\u23a2 \u23a5\n",
        "\u23a30\u23a6"
       ]
      }
     ],
     "prompt_number": 32
    },
    {
     "cell_type": "code",
     "collapsed": false,
     "input": [
      "#lo vamos a girar $\\theta$ = 90 y $phi$=90 (Tiene que dar Z)\n",
      "P_new = T_XZ.subs([(theta,90),(phi,90)]) * P\n",
      "P_new"
     ],
     "language": "python",
     "metadata": {},
     "outputs": [
      {
       "latex": [
        "$$\\left[\\begin{smallmatrix}0\\\\0\\\\1\\end{smallmatrix}\\right]$$"
       ],
       "metadata": {},
       "output_type": "pyout",
       "png": "[encoded data removed]",
       "prompt_number": 33,
       "text": [
        "\u23a10\u23a4\n",
        "\u23a2 \u23a5\n",
        "\u23a20\u23a5\n",
        "\u23a2 \u23a5\n",
        "\u23a31\u23a6"
       ]
      }
     ],
     "prompt_number": 33
    },
    {
     "cell_type": "markdown",
     "metadata": {},
     "source": [
      "## Ejercicio 2\n",
      "\n",
      "Un vector $^{A}P$ es rotado alrededor de $\\hat{Y}_A$ un \u00e1ngulo de 30\u00b0 y luego rotado alrededor de $\\hat{X}_A$\n",
      "un \u00e1ngulo de 45\u00b0. Escribir la matriz rotaci\u00f3n que describe las rotaciones anteriores en el\n",
      "orden en que se dieron."
     ]
    },
    {
     "cell_type": "markdown",
     "metadata": {},
     "source": [
      "En este caso la composici\u00f3n de rotaciones fijas quedan:\n",
      "\n",
      "$$R(\\theta,\\phi) = R_X(\\phi) R_Y(\\theta)$$\n"
     ]
    },
    {
     "cell_type": "code",
     "collapsed": false,
     "input": [
      "def Rot_XY(a,b):\n",
      "    M = Rot_X(b) * Rot_Y(a)\n",
      "    \n",
      "    return M"
     ],
     "language": "python",
     "metadata": {},
     "outputs": [],
     "prompt_number": 34
    },
    {
     "cell_type": "code",
     "collapsed": false,
     "input": [
      "T_XY = Rot_XY(theta,phi)"
     ],
     "language": "python",
     "metadata": {},
     "outputs": [],
     "prompt_number": 35
    },
    {
     "cell_type": "code",
     "collapsed": false,
     "input": [
      "T_XY.subs([(theta,30),(phi,45)])"
     ],
     "language": "python",
     "metadata": {},
     "outputs": [
      {
       "latex": [
        "$$\\left[\\begin{smallmatrix}\\frac{1}{2} \\sqrt{3} & 0 & \\frac{1}{2}\\\\\\frac{1}{4} \\sqrt{2} & \\frac{1}{2} \\sqrt{2} & - \\frac{1}{4} \\sqrt{6}\\\\- \\frac{1}{4} \\sqrt{2} & \\frac{1}{2} \\sqrt{2} & \\frac{1}{4} \\sqrt{6}\\end{smallmatrix}\\right]$$"
       ],
       "metadata": {},
       "output_type": "pyout",
       "png": "[encoded data removed]",
       "prompt_number": 36,
       "text": [
        "\u23a1  ___                \u23a4\n",
        "\u23a2\u2572\u2571 3                 \u23a5\n",
        "\u23a2\u2500\u2500\u2500\u2500\u2500     0     1/2  \u23a5\n",
        "\u23a2  2                  \u23a5\n",
        "\u23a2                     \u23a5\n",
        "\u23a2  ___     ___     ___\u23a5\n",
        "\u23a2\u2572\u2571 2    \u2572\u2571 2   -\u2572\u2571 6 \u23a5\n",
        "\u23a2\u2500\u2500\u2500\u2500\u2500   \u2500\u2500\u2500\u2500\u2500  \u2500\u2500\u2500\u2500\u2500\u2500\u23a5\n",
        "\u23a2  4       2      4   \u23a5\n",
        "\u23a2                     \u23a5\n",
        "\u23a2   ___    ___    ___ \u23a5\n",
        "\u23a2-\u2572\u2571 2   \u2572\u2571 2   \u2572\u2571 6  \u23a5\n",
        "\u23a2\u2500\u2500\u2500\u2500\u2500\u2500  \u2500\u2500\u2500\u2500\u2500  \u2500\u2500\u2500\u2500\u2500 \u23a5\n",
        "\u23a3  4       2      4   \u23a6"
       ]
      }
     ],
     "prompt_number": 36
    },
    {
     "cell_type": "markdown",
     "metadata": {},
     "source": [
      "##Ejercicio 3\n",
      "\n",
      "El sistema de referencia {B} se conforma de la siguiente manera: inicialmente coincide \n",
      "con {A}, luego lo rotamos alrededor de $\\hat{Z}_B$ un \u00e1ngulo $\\theta$ y luego, al resultado anterior, lo\n",
      "\n",
      "rotamos alrededor de $\\hat{X}_B$ un \u00e1ngulo $\\phi$. Escribir la matriz rotaci\u00f3n que describe el cambio de\n",
      "descripci\u00f3n desde el vector $^{B}P$  al  $^{A}P$.\n",
      "\n",
      "\n",
      "***\n",
      "\n"
     ]
    },
    {
     "cell_type": "markdown",
     "metadata": {},
     "source": [
      "De acuerdo al enunciado, estamos girando el sistema de referencia {A} con respecto al sistema {B}, osea que tenemos:\n",
      "\n",
      "\\begin{equation}\n",
      "^{B}_{A}R( \\phi, \\theta) = R_Z(\\theta) R_X(\\phi)\n",
      "\\end{equation}"
     ]
    },
    {
     "cell_type": "code",
     "collapsed": false,
     "input": [
      "def Rot_XZ(a,b):\n",
      "    \n",
      "    M = Rot_Z(b) * Rot_X(a)\n",
      "    \n",
      "    return M"
     ],
     "language": "python",
     "metadata": {},
     "outputs": [],
     "prompt_number": 37
    },
    {
     "cell_type": "code",
     "collapsed": false,
     "input": [
      "T_XZ = Rot_XZ(phi,theta)\n",
      "T_XZ"
     ],
     "language": "python",
     "metadata": {},
     "outputs": [
      {
       "latex": [
        "$$\\left[\\begin{smallmatrix}\\cos{\\left (\\frac{1}{180} \\pi \\theta \\right )} & - \\sin{\\left (\\frac{1}{180} \\pi \\theta \\right )} \\cos{\\left (\\frac{1}{180} \\pi \\phi \\right )} & \\sin{\\left (\\frac{1}{180} \\pi \\phi \\right )} \\sin{\\left (\\frac{1}{180} \\pi \\theta \\right )}\\\\\\sin{\\left (\\frac{1}{180} \\pi \\theta \\right )} & \\cos{\\left (\\frac{1}{180} \\pi \\phi \\right )} \\cos{\\left (\\frac{1}{180} \\pi \\theta \\right )} & - \\sin{\\left (\\frac{1}{180} \\pi \\phi \\right )} \\cos{\\left (\\frac{1}{180} \\pi \\theta \\right )}\\\\0 & \\sin{\\left (\\frac{1}{180} \\pi \\phi \\right )} & \\cos{\\left (\\frac{1}{180} \\pi \\phi \\right )}\\end{smallmatrix}\\right]$$"
       ],
       "metadata": {},
       "output_type": "pyout",
       "png": "[encoded data removed]",
       "prompt_number": 38,
       "text": [
        "\u23a1   \u239b\u03c0\u22c5\u03b8\u239e      \u239b\u03c0\u22c5\u03b8\u239e    \u239b\u03c0\u22c5\u03c6\u239e     \u239b\u03c0\u22c5\u03c6\u239e    \u239b\u03c0\u22c5\u03b8\u239e \u23a4\n",
        "\u23a2cos\u239c\u2500\u2500\u2500\u239f  -sin\u239c\u2500\u2500\u2500\u239f\u22c5cos\u239c\u2500\u2500\u2500\u239f  sin\u239c\u2500\u2500\u2500\u239f\u22c5sin\u239c\u2500\u2500\u2500\u239f \u23a5\n",
        "\u23a2   \u239d180\u23a0      \u239d180\u23a0    \u239d180\u23a0     \u239d180\u23a0    \u239d180\u23a0 \u23a5\n",
        "\u23a2                                                \u23a5\n",
        "\u23a2   \u239b\u03c0\u22c5\u03b8\u239e     \u239b\u03c0\u22c5\u03c6\u239e    \u239b\u03c0\u22c5\u03b8\u239e       \u239b\u03c0\u22c5\u03c6\u239e    \u239b\u03c0\u22c5\u03b8\u239e\u23a5\n",
        "\u23a2sin\u239c\u2500\u2500\u2500\u239f  cos\u239c\u2500\u2500\u2500\u239f\u22c5cos\u239c\u2500\u2500\u2500\u239f   -sin\u239c\u2500\u2500\u2500\u239f\u22c5cos\u239c\u2500\u2500\u2500\u239f\u23a5\n",
        "\u23a2   \u239d180\u23a0     \u239d180\u23a0    \u239d180\u23a0       \u239d180\u23a0    \u239d180\u23a0\u23a5\n",
        "\u23a2                                                \u23a5\n",
        "\u23a2                  \u239b\u03c0\u22c5\u03c6\u239e               \u239b\u03c0\u22c5\u03c6\u239e     \u23a5\n",
        "\u23a2   0           sin\u239c\u2500\u2500\u2500\u239f            cos\u239c\u2500\u2500\u2500\u239f     \u23a5\n",
        "\u23a3                  \u239d180\u23a0               \u239d180\u23a0     \u23a6"
       ]
      }
     ],
     "prompt_number": 38
    },
    {
     "cell_type": "markdown",
     "metadata": {},
     "source": [
      "## Ejercicio 4\n",
      "A partir de los siguientes sistemas de referencia, dibujar un diagrama que muestre cada\n",
      "una de las transformaciones. Luego hallar $^{B}_{C}T$ .\n",
      "\n",
      "$$^{U}_{A}T = \\begin{bmatrix}\n",
      "            0.866 & -0.500 & 0.000 & 11.0 \\\\\\\\\n",
      "            0.500 & 0.866 & 0.000  & -3.0 \\\\\\\\\n",
      "            0.000 & 0.000 & 1.000 & 8.0 \\\\\\\\\n",
      "            0 & 0 & 0 & 1    \n",
      "      \\end{bmatrix}$$\n",
      "\n",
      "\n",
      "$$^{B}_{A}T = \\begin{bmatrix}\n",
      "            1 & 0 & 0.000 & 0 \\\\\\\\\n",
      "            0.000 & 0.866 & -0.500  & 10.0 \\\\\\\\\n",
      "            0.000 & 0.500 & 0.866 & -20.0 \\\\\\\\\n",
      "            0 & 0 & 0 & 1    \n",
      "      \\end{bmatrix}$$\n",
      "\n",
      "\n",
      "$$^{C}_{U}T = \\begin{bmatrix}\n",
      "            0.866 & -0.500 & 0.000 & -3.0 \\\\\\\\\n",
      "            0.433 & 0.750 & -0.500  & -3.0 \\\\\\\\\n",
      "            0.250 & 0.430 & 0.866 & 3.0 \\\\\\\\\n",
      "            0 & 0 & 0 & 1    \n",
      "      \\end{bmatrix}$$\n"
     ]
    },
    {
     "cell_type": "markdown",
     "metadata": {},
     "source": [
      "Esquem\u00e1ticamente tenemos:"
     ]
    },
    {
     "cell_type": "code",
     "collapsed": false,
     "input": [
      "Image(filename='dibujo_eje4.jpg')"
     ],
     "language": "python",
     "metadata": {},
     "outputs": [
      {
       "jpeg": "[encoded data removed]",
       "metadata": {},
       "output_type": "pyout",
       "prompt_number": 39,
       "text": [
        "<IPython.core.display.Image object at 0xbe32eec>"
       ]
      }
     ],
     "prompt_number": 39
    },
    {
     "cell_type": "markdown",
     "metadata": {},
     "source": [
      "Queremos hallar $^{B}_{C}T$ por ello planteamos la siguiente igualdad:\n",
      "\\begin{aligned}\n",
      "^{C}_{U}T ^{U}_{A}T =  ((^{B}_{C}T)^{-1} )^{B}_{A}T \\\\\n",
      "((^{B}_{C}T)^{-1} ) = (^{C}_{U}T) (^{U}_{A}T) (^{B}_{A}T)^{-1}\\\\\n",
      "(^{B}_{C}T) = ((^{C}_{U}T) (^{U}_{A}T) (^{B}_{A}T)^{-1})^{-1}\\\\\n",
      "(^{B}_{C}T) = (^{B}_{A}T) ((^{U}_{A}T))^{-1} ((^{C}_{U}T))^{-1} \\\\\n",
      "(^{B}_{C}T) = (^{B}_{A}T) (^{A}_{U}T) (^{U}_{C}T) \\\\\n",
      "\\end{aligned}"
     ]
    },
    {
     "cell_type": "code",
     "collapsed": false,
     "input": [
      "%%latex\n",
      "\\begin{aligned}\n",
      "^{C}_{U}T ^{U}_{A}T =  ((^{B}_{C}T)^{-1} )^{B}_{A}T \\\\\n",
      "((^{B}_{C}T)^{-1} ) = (^{C}_{U}T) (^{U}_{A}T) (^{B}_{A}T)^{-1}\\\\\n",
      "(^{B}_{C}T) = ((^{C}_{U}T) (^{U}_{A}T) (^{B}_{A}T)^{-1})^{-1}\\\\\n",
      "(^{B}_{C}T) = (^{B}_{A}T) ((^{U}_{A}T))^{-1} ((^{C}_{U}T))^{-1} \\\\\n",
      "(^{B}_{C}T) = (^{B}_{A}T) (^{A}_{U}T) (^{U}_{C}T) \\\\\n",
      "\\end{aligned}"
     ],
     "language": "python",
     "metadata": {},
     "outputs": [
      {
       "latex": [
        "\\begin{aligned}\n",
        "^{C}_{U}T ^{U}_{A}T =  ((^{B}_{C}T)^{-1} )^{B}_{A}T \\\\\n",
        "((^{B}_{C}T)^{-1} ) = (^{C}_{U}T) (^{U}_{A}T) (^{B}_{A}T)^{-1}\\\\\n",
        "(^{B}_{C}T) = ((^{C}_{U}T) (^{U}_{A}T) (^{B}_{A}T)^{-1})^{-1}\\\\\n",
        "(^{B}_{C}T) = (^{B}_{A}T) ((^{U}_{A}T))^{-1} ((^{C}_{U}T))^{-1} \\\\\n",
        "(^{B}_{C}T) = (^{B}_{A}T) (^{A}_{U}T) (^{U}_{C}T) \\\\\n",
        "\\end{aligned}"
       ],
       "metadata": {},
       "output_type": "display_data",
       "text": [
        "<IPython.core.display.Latex object at 0xbf34cac>"
       ]
      }
     ],
     "prompt_number": 48
    },
    {
     "cell_type": "code",
     "collapsed": false,
     "input": [
      "#definimos las matrices \n",
      "T_UA = Matrix([[0.866,-0.500,0.000,11.0],[0.500,0.866,0.000,-3.0],[0,0,1,8.0],[0,0,0,1]])\n",
      "T_BA = Matrix([[1,0,0,0],[0,0.866,-0.500,10],[0,0.500,0.866,-20.0],[0,0,0,1]])\n",
      "T_CU = Matrix([[0.866,-0.500,0,-3],[0.433,0.750,0.500,-3.0],[0.250,0.430,0.866,3.0],[0,0,0,1]])\n",
      "\n"
     ],
     "language": "python",
     "metadata": {},
     "outputs": [],
     "prompt_number": 49
    },
    {
     "cell_type": "markdown",
     "metadata": {},
     "source": [
      "Recordemos la hermosa propiedad $(^{B}_{A}T)^{-1}=(^{B}_{A}T)^{T}=(^{A}_{B}T)$\n"
     ]
    },
    {
     "cell_type": "code",
     "collapsed": false,
     "input": [
      "T_BC = T_BA * T_UA.T * T_CU.T\n",
      "\n",
      "T_BC"
     ],
     "language": "python",
     "metadata": {},
     "outputs": [
      {
       "latex": [
        "$$\\left[\\begin{smallmatrix}0.499956 & 0.749978 & 0.4315 & 0\\\\79.510044 & 35.254978 & 113.66123108 & 10\\\\-160.953 & -69.6105 & -226.886354 & -20.0\\\\8.026 & 3.513 & 11.388 & 1\\end{smallmatrix}\\right]$$"
       ],
       "metadata": {},
       "output_type": "pyout",
       "png": "[encoded data removed]",
       "prompt_number": 50,
       "text": [
        "\u23a10.499956   0.749978      0.4315       0  \u23a4\n",
        "\u23a2                                         \u23a5\n",
        "\u23a279.510044  35.254978  113.66123108   10  \u23a5\n",
        "\u23a2                                         \u23a5\n",
        "\u23a2-160.953   -69.6105   -226.886354   -20.0\u23a5\n",
        "\u23a2                                         \u23a5\n",
        "\u23a3  8.026      3.513       11.388       1  \u23a6"
       ]
      }
     ],
     "prompt_number": 50
    },
    {
     "cell_type": "code",
     "collapsed": false,
     "input": [],
     "language": "python",
     "metadata": {},
     "outputs": []
    }
   ],
   "metadata": {}
  }
 ]
}