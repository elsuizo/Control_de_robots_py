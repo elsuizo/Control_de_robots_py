{
 "metadata": {
  "name": ""
 },
 "nbformat": 3,
 "nbformat_minor": 0,
 "worksheets": [
  {
   "cells": [
    {
     "cell_type": "markdown",
     "metadata": {},
     "source": [
      "#Mart\u00edn Nobl\u00eda\n",
      "\n",
      "\n",
      "##Tp6\n",
      "\n",
      "<img src=\"files/Imagenes/copy_left.png\" style=\"float: left;\"/>\n",
      "<div style=\"clear: both;\"> \n",
      "\n",
      "##Control de Robots 2013\n",
      "\n",
      "###Ingenier\u00eda en Automatizaci\u00f3n y Control \n",
      "###Universidad Nacional de Quilmes\n",
      "\n",
      "\n",
      "\n",
      "\n",
      "##Ejercicio 1\n",
      "\n",
      "####Este ejercicio se enfoca en el an\u00e1lisis de din\u00e1mica inversa para el robot planar 2-DOF 2R. Este robot constituye las primeras dos articulaciones R y los primeros dos v\u00ednculos m\u00f3viles del robot planar 3-DOF 3R. \n",
      "\n",
      "####Para el robot planar 2R, calcule los momentos de torsi\u00f3n de artuculaciones requeridas(es decir, resuelva el problema de din\u00e1mica inversa ) para proporcionar el movimiento comandado en cada intervalo, en un esquema de control con velocidad resuelta. Puede usar el m\u00e9todo din\u00e1mico de Lagrange.\n",
      "\n",
      "Dadas :\n",
      "\n",
      "$L_{1}= 1.0(m)$, $L_{2}=0.5(m)$  ambos v\u00ednculos son de acero s\u00f3lido con una densidad de masa $\\rho=7806(kg/m^{3})$ ambos tienen las dimensiones de anchura y grosor $\\omega=t=5(cm)$. Se supone que las articulaciones angulares son perfectas, conectando los v\u00ednculos precisamente en sus extremos(lo que no es fisicamente posible )   \n",
      "\n",
      "Los \u00e1ngulos iniciales son :\n",
      "\n",
      "$\\Theta=[\\theta_{1};\\theta_{2}]^{T}=[10;90]$\n",
      "\n",
      "La velocidad cartesiana comandada(constante) es : $^{0}\\dot{X}=[\\dot{x};\\dot{y}]^{T}=[0,0.5](m/s)$\n",
      "\n",
      "Simule el movimiento en $1(seg)$, con un intervalo de tiempo de control de $0.001(seg)$. Presente cinco trazos(cada conjunto en un gr\u00e1fico separado ) :\n",
      "\n",
      "* Los dos \u00e1ngulos de articulaciones \n",
      "\n",
      "\n",
      "\n"
     ]
    },
    {
     "cell_type": "code",
     "collapsed": false,
     "input": [],
     "language": "python",
     "metadata": {},
     "outputs": []
    }
   ],
   "metadata": {}
  }
 ]
}