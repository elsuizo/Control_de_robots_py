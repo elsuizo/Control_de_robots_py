{
 "metadata": {
  "name": ""
 },
 "nbformat": 3,
 "nbformat_minor": 0,
 "worksheets": [
  {
   "cells": [
    {
     "cell_type": "markdown",
     "metadata": {},
     "source": [
      "#Mart\u00edn Nobl\u00eda\n",
      "\n",
      "##Tp5\n",
      "\n",
      "<img src=\"files/Imagenes/copy_left.png\" style=\"float: left;\"/>\n",
      "<div style=\"clear: both;\"> \n",
      "\n",
      "##Control de Robots 2013\n",
      "\n",
      "###Ingenier\u00eda en Automatizaci\u00f3n y Control \n",
      "###Universidad Nacional de Quilmes\n",
      "\n",
      "\n",
      "\n",
      "\n",
      "##Ejercicio 1\n",
      "\n",
      "#### Un robot de un solo link con una junta rotativa se encuentra en la posici\u00f3n $\\theta = -5\u00b0$ . Se desea mover dicha junta de una manera suave hasta la posici\u00f3n $\\theta = 80\u00b0$ en 4 segundos. Encontrar los coeficientes del polinomio c\u00fabico que desarrolle dicho movimiento y se detenga al llegar a la posici\u00f3n objetivo. Dibujar posici\u00f3n, velocidad, y aceleraci\u00f3n de la junta como funci\u00f3n del tiempo."
     ]
    },
    {
     "cell_type": "code",
     "collapsed": false,
     "input": [
      "import numpy as np\n",
      "import matplotlib.pyplot as plt"
     ],
     "language": "python",
     "metadata": {},
     "outputs": [],
     "prompt_number": 2
    },
    {
     "cell_type": "code",
     "collapsed": false,
     "input": [
      "t = np.linspace(-10,10)\n",
      "plt.plot(t,np.sign(t))\n",
      "plt.show()"
     ],
     "language": "python",
     "metadata": {},
     "outputs": [],
     "prompt_number": 3
    },
    {
     "cell_type": "code",
     "collapsed": false,
     "input": [],
     "language": "python",
     "metadata": {},
     "outputs": []
    }
   ],
   "metadata": {}
  }
 ]
}