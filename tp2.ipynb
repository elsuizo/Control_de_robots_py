{
 "metadata": {
  "name": ""
 },
 "nbformat": 3,
 "nbformat_minor": 0,
 "worksheets": [
  {
   "cells": [
    {
     "cell_type": "markdown",
     "metadata": {},
     "source": [
      "#Mart\u00edn Nobl\u00eda\n",
      "\n",
      "##Tp2\n",
      "\n",
      "<img src=\"files/copy_left.png\" style=\"float: left;\"/>\n",
      "<div style=\"clear: both;\"> \n",
      "\n",
      "##Control de Robots 2013\n",
      "\n",
      "###Ingenier\u00eda en Automatizaci\u00f3n y Control \n",
      "###Universidad Nacional de Quilmes\n",
      "\n",
      "\n",
      "\n",
      "\n",
      "##Ejercicio 1\n",
      "\n",
      "#### Determinar los par\u00e1metros de links($a_{i-1}$, $\\alpha_{i-1}$, $d_{i}$, $\\theta_{i}$) y la cinem\u00e1tica ($^{0}_{3}T$) del manipulador de tres brazos planar (3R) de la figura siguiente:"
     ]
    },
    {
     "cell_type": "markdown",
     "metadata": {},
     "source": [
      "<img src=\"files/robot1_tp2_300.png\" style=\"float: left;\"/>\n",
      "<div style=\"clear: both;\">"
     ]
    },
    {
     "cell_type": "code",
     "collapsed": false,
     "input": [
      "from sympy import *\n",
      "\n",
      "from IPython.core.display import Image \n",
      "\n",
      "import numpy as np\n",
      "\n",
      "#%pylab inline"
     ],
     "language": "python",
     "metadata": {},
     "outputs": [],
     "prompt_number": 1
    },
    {
     "cell_type": "code",
     "collapsed": false,
     "input": [
      "#Con esto las salidas van a ser en LaTeX\n",
      "init_printing(use_latex=True)"
     ],
     "language": "python",
     "metadata": {},
     "outputs": [],
     "prompt_number": 2
    },
    {
     "cell_type": "markdown",
     "metadata": {},
     "source": [
      "Primero vamos a generar una funci\u00f3n que genere la transformaci\u00f3n m\u00e1s general para un vinculo, o sea:\n",
      "\n",
      "$^{i-1}_{i} T = R_{X}(\\alpha_{i-1})D_{X}(a_{i-1})R_{Z}(\\theta_{i})D_{Z}(d_{i})$"
     ]
    },
    {
     "cell_type": "code",
     "collapsed": false,
     "input": [
      "#Funcion simb\u00f3lica para una rotaci\u00f3n(transformacion homogenea) sobre el eje X\n",
      "def Rot_X(angle):\n",
      "    \n",
      "    rad = angle*pi/180\n",
      "    M = Matrix([[1,0,0,0],[ 0,cos(rad),-sin(rad),0],[0,sin(rad), cos(rad),0],[0,0,0,1]])\n",
      "    \n",
      "    return M\n",
      "\n",
      "#Funcion simb\u00f3lica para una rotaci\u00f3n(transformacion homogenea) sobre el eje Y\n",
      "def Rot_Y(angle):\n",
      "    rad = angle*pi/180\n",
      "    M = Matrix([[cos(rad),0,sin(rad),0],[ 0,1,0,0],[-sin(rad), 0,cos(rad),0],[0,0,0,1]])\n",
      "   \n",
      "    return M\n",
      "\n",
      "#Funcion simb\u00f3lica para una rotaci\u00f3n(transformacion homogenea) sobre el eje Z\n",
      "def Rot_Z(angle):\n",
      "    rad = angle*pi/180\n",
      "    M = Matrix([[cos(rad),- sin(rad),0,0],[ sin(rad), cos(rad), 0,0],[0,0,1,0],[0,0,0,1]])\n",
      "    return M\n"
     ],
     "language": "python",
     "metadata": {},
     "outputs": [],
     "prompt_number": 3
    },
    {
     "cell_type": "code",
     "collapsed": false,
     "input": [
      "#Funcion simbolica para una traslacion en el eje X\n",
      "def Traslacion_X(num):\n",
      "    D = Matrix([[1,0,0,num],[0,1,0,0],[0,0,1,0],[0,0,0,1]])\n",
      "    return D\n",
      "\n",
      "#Funcion simbolica para una traslacion en el eje Y\n",
      "def Traslacion_Y(num):\n",
      "    D = Matrix([[1,0,0,0],[0,1,0,num],[0,0,1,0],[0,0,0,1]])\n",
      "    return D\n",
      "\n",
      "#Funcion simbolica para una traslacion en el eje Z\n",
      "def Traslacion_Z(num):\n",
      "    D = Matrix([[1,0,0,0],[0,1,0,0],[0,0,1,num],[0,0,0,1]])\n",
      "    return D\n"
     ],
     "language": "python",
     "metadata": {},
     "outputs": [],
     "prompt_number": 4
    },
    {
     "cell_type": "code",
     "collapsed": false,
     "input": [
      "#estos son simbolos especiales que los toma como letras griegas directamente(muuy groso)\n",
      "alpha, beta , gamma, phi, theta, a, d =symbols('alpha beta gamma phi theta a d')"
     ],
     "language": "python",
     "metadata": {},
     "outputs": [],
     "prompt_number": 5
    },
    {
     "cell_type": "code",
     "collapsed": false,
     "input": [
      "#Generamos la transformacion \n",
      "T = Rot_X(alpha) * Traslacion_X(a) * Rot_Z(theta) * Traslacion_Z(d)\n",
      "T"
     ],
     "language": "python",
     "metadata": {},
     "outputs": [
      {
       "latex": [
        "$$\\left[\\begin{smallmatrix}\\cos{\\left (\\frac{1}{180} \\pi \\theta \\right )} & - \\sin{\\left (\\frac{1}{180} \\pi \\theta \\right )} & 0 & a\\\\\\sin{\\left (\\frac{1}{180} \\pi \\theta \\right )} \\cos{\\left (\\frac{1}{180} \\pi \\alpha \\right )} & \\cos{\\left (\\frac{1}{180} \\pi \\alpha \\right )} \\cos{\\left (\\frac{1}{180} \\pi \\theta \\right )} & - \\sin{\\left (\\frac{1}{180} \\pi \\alpha \\right )} & - d \\sin{\\left (\\frac{1}{180} \\pi \\alpha \\right )}\\\\\\sin{\\left (\\frac{1}{180} \\pi \\alpha \\right )} \\sin{\\left (\\frac{1}{180} \\pi \\theta \\right )} & \\sin{\\left (\\frac{1}{180} \\pi \\alpha \\right )} \\cos{\\left (\\frac{1}{180} \\pi \\theta \\right )} & \\cos{\\left (\\frac{1}{180} \\pi \\alpha \\right )} & d \\cos{\\left (\\frac{1}{180} \\pi \\alpha \\right )}\\\\0 & 0 & 0 & 1\\end{smallmatrix}\\right]$$"
       ],
       "metadata": {},
       "output_type": "pyout",
       "png": "[encoded data removed]",
       "prompt_number": 6,
       "text": [
        "\u23a1       \u239b\u03c0\u22c5\u03b8\u239e               \u239b\u03c0\u22c5\u03b8\u239e                            \u23a4\n",
        "\u23a2    cos\u239c\u2500\u2500\u2500\u239f           -sin\u239c\u2500\u2500\u2500\u239f          0           a     \u23a5\n",
        "\u23a2       \u239d180\u23a0               \u239d180\u23a0                            \u23a5\n",
        "\u23a2                                                            \u23a5\n",
        "\u23a2   \u239b\u03c0\u22c5\u03b8\u239e    \u239b\u03c0\u22c5\u03b1\u239e     \u239b\u03c0\u22c5\u03b1\u239e    \u239b\u03c0\u22c5\u03b8\u239e      \u239b\u03c0\u22c5\u03b1\u239e        \u239b\u03c0\u22c5\u03b1\u239e\u23a5\n",
        "\u23a2sin\u239c\u2500\u2500\u2500\u239f\u22c5cos\u239c\u2500\u2500\u2500\u239f  cos\u239c\u2500\u2500\u2500\u239f\u22c5cos\u239c\u2500\u2500\u2500\u239f  -sin\u239c\u2500\u2500\u2500\u239f  -d\u22c5sin\u239c\u2500\u2500\u2500\u239f\u23a5\n",
        "\u23a2   \u239d180\u23a0    \u239d180\u23a0     \u239d180\u23a0    \u239d180\u23a0      \u239d180\u23a0        \u239d180\u23a0\u23a5\n",
        "\u23a2                                                            \u23a5\n",
        "\u23a2   \u239b\u03c0\u22c5\u03b1\u239e    \u239b\u03c0\u22c5\u03b8\u239e     \u239b\u03c0\u22c5\u03b1\u239e    \u239b\u03c0\u22c5\u03b8\u239e     \u239b\u03c0\u22c5\u03b1\u239e        \u239b\u03c0\u22c5\u03b1\u239e \u23a5\n",
        "\u23a2sin\u239c\u2500\u2500\u2500\u239f\u22c5sin\u239c\u2500\u2500\u2500\u239f  sin\u239c\u2500\u2500\u2500\u239f\u22c5cos\u239c\u2500\u2500\u2500\u239f  cos\u239c\u2500\u2500\u2500\u239f   d\u22c5cos\u239c\u2500\u2500\u2500\u239f \u23a5\n",
        "\u23a2   \u239d180\u23a0    \u239d180\u23a0     \u239d180\u23a0    \u239d180\u23a0     \u239d180\u23a0        \u239d180\u23a0 \u23a5\n",
        "\u23a2                                                            \u23a5\n",
        "\u23a3        0                  0              0           1     \u23a6"
       ]
      }
     ],
     "prompt_number": 6
    },
    {
     "cell_type": "markdown",
     "metadata": {},
     "source": [
      "La tabla correspondiente con los par\u00e1metros de Denavit-Hartemberg\n",
      "\n",
      "| $i$     | $\\alpha_{i-1}$     |$a_{i-1}$    |$d_{i}$ |$\\theta_{i}$ |\n",
      "| ------------- | ------------- |-------------|----------|----------|\n",
      "| 1 | 0 |  0           | 0         |   $\\theta_{1}$       |\n",
      "| 2 | 0 |  $L_{1}$           |    0      |   $\\theta_{2}$       | \n",
      "| 3 |        0       |     $L_{2}$        |       0   |    $\\theta_{3}$      |"
     ]
    },
    {
     "cell_type": "markdown",
     "metadata": {},
     "source": [
      "Ahora reemplazamos los par\u00e1metros en la transformaci\u00f3n gen\u00e9rica $T$ para obtener cada transformaci\u00f3n de v\u00ednculo"
     ]
    },
    {
     "cell_type": "code",
     "collapsed": false,
     "input": [
      "#Creamos los nuevos simbolos\n",
      "theta_1, theta_2, theta_3, L_1, L_2 =symbols('theta_1, theta_2, theta_3, L_1, L_2')"
     ],
     "language": "python",
     "metadata": {},
     "outputs": [],
     "prompt_number": 7
    },
    {
     "cell_type": "code",
     "collapsed": false,
     "input": [
      "T_0_1 = T.subs([(alpha,0),(a,0),(d,0),(theta,theta_1)])\n",
      "T_0_1"
     ],
     "language": "python",
     "metadata": {},
     "outputs": [
      {
       "latex": [
        "$$\\left[\\begin{smallmatrix}\\cos{\\left (\\frac{1}{180} \\pi \\theta_{1} \\right )} & - \\sin{\\left (\\frac{1}{180} \\pi \\theta_{1} \\right )} & 0 & 0\\\\\\sin{\\left (\\frac{1}{180} \\pi \\theta_{1} \\right )} & \\cos{\\left (\\frac{1}{180} \\pi \\theta_{1} \\right )} & 0 & 0\\\\0 & 0 & 1 & 0\\\\0 & 0 & 0 & 1\\end{smallmatrix}\\right]$$"
       ],
       "metadata": {},
       "output_type": "pyout",
       "png": "[encoded data removed]",
       "prompt_number": 8,
       "text": [
        "\u23a1   \u239b\u03c0\u22c5\u03b8\u2081\u239e      \u239b\u03c0\u22c5\u03b8\u2081\u239e      \u23a4\n",
        "\u23a2cos\u239c\u2500\u2500\u2500\u2500\u239f  -sin\u239c\u2500\u2500\u2500\u2500\u239f  0  0\u23a5\n",
        "\u23a2   \u239d180 \u23a0      \u239d180 \u23a0      \u23a5\n",
        "\u23a2                           \u23a5\n",
        "\u23a2   \u239b\u03c0\u22c5\u03b8\u2081\u239e     \u239b\u03c0\u22c5\u03b8\u2081\u239e       \u23a5\n",
        "\u23a2sin\u239c\u2500\u2500\u2500\u2500\u239f  cos\u239c\u2500\u2500\u2500\u2500\u239f   0  0\u23a5\n",
        "\u23a2   \u239d180 \u23a0     \u239d180 \u23a0       \u23a5\n",
        "\u23a2                           \u23a5\n",
        "\u23a2    0          0       1  0\u23a5\n",
        "\u23a2                           \u23a5\n",
        "\u23a3    0          0       0  1\u23a6"
       ]
      }
     ],
     "prompt_number": 8
    },
    {
     "cell_type": "code",
     "collapsed": false,
     "input": [
      "T_1_2 = T.subs([(alpha,0),(a,L_1),(d,0),(theta,theta_2)])\n",
      "T_1_2"
     ],
     "language": "python",
     "metadata": {},
     "outputs": [
      {
       "latex": [
        "$$\\left[\\begin{smallmatrix}\\cos{\\left (\\frac{1}{180} \\pi \\theta_{2} \\right )} & - \\sin{\\left (\\frac{1}{180} \\pi \\theta_{2} \\right )} & 0 & L_{1}\\\\\\sin{\\left (\\frac{1}{180} \\pi \\theta_{2} \\right )} & \\cos{\\left (\\frac{1}{180} \\pi \\theta_{2} \\right )} & 0 & 0\\\\0 & 0 & 1 & 0\\\\0 & 0 & 0 & 1\\end{smallmatrix}\\right]$$"
       ],
       "metadata": {},
       "output_type": "pyout",
       "png": "[encoded data removed]",
       "prompt_number": 9,
       "text": [
        "\u23a1   \u239b\u03c0\u22c5\u03b8\u2082\u239e      \u239b\u03c0\u22c5\u03b8\u2082\u239e       \u23a4\n",
        "\u23a2cos\u239c\u2500\u2500\u2500\u2500\u239f  -sin\u239c\u2500\u2500\u2500\u2500\u239f  0  L\u2081\u23a5\n",
        "\u23a2   \u239d180 \u23a0      \u239d180 \u23a0       \u23a5\n",
        "\u23a2                            \u23a5\n",
        "\u23a2   \u239b\u03c0\u22c5\u03b8\u2082\u239e     \u239b\u03c0\u22c5\u03b8\u2082\u239e        \u23a5\n",
        "\u23a2sin\u239c\u2500\u2500\u2500\u2500\u239f  cos\u239c\u2500\u2500\u2500\u2500\u239f   0  0 \u23a5\n",
        "\u23a2   \u239d180 \u23a0     \u239d180 \u23a0        \u23a5\n",
        "\u23a2                            \u23a5\n",
        "\u23a2    0          0       1  0 \u23a5\n",
        "\u23a2                            \u23a5\n",
        "\u23a3    0          0       0  1 \u23a6"
       ]
      }
     ],
     "prompt_number": 9
    },
    {
     "cell_type": "code",
     "collapsed": false,
     "input": [
      "T_2_3 = T.subs([(alpha,0),(a,L_2),(d,0),(theta,theta_3)])\n",
      "T_2_3"
     ],
     "language": "python",
     "metadata": {},
     "outputs": [
      {
       "latex": [
        "$$\\left[\\begin{smallmatrix}\\cos{\\left (\\frac{1}{180} \\pi \\theta_{3} \\right )} & - \\sin{\\left (\\frac{1}{180} \\pi \\theta_{3} \\right )} & 0 & L_{2}\\\\\\sin{\\left (\\frac{1}{180} \\pi \\theta_{3} \\right )} & \\cos{\\left (\\frac{1}{180} \\pi \\theta_{3} \\right )} & 0 & 0\\\\0 & 0 & 1 & 0\\\\0 & 0 & 0 & 1\\end{smallmatrix}\\right]$$"
       ],
       "metadata": {},
       "output_type": "pyout",
       "png": "[encoded data removed]",
       "prompt_number": 10,
       "text": [
        "\u23a1   \u239b\u03c0\u22c5\u03b8\u2083\u239e      \u239b\u03c0\u22c5\u03b8\u2083\u239e       \u23a4\n",
        "\u23a2cos\u239c\u2500\u2500\u2500\u2500\u239f  -sin\u239c\u2500\u2500\u2500\u2500\u239f  0  L\u2082\u23a5\n",
        "\u23a2   \u239d180 \u23a0      \u239d180 \u23a0       \u23a5\n",
        "\u23a2                            \u23a5\n",
        "\u23a2   \u239b\u03c0\u22c5\u03b8\u2083\u239e     \u239b\u03c0\u22c5\u03b8\u2083\u239e        \u23a5\n",
        "\u23a2sin\u239c\u2500\u2500\u2500\u2500\u239f  cos\u239c\u2500\u2500\u2500\u2500\u239f   0  0 \u23a5\n",
        "\u23a2   \u239d180 \u23a0     \u239d180 \u23a0        \u23a5\n",
        "\u23a2                            \u23a5\n",
        "\u23a2    0          0       1  0 \u23a5\n",
        "\u23a2                            \u23a5\n",
        "\u23a3    0          0       0  1 \u23a6"
       ]
      }
     ],
     "prompt_number": 10
    },
    {
     "cell_type": "markdown",
     "metadata": {},
     "source": [
      "Y ahora finalmente calculamos la transformaci\u00f3n de la base a la herramienta como:\n",
      "$^{0}_{3} T = (^{0}_{1} T) (^{1}_{2} T) (^{2}_{3} T) $"
     ]
    },
    {
     "cell_type": "code",
     "collapsed": false,
     "input": [
      "T_0_3 = T_0_1 * T_1_2 * T_2_3\n",
      "T_0_3.simplify()"
     ],
     "language": "python",
     "metadata": {},
     "outputs": [],
     "prompt_number": 11
    },
    {
     "cell_type": "code",
     "collapsed": false,
     "input": [
      "T_0_3"
     ],
     "language": "python",
     "metadata": {},
     "outputs": [
      {
       "latex": [
        "$$\\left[\\begin{smallmatrix}\\left(- \\sin{\\left (\\frac{1}{180} \\pi \\theta_{1} \\right )} \\sin{\\left (\\frac{1}{180} \\pi \\theta_{2} \\right )} + \\cos{\\left (\\frac{1}{180} \\pi \\theta_{1} \\right )} \\cos{\\left (\\frac{1}{180} \\pi \\theta_{2} \\right )}\\right) \\cos{\\left (\\frac{1}{180} \\pi \\theta_{3} \\right )} + \\left(- \\sin{\\left (\\frac{1}{180} \\pi \\theta_{1} \\right )} \\cos{\\left (\\frac{1}{180} \\pi \\theta_{2} \\right )} - \\sin{\\left (\\frac{1}{180} \\pi \\theta_{2} \\right )} \\cos{\\left (\\frac{1}{180} \\pi \\theta_{1} \\right )}\\right) \\sin{\\left (\\frac{1}{180} \\pi \\theta_{3} \\right )} & \\left(\\sin{\\left (\\frac{1}{180} \\pi \\theta_{1} \\right )} \\sin{\\left (\\frac{1}{180} \\pi \\theta_{2} \\right )} - \\cos{\\left (\\frac{1}{180} \\pi \\theta_{1} \\right )} \\cos{\\left (\\frac{1}{180} \\pi \\theta_{2} \\right )}\\right) \\sin{\\left (\\frac{1}{180} \\pi \\theta_{3} \\right )} + \\left(- \\sin{\\left (\\frac{1}{180} \\pi \\theta_{1} \\right )} \\cos{\\left (\\frac{1}{180} \\pi \\theta_{2} \\right )} - \\sin{\\left (\\frac{1}{180} \\pi \\theta_{2} \\right )} \\cos{\\left (\\frac{1}{180} \\pi \\theta_{1} \\right )}\\right) \\cos{\\left (\\frac{1}{180} \\pi \\theta_{3} \\right )} & 0 & L_{1} \\cos{\\left (\\frac{1}{180} \\pi \\theta_{1} \\right )} - L_{2} \\left(\\sin{\\left (\\frac{1}{180} \\pi \\theta_{1} \\right )} \\sin{\\left (\\frac{1}{180} \\pi \\theta_{2} \\right )} - \\cos{\\left (\\frac{1}{180} \\pi \\theta_{1} \\right )} \\cos{\\left (\\frac{1}{180} \\pi \\theta_{2} \\right )}\\right)\\\\\\left(- \\sin{\\left (\\frac{1}{180} \\pi \\theta_{1} \\right )} \\sin{\\left (\\frac{1}{180} \\pi \\theta_{2} \\right )} + \\cos{\\left (\\frac{1}{180} \\pi \\theta_{1} \\right )} \\cos{\\left (\\frac{1}{180} \\pi \\theta_{2} \\right )}\\right) \\sin{\\left (\\frac{1}{180} \\pi \\theta_{3} \\right )} + \\left(\\sin{\\left (\\frac{1}{180} \\pi \\theta_{1} \\right )} \\cos{\\left (\\frac{1}{180} \\pi \\theta_{2} \\right )} + \\sin{\\left (\\frac{1}{180} \\pi \\theta_{2} \\right )} \\cos{\\left (\\frac{1}{180} \\pi \\theta_{1} \\right )}\\right) \\cos{\\left (\\frac{1}{180} \\pi \\theta_{3} \\right )} & \\left(- \\sin{\\left (\\frac{1}{180} \\pi \\theta_{1} \\right )} \\sin{\\left (\\frac{1}{180} \\pi \\theta_{2} \\right )} + \\cos{\\left (\\frac{1}{180} \\pi \\theta_{1} \\right )} \\cos{\\left (\\frac{1}{180} \\pi \\theta_{2} \\right )}\\right) \\cos{\\left (\\frac{1}{180} \\pi \\theta_{3} \\right )} + \\left(- \\sin{\\left (\\frac{1}{180} \\pi \\theta_{1} \\right )} \\cos{\\left (\\frac{1}{180} \\pi \\theta_{2} \\right )} - \\sin{\\left (\\frac{1}{180} \\pi \\theta_{2} \\right )} \\cos{\\left (\\frac{1}{180} \\pi \\theta_{1} \\right )}\\right) \\sin{\\left (\\frac{1}{180} \\pi \\theta_{3} \\right )} & 0 & L_{1} \\sin{\\left (\\frac{1}{180} \\pi \\theta_{1} \\right )} + L_{2} \\left(\\sin{\\left (\\frac{1}{180} \\pi \\theta_{1} \\right )} \\cos{\\left (\\frac{1}{180} \\pi \\theta_{2} \\right )} + \\sin{\\left (\\frac{1}{180} \\pi \\theta_{2} \\right )} \\cos{\\left (\\frac{1}{180} \\pi \\theta_{1} \\right )}\\right)\\\\0 & 0 & 1 & 0\\\\0 & 0 & 0 & 1\\end{smallmatrix}\\right]$$"
       ],
       "metadata": {},
       "output_type": "pyout",
       "png": "[encoded data removed]",
       "prompt_number": 12,
       "text": [
        "\u23a1\u239b     \u239b\u03c0\u22c5\u03b8\u2081\u239e    \u239b\u03c0\u22c5\u03b8\u2082\u239e      \u239b\u03c0\u22c5\u03b8\u2081\u239e    \u239b\u03c0\u22c5\u03b8\u2082\u239e\u239e    \u239b\u03c0\u22c5\u03b8\u2083\u239e   \u239b     \u239b\u03c0\u22c5\u03b8\u2081\u239e    \u239b\u03c0\u22c5\n",
        "\u23a2\u239c- sin\u239c\u2500\u2500\u2500\u2500\u239f\u22c5sin\u239c\u2500\u2500\u2500\u2500\u239f + cos\u239c\u2500\u2500\u2500\u2500\u239f\u22c5cos\u239c\u2500\u2500\u2500\u2500\u239f\u239f\u22c5cos\u239c\u2500\u2500\u2500\u2500\u239f + \u239c- sin\u239c\u2500\u2500\u2500\u2500\u239f\u22c5cos\u239c\u2500\u2500\n",
        "\u23a2\u239d     \u239d180 \u23a0    \u239d180 \u23a0      \u239d180 \u23a0    \u239d180 \u23a0\u23a0    \u239d180 \u23a0   \u239d     \u239d180 \u23a0    \u239d18\n",
        "\u23a2                                                                             \n",
        "\u23a2 \u239b     \u239b\u03c0\u22c5\u03b8\u2081\u239e    \u239b\u03c0\u22c5\u03b8\u2082\u239e      \u239b\u03c0\u22c5\u03b8\u2081\u239e    \u239b\u03c0\u22c5\u03b8\u2082\u239e\u239e    \u239b\u03c0\u22c5\u03b8\u2083\u239e   \u239b   \u239b\u03c0\u22c5\u03b8\u2081\u239e    \u239b\u03c0\u22c5\u03b8\n",
        "\u23a2 \u239c- sin\u239c\u2500\u2500\u2500\u2500\u239f\u22c5sin\u239c\u2500\u2500\u2500\u2500\u239f + cos\u239c\u2500\u2500\u2500\u2500\u239f\u22c5cos\u239c\u2500\u2500\u2500\u2500\u239f\u239f\u22c5sin\u239c\u2500\u2500\u2500\u2500\u239f + \u239csin\u239c\u2500\u2500\u2500\u2500\u239f\u22c5cos\u239c\u2500\u2500\u2500\n",
        "\u23a2 \u239d     \u239d180 \u23a0    \u239d180 \u23a0      \u239d180 \u23a0    \u239d180 \u23a0\u23a0    \u239d180 \u23a0   \u239d   \u239d180 \u23a0    \u239d180\n",
        "\u23a2                                                                             \n",
        "\u23a2                                                        0                    \n",
        "\u23a2                                                                             \n",
        "\u23a3                                                        0                    \n",
        "\n",
        "\u03b8\u2082\u239e      \u239b\u03c0\u22c5\u03b8\u2082\u239e    \u239b\u03c0\u22c5\u03b8\u2081\u239e\u239e    \u239b\u03c0\u22c5\u03b8\u2083\u239e   \u239b   \u239b\u03c0\u22c5\u03b8\u2081\u239e    \u239b\u03c0\u22c5\u03b8\u2082\u239e      \u239b\u03c0\u22c5\u03b8\u2081\u239e    \u239b\u03c0\u22c5\n",
        "\u2500\u2500\u239f - sin\u239c\u2500\u2500\u2500\u2500\u239f\u22c5cos\u239c\u2500\u2500\u2500\u2500\u239f\u239f\u22c5sin\u239c\u2500\u2500\u2500\u2500\u239f   \u239csin\u239c\u2500\u2500\u2500\u2500\u239f\u22c5sin\u239c\u2500\u2500\u2500\u2500\u239f - cos\u239c\u2500\u2500\u2500\u2500\u239f\u22c5cos\u239c\u2500\u2500\n",
        "0 \u23a0      \u239d180 \u23a0    \u239d180 \u23a0\u23a0    \u239d180 \u23a0   \u239d   \u239d180 \u23a0    \u239d180 \u23a0      \u239d180 \u23a0    \u239d18\n",
        "                                                                              \n",
        "\u2082\u239e      \u239b\u03c0\u22c5\u03b8\u2082\u239e    \u239b\u03c0\u22c5\u03b8\u2081\u239e\u239e    \u239b\u03c0\u22c5\u03b8\u2083\u239e   \u239b     \u239b\u03c0\u22c5\u03b8\u2081\u239e    \u239b\u03c0\u22c5\u03b8\u2082\u239e      \u239b\u03c0\u22c5\u03b8\u2081\u239e    \u239b\u03c0\n",
        "\u2500\u239f + sin\u239c\u2500\u2500\u2500\u2500\u239f\u22c5cos\u239c\u2500\u2500\u2500\u2500\u239f\u239f\u22c5cos\u239c\u2500\u2500\u2500\u2500\u239f   \u239c- sin\u239c\u2500\u2500\u2500\u2500\u239f\u22c5sin\u239c\u2500\u2500\u2500\u2500\u239f + cos\u239c\u2500\u2500\u2500\u2500\u239f\u22c5cos\u239c\u2500\n",
        " \u23a0      \u239d180 \u23a0    \u239d180 \u23a0\u23a0    \u239d180 \u23a0   \u239d     \u239d180 \u23a0    \u239d180 \u23a0      \u239d180 \u23a0    \u239d1\n",
        "                                                                              \n",
        "                                                                              \n",
        "                                                                              \n",
        "                                                                              \n",
        "\n",
        "\u03b8\u2082\u239e\u239e    \u239b\u03c0\u22c5\u03b8\u2083\u239e   \u239b     \u239b\u03c0\u22c5\u03b8\u2081\u239e    \u239b\u03c0\u22c5\u03b8\u2082\u239e      \u239b\u03c0\u22c5\u03b8\u2082\u239e    \u239b\u03c0\u22c5\u03b8\u2081\u239e\u239e    \u239b\u03c0\u22c5\u03b8\u2083\u239e      \n",
        "\u2500\u2500\u239f\u239f\u22c5sin\u239c\u2500\u2500\u2500\u2500\u239f + \u239c- sin\u239c\u2500\u2500\u2500\u2500\u239f\u22c5cos\u239c\u2500\u2500\u2500\u2500\u239f - sin\u239c\u2500\u2500\u2500\u2500\u239f\u22c5cos\u239c\u2500\u2500\u2500\u2500\u239f\u239f\u22c5cos\u239c\u2500\u2500\u2500\u2500\u239f   0  \n",
        "0 \u23a0\u23a0    \u239d180 \u23a0   \u239d     \u239d180 \u23a0    \u239d180 \u23a0      \u239d180 \u23a0    \u239d180 \u23a0\u23a0    \u239d180 \u23a0      \n",
        "                                                                              \n",
        "\u22c5\u03b8\u2082\u239e\u239e    \u239b\u03c0\u22c5\u03b8\u2083\u239e   \u239b     \u239b\u03c0\u22c5\u03b8\u2081\u239e    \u239b\u03c0\u22c5\u03b8\u2082\u239e      \u239b\u03c0\u22c5\u03b8\u2082\u239e    \u239b\u03c0\u22c5\u03b8\u2081\u239e\u239e    \u239b\u03c0\u22c5\u03b8\u2083\u239e     \n",
        "\u2500\u2500\u2500\u239f\u239f\u22c5cos\u239c\u2500\u2500\u2500\u2500\u239f + \u239c- sin\u239c\u2500\u2500\u2500\u2500\u239f\u22c5cos\u239c\u2500\u2500\u2500\u2500\u239f - sin\u239c\u2500\u2500\u2500\u2500\u239f\u22c5cos\u239c\u2500\u2500\u2500\u2500\u239f\u239f\u22c5sin\u239c\u2500\u2500\u2500\u2500\u239f  0  \n",
        "80 \u23a0\u23a0    \u239d180 \u23a0   \u239d     \u239d180 \u23a0    \u239d180 \u23a0      \u239d180 \u23a0    \u239d180 \u23a0\u23a0    \u239d180 \u23a0     \n",
        "                                                                              \n",
        "                0                                                          1  \n",
        "                                                                              \n",
        "                0                                                          0  \n",
        "\n",
        "      \u239b\u03c0\u22c5\u03b8\u2081\u239e      \u239b   \u239b\u03c0\u22c5\u03b8\u2081\u239e    \u239b\u03c0\u22c5\u03b8\u2082\u239e      \u239b\u03c0\u22c5\u03b8\u2081\u239e    \u239b\u03c0\u22c5\u03b8\u2082\u239e\u239e\u23a4\n",
        "L\u2081\u22c5cos\u239c\u2500\u2500\u2500\u2500\u239f - L\u2082\u22c5\u239csin\u239c\u2500\u2500\u2500\u2500\u239f\u22c5sin\u239c\u2500\u2500\u2500\u2500\u239f - cos\u239c\u2500\u2500\u2500\u2500\u239f\u22c5cos\u239c\u2500\u2500\u2500\u2500\u239f\u239f\u23a5\n",
        "      \u239d180 \u23a0      \u239d   \u239d180 \u23a0    \u239d180 \u23a0      \u239d180 \u23a0    \u239d180 \u23a0\u23a0\u23a5\n",
        "                                                             \u23a5\n",
        "      \u239b\u03c0\u22c5\u03b8\u2081\u239e      \u239b   \u239b\u03c0\u22c5\u03b8\u2081\u239e    \u239b\u03c0\u22c5\u03b8\u2082\u239e      \u239b\u03c0\u22c5\u03b8\u2082\u239e    \u239b\u03c0\u22c5\u03b8\u2081\u239e\u239e\u23a5\n",
        "L\u2081\u22c5sin\u239c\u2500\u2500\u2500\u2500\u239f + L\u2082\u22c5\u239csin\u239c\u2500\u2500\u2500\u2500\u239f\u22c5cos\u239c\u2500\u2500\u2500\u2500\u239f + sin\u239c\u2500\u2500\u2500\u2500\u239f\u22c5cos\u239c\u2500\u2500\u2500\u2500\u239f\u239f\u23a5\n",
        "      \u239d180 \u23a0      \u239d   \u239d180 \u23a0    \u239d180 \u23a0      \u239d180 \u23a0    \u239d180 \u23a0\u23a0\u23a5\n",
        "                                                             \u23a5\n",
        "                              0                              \u23a5\n",
        "                                                             \u23a5\n",
        "                              1                              \u23a6"
       ]
      }
     ],
     "prompt_number": 12
    },
    {
     "cell_type": "code",
     "collapsed": false,
     "input": [
      "#Verificamos asignando los angulos a cero, nos deber\u00eda dar la suma de las L en X\n",
      "T_cero = T_0_3.subs([(theta_1,0),(theta_2,0),(theta_3,0)])\n",
      "T_cero\n"
     ],
     "language": "python",
     "metadata": {},
     "outputs": [
      {
       "latex": [
        "$$\\left[\\begin{smallmatrix}1 & 0 & 0 & L_{1} + L_{2}\\\\0 & 1 & 0 & 0\\\\0 & 0 & 1 & 0\\\\0 & 0 & 0 & 1\\end{smallmatrix}\\right]$$"
       ],
       "metadata": {},
       "output_type": "pyout",
       "png": "[encoded data removed]",
       "prompt_number": 14,
       "text": [
        "\u23a11  0  0  L\u2081 + L\u2082\u23a4\n",
        "\u23a2                \u23a5\n",
        "\u23a20  1  0     0   \u23a5\n",
        "\u23a2                \u23a5\n",
        "\u23a20  0  1     0   \u23a5\n",
        "\u23a2                \u23a5\n",
        "\u23a30  0  0     1   \u23a6"
       ]
      }
     ],
     "prompt_number": 14
    },
    {
     "cell_type": "markdown",
     "metadata": {},
     "source": [
      "## Ejercicio 2\n",
      "#### El manipulador siguiente tiene 3 grados de libertad similar al ejercicio anterior excepto que el eje de la primer junta no es paralelo a los otros dos. Determinar los par\u00e1metros de links ($a_{i-1}$, $\\alpha_{i-1}$, $d_{i}$,$\\theta_{i}$ )y la cinem\u00e1tica $^{B}_{W}T$. Notar que existe un desfasaje de 90\u00b0 entre los ejes 1 y 2, y que no es necesario definir $L_{3}$."
     ]
    },
    {
     "cell_type": "markdown",
     "metadata": {},
     "source": [
      "<img src=\"files/dibujo_robot2_tp2.png\" style=\"float: left;\"/>\n",
      "<div style=\"clear: both;\">"
     ]
    },
    {
     "cell_type": "markdown",
     "metadata": {},
     "source": [
      "La tabla correspondiente con los par\u00e1metros de Denavit-Hartemberg\n",
      "\n",
      "| $i$     | $\\alpha_{i-1}$     |$a_{i-1}$    |$d_{i}$ |$\\theta_{i}$ |\n",
      "| ------------- | ------------- |-------------|----------|----------|\n",
      "| 1 | 0 |  0           | 0         |   $\\theta_{1}$       |\n",
      "| 2 | 90\u00ba |  $L_{1}$           |    0      |   $\\theta_{2}$       | \n",
      "| 3 |        0       |     $L_{2}$        |       0   |    $\\theta_{3}$      |\n",
      "\n",
      "Nuevamente utilizamos la transformaci\u00f3n generica y reemplazamos los valores de la tabla"
     ]
    },
    {
     "cell_type": "code",
     "collapsed": false,
     "input": [
      "T_0_1  = T.subs([(alpha,0),(a,0),(d,0),(theta,theta_1)])\n",
      "T_0_1"
     ],
     "language": "python",
     "metadata": {},
     "outputs": [
      {
       "latex": [
        "$$\\left[\\begin{smallmatrix}\\cos{\\left (\\frac{1}{180} \\pi \\theta_{1} \\right )} & - \\sin{\\left (\\frac{1}{180} \\pi \\theta_{1} \\right )} & 0 & 0\\\\\\sin{\\left (\\frac{1}{180} \\pi \\theta_{1} \\right )} & \\cos{\\left (\\frac{1}{180} \\pi \\theta_{1} \\right )} & 0 & 0\\\\0 & 0 & 1 & 0\\\\0 & 0 & 0 & 1\\end{smallmatrix}\\right]$$"
       ],
       "metadata": {},
       "output_type": "pyout",
       "png": "[encoded data removed]",
       "prompt_number": 15,
       "text": [
        "\u23a1   \u239b\u03c0\u22c5\u03b8\u2081\u239e      \u239b\u03c0\u22c5\u03b8\u2081\u239e      \u23a4\n",
        "\u23a2cos\u239c\u2500\u2500\u2500\u2500\u239f  -sin\u239c\u2500\u2500\u2500\u2500\u239f  0  0\u23a5\n",
        "\u23a2   \u239d180 \u23a0      \u239d180 \u23a0      \u23a5\n",
        "\u23a2                           \u23a5\n",
        "\u23a2   \u239b\u03c0\u22c5\u03b8\u2081\u239e     \u239b\u03c0\u22c5\u03b8\u2081\u239e       \u23a5\n",
        "\u23a2sin\u239c\u2500\u2500\u2500\u2500\u239f  cos\u239c\u2500\u2500\u2500\u2500\u239f   0  0\u23a5\n",
        "\u23a2   \u239d180 \u23a0     \u239d180 \u23a0       \u23a5\n",
        "\u23a2                           \u23a5\n",
        "\u23a2    0          0       1  0\u23a5\n",
        "\u23a2                           \u23a5\n",
        "\u23a3    0          0       0  1\u23a6"
       ]
      }
     ],
     "prompt_number": 15
    },
    {
     "cell_type": "code",
     "collapsed": false,
     "input": [
      "T_1_2 = T.subs([(alpha,90),(a,L_1),(d,0),(theta,theta_2)])\n",
      "T_1_2"
     ],
     "language": "python",
     "metadata": {},
     "outputs": [
      {
       "latex": [
        "$$\\left[\\begin{smallmatrix}\\cos{\\left (\\frac{1}{180} \\pi \\theta_{2} \\right )} & - \\sin{\\left (\\frac{1}{180} \\pi \\theta_{2} \\right )} & 0 & L_{1}\\\\0 & 0 & -1 & 0\\\\\\sin{\\left (\\frac{1}{180} \\pi \\theta_{2} \\right )} & \\cos{\\left (\\frac{1}{180} \\pi \\theta_{2} \\right )} & 0 & 0\\\\0 & 0 & 0 & 1\\end{smallmatrix}\\right]$$"
       ],
       "metadata": {},
       "output_type": "pyout",
       "png": "[encoded data removed]",
       "prompt_number": 16,
       "text": [
        "\u23a1   \u239b\u03c0\u22c5\u03b8\u2082\u239e      \u239b\u03c0\u22c5\u03b8\u2082\u239e        \u23a4\n",
        "\u23a2cos\u239c\u2500\u2500\u2500\u2500\u239f  -sin\u239c\u2500\u2500\u2500\u2500\u239f  0   L\u2081\u23a5\n",
        "\u23a2   \u239d180 \u23a0      \u239d180 \u23a0        \u23a5\n",
        "\u23a2                             \u23a5\n",
        "\u23a2    0          0       -1  0 \u23a5\n",
        "\u23a2                             \u23a5\n",
        "\u23a2   \u239b\u03c0\u22c5\u03b8\u2082\u239e     \u239b\u03c0\u22c5\u03b8\u2082\u239e         \u23a5\n",
        "\u23a2sin\u239c\u2500\u2500\u2500\u2500\u239f  cos\u239c\u2500\u2500\u2500\u2500\u239f   0   0 \u23a5\n",
        "\u23a2   \u239d180 \u23a0     \u239d180 \u23a0         \u23a5\n",
        "\u23a2                             \u23a5\n",
        "\u23a3    0          0       0   1 \u23a6"
       ]
      }
     ],
     "prompt_number": 16
    },
    {
     "cell_type": "code",
     "collapsed": false,
     "input": [
      "T_2_3 = T.subs([(alpha,0),(a,L_2),(d,0),(theta,theta_3)])\n",
      "T_2_3"
     ],
     "language": "python",
     "metadata": {},
     "outputs": [
      {
       "latex": [
        "$$\\left[\\begin{smallmatrix}\\cos{\\left (\\frac{1}{180} \\pi \\theta_{3} \\right )} & - \\sin{\\left (\\frac{1}{180} \\pi \\theta_{3} \\right )} & 0 & L_{2}\\\\\\sin{\\left (\\frac{1}{180} \\pi \\theta_{3} \\right )} & \\cos{\\left (\\frac{1}{180} \\pi \\theta_{3} \\right )} & 0 & 0\\\\0 & 0 & 1 & 0\\\\0 & 0 & 0 & 1\\end{smallmatrix}\\right]$$"
       ],
       "metadata": {},
       "output_type": "pyout",
       "png": "[encoded data removed]",
       "prompt_number": 17,
       "text": [
        "\u23a1   \u239b\u03c0\u22c5\u03b8\u2083\u239e      \u239b\u03c0\u22c5\u03b8\u2083\u239e       \u23a4\n",
        "\u23a2cos\u239c\u2500\u2500\u2500\u2500\u239f  -sin\u239c\u2500\u2500\u2500\u2500\u239f  0  L\u2082\u23a5\n",
        "\u23a2   \u239d180 \u23a0      \u239d180 \u23a0       \u23a5\n",
        "\u23a2                            \u23a5\n",
        "\u23a2   \u239b\u03c0\u22c5\u03b8\u2083\u239e     \u239b\u03c0\u22c5\u03b8\u2083\u239e        \u23a5\n",
        "\u23a2sin\u239c\u2500\u2500\u2500\u2500\u239f  cos\u239c\u2500\u2500\u2500\u2500\u239f   0  0 \u23a5\n",
        "\u23a2   \u239d180 \u23a0     \u239d180 \u23a0        \u23a5\n",
        "\u23a2                            \u23a5\n",
        "\u23a2    0          0       1  0 \u23a5\n",
        "\u23a2                            \u23a5\n",
        "\u23a3    0          0       0  1 \u23a6"
       ]
      }
     ],
     "prompt_number": 17
    },
    {
     "cell_type": "code",
     "collapsed": false,
     "input": [
      "T_B_W = T_0_1 * T_1_2 * T_2_3\n",
      "T_B_W.simplify()\n",
      "T_B_W"
     ],
     "language": "python",
     "metadata": {},
     "outputs": [
      {
       "latex": [
        "$$\\left[\\begin{smallmatrix}\\left(- \\sin{\\left (\\frac{1}{180} \\pi \\theta_{2} \\right )} \\sin{\\left (\\frac{1}{180} \\pi \\theta_{3} \\right )} + \\cos{\\left (\\frac{1}{180} \\pi \\theta_{2} \\right )} \\cos{\\left (\\frac{1}{180} \\pi \\theta_{3} \\right )}\\right) \\cos{\\left (\\frac{1}{180} \\pi \\theta_{1} \\right )} & \\left(- \\sin{\\left (\\frac{1}{180} \\pi \\theta_{2} \\right )} \\cos{\\left (\\frac{1}{180} \\pi \\theta_{3} \\right )} - \\sin{\\left (\\frac{1}{180} \\pi \\theta_{3} \\right )} \\cos{\\left (\\frac{1}{180} \\pi \\theta_{2} \\right )}\\right) \\cos{\\left (\\frac{1}{180} \\pi \\theta_{1} \\right )} & \\sin{\\left (\\frac{1}{180} \\pi \\theta_{1} \\right )} & \\left(L_{1} + L_{2} \\cos{\\left (\\frac{1}{180} \\pi \\theta_{2} \\right )}\\right) \\cos{\\left (\\frac{1}{180} \\pi \\theta_{1} \\right )}\\\\\\left(- \\sin{\\left (\\frac{1}{180} \\pi \\theta_{2} \\right )} \\sin{\\left (\\frac{1}{180} \\pi \\theta_{3} \\right )} + \\cos{\\left (\\frac{1}{180} \\pi \\theta_{2} \\right )} \\cos{\\left (\\frac{1}{180} \\pi \\theta_{3} \\right )}\\right) \\sin{\\left (\\frac{1}{180} \\pi \\theta_{1} \\right )} & \\left(- \\sin{\\left (\\frac{1}{180} \\pi \\theta_{2} \\right )} \\cos{\\left (\\frac{1}{180} \\pi \\theta_{3} \\right )} - \\sin{\\left (\\frac{1}{180} \\pi \\theta_{3} \\right )} \\cos{\\left (\\frac{1}{180} \\pi \\theta_{2} \\right )}\\right) \\sin{\\left (\\frac{1}{180} \\pi \\theta_{1} \\right )} & - \\cos{\\left (\\frac{1}{180} \\pi \\theta_{1} \\right )} & \\left(L_{1} + L_{2} \\cos{\\left (\\frac{1}{180} \\pi \\theta_{2} \\right )}\\right) \\sin{\\left (\\frac{1}{180} \\pi \\theta_{1} \\right )}\\\\\\sin{\\left (\\frac{1}{180} \\pi \\theta_{2} \\right )} \\cos{\\left (\\frac{1}{180} \\pi \\theta_{3} \\right )} + \\sin{\\left (\\frac{1}{180} \\pi \\theta_{3} \\right )} \\cos{\\left (\\frac{1}{180} \\pi \\theta_{2} \\right )} & - \\sin{\\left (\\frac{1}{180} \\pi \\theta_{2} \\right )} \\sin{\\left (\\frac{1}{180} \\pi \\theta_{3} \\right )} + \\cos{\\left (\\frac{1}{180} \\pi \\theta_{2} \\right )} \\cos{\\left (\\frac{1}{180} \\pi \\theta_{3} \\right )} & 0 & L_{2} \\sin{\\left (\\frac{1}{180} \\pi \\theta_{2} \\right )}\\\\0 & 0 & 0 & 1\\end{smallmatrix}\\right]$$"
       ],
       "metadata": {},
       "output_type": "pyout",
       "png": "[encoded data removed]",
       "prompt_number": 19,
       "text": [
        "\u23a1\u239b     \u239b\u03c0\u22c5\u03b8\u2082\u239e    \u239b\u03c0\u22c5\u03b8\u2083\u239e      \u239b\u03c0\u22c5\u03b8\u2082\u239e    \u239b\u03c0\u22c5\u03b8\u2083\u239e\u239e    \u239b\u03c0\u22c5\u03b8\u2081\u239e  \u239b     \u239b\u03c0\u22c5\u03b8\u2082\u239e    \u239b\u03c0\u22c5\u03b8\n",
        "\u23a2\u239c- sin\u239c\u2500\u2500\u2500\u2500\u239f\u22c5sin\u239c\u2500\u2500\u2500\u2500\u239f + cos\u239c\u2500\u2500\u2500\u2500\u239f\u22c5cos\u239c\u2500\u2500\u2500\u2500\u239f\u239f\u22c5cos\u239c\u2500\u2500\u2500\u2500\u239f  \u239c- sin\u239c\u2500\u2500\u2500\u2500\u239f\u22c5cos\u239c\u2500\u2500\u2500\n",
        "\u23a2\u239d     \u239d180 \u23a0    \u239d180 \u23a0      \u239d180 \u23a0    \u239d180 \u23a0\u23a0    \u239d180 \u23a0  \u239d     \u239d180 \u23a0    \u239d180\n",
        "\u23a2                                                                             \n",
        "\u23a2\u239b     \u239b\u03c0\u22c5\u03b8\u2082\u239e    \u239b\u03c0\u22c5\u03b8\u2083\u239e      \u239b\u03c0\u22c5\u03b8\u2082\u239e    \u239b\u03c0\u22c5\u03b8\u2083\u239e\u239e    \u239b\u03c0\u22c5\u03b8\u2081\u239e  \u239b     \u239b\u03c0\u22c5\u03b8\u2082\u239e    \u239b\u03c0\u22c5\u03b8\n",
        "\u23a2\u239c- sin\u239c\u2500\u2500\u2500\u2500\u239f\u22c5sin\u239c\u2500\u2500\u2500\u2500\u239f + cos\u239c\u2500\u2500\u2500\u2500\u239f\u22c5cos\u239c\u2500\u2500\u2500\u2500\u239f\u239f\u22c5sin\u239c\u2500\u2500\u2500\u2500\u239f  \u239c- sin\u239c\u2500\u2500\u2500\u2500\u239f\u22c5cos\u239c\u2500\u2500\u2500\n",
        "\u23a2\u239d     \u239d180 \u23a0    \u239d180 \u23a0      \u239d180 \u23a0    \u239d180 \u23a0\u23a0    \u239d180 \u23a0  \u239d     \u239d180 \u23a0    \u239d180\n",
        "\u23a2                                                                             \n",
        "\u23a2          \u239b\u03c0\u22c5\u03b8\u2082\u239e    \u239b\u03c0\u22c5\u03b8\u2083\u239e      \u239b\u03c0\u22c5\u03b8\u2083\u239e    \u239b\u03c0\u22c5\u03b8\u2082\u239e                    \u239b\u03c0\u22c5\u03b8\u2082\u239e   \n",
        "\u23a2       sin\u239c\u2500\u2500\u2500\u2500\u239f\u22c5cos\u239c\u2500\u2500\u2500\u2500\u239f + sin\u239c\u2500\u2500\u2500\u2500\u239f\u22c5cos\u239c\u2500\u2500\u2500\u2500\u239f               - sin\u239c\u2500\u2500\u2500\u2500\u239f\u22c5si\n",
        "\u23a2          \u239d180 \u23a0    \u239d180 \u23a0      \u239d180 \u23a0    \u239d180 \u23a0                    \u239d180 \u23a0   \n",
        "\u23a2                                                                             \n",
        "\u23a3                           0                                                 \n",
        "\n",
        "\u2083\u239e      \u239b\u03c0\u22c5\u03b8\u2083\u239e    \u239b\u03c0\u22c5\u03b8\u2082\u239e\u239e    \u239b\u03c0\u22c5\u03b8\u2081\u239e     \u239b\u03c0\u22c5\u03b8\u2081\u239e   \u239b           \u239b\u03c0\u22c5\u03b8\u2082\u239e\u239e    \u239b\u03c0\u22c5\u03b8\u2081\u239e\n",
        "\u2500\u239f - sin\u239c\u2500\u2500\u2500\u2500\u239f\u22c5cos\u239c\u2500\u2500\u2500\u2500\u239f\u239f\u22c5cos\u239c\u2500\u2500\u2500\u2500\u239f  sin\u239c\u2500\u2500\u2500\u2500\u239f   \u239cL\u2081 + L\u2082\u22c5cos\u239c\u2500\u2500\u2500\u2500\u239f\u239f\u22c5cos\u239c\u2500\u2500\u2500\u2500\u239f\n",
        " \u23a0      \u239d180 \u23a0    \u239d180 \u23a0\u23a0    \u239d180 \u23a0     \u239d180 \u23a0   \u239d           \u239d180 \u23a0\u23a0    \u239d180 \u23a0\n",
        "                                                                              \n",
        "\u2083\u239e      \u239b\u03c0\u22c5\u03b8\u2083\u239e    \u239b\u03c0\u22c5\u03b8\u2082\u239e\u239e    \u239b\u03c0\u22c5\u03b8\u2081\u239e      \u239b\u03c0\u22c5\u03b8\u2081\u239e  \u239b           \u239b\u03c0\u22c5\u03b8\u2082\u239e\u239e    \u239b\u03c0\u22c5\u03b8\u2081\u239e\n",
        "\u2500\u239f - sin\u239c\u2500\u2500\u2500\u2500\u239f\u22c5cos\u239c\u2500\u2500\u2500\u2500\u239f\u239f\u22c5sin\u239c\u2500\u2500\u2500\u2500\u239f  -cos\u239c\u2500\u2500\u2500\u2500\u239f  \u239cL\u2081 + L\u2082\u22c5cos\u239c\u2500\u2500\u2500\u2500\u239f\u239f\u22c5sin\u239c\u2500\u2500\u2500\u2500\u239f\n",
        " \u23a0      \u239d180 \u23a0    \u239d180 \u23a0\u23a0    \u239d180 \u23a0      \u239d180 \u23a0  \u239d           \u239d180 \u23a0\u23a0    \u239d180 \u23a0\n",
        "                                                                              \n",
        " \u239b\u03c0\u22c5\u03b8\u2083\u239e      \u239b\u03c0\u22c5\u03b8\u2082\u239e    \u239b\u03c0\u22c5\u03b8\u2083\u239e                                  \u239b\u03c0\u22c5\u03b8\u2082\u239e         \n",
        "n\u239c\u2500\u2500\u2500\u2500\u239f + cos\u239c\u2500\u2500\u2500\u2500\u239f\u22c5cos\u239c\u2500\u2500\u2500\u2500\u239f            0               L\u2082\u22c5sin\u239c\u2500\u2500\u2500\u2500\u239f         \n",
        " \u239d180 \u23a0      \u239d180 \u23a0    \u239d180 \u23a0                                  \u239d180 \u23a0         \n",
        "                                                                              \n",
        "       0                                 0                     1              \n",
        "\n",
        "\u23a4\n",
        "\u23a5\n",
        "\u23a5\n",
        "\u23a5\n",
        "\u23a5\n",
        "\u23a5\n",
        "\u23a5\n",
        "\u23a5\n",
        "\u23a5\n",
        "\u23a5\n",
        "\u23a5\n",
        "\u23a5\n",
        "\u23a6"
       ]
      }
     ],
     "prompt_number": 19
    },
    {
     "cell_type": "code",
     "collapsed": false,
     "input": [
      "#Verificamos nuevamente\n",
      "T_cero_2 = T_B_W.subs([(theta_1,0),(theta_2,0),(theta_3,0)])\n",
      "T_cero_2"
     ],
     "language": "python",
     "metadata": {},
     "outputs": [
      {
       "latex": [
        "$$\\left[\\begin{smallmatrix}1 & 0 & 0 & L_{1} + L_{2}\\\\0 & 0 & -1 & 0\\\\0 & 1 & 0 & 0\\\\0 & 0 & 0 & 1\\end{smallmatrix}\\right]$$"
       ],
       "metadata": {},
       "output_type": "pyout",
       "png": "[encoded data removed]",
       "prompt_number": 21,
       "text": [
        "\u23a11  0  0   L\u2081 + L\u2082\u23a4\n",
        "\u23a2                 \u23a5\n",
        "\u23a20  0  -1     0   \u23a5\n",
        "\u23a2                 \u23a5\n",
        "\u23a20  1  0      0   \u23a5\n",
        "\u23a2                 \u23a5\n",
        "\u23a30  0  0      1   \u23a6"
       ]
      }
     ],
     "prompt_number": 21
    },
    {
     "cell_type": "markdown",
     "metadata": {},
     "source": [
      "## Ejercicio 3\n",
      "\n",
      "####El manipulador de 3 grados de libertad de la figura siguiente tiene las juntas 1 y 2 perpendiculares, y las juntas 2 y 3 paralelas. Seg\u00fan el gr\u00e1fico, todas las juntas est\u00e1n en posici\u00f3n cero y adem\u00e1s se muestra el sentido de giro positivo de cada una. Asignar los frames correspondientes para luego hallar: \n",
      "\n",
      " $(^{0}_{1} T),  (^{1}_{2} T),  (^{2}_{3} T) $"
     ]
    },
    {
     "cell_type": "markdown",
     "metadata": {},
     "source": [
      "<img src=\"files/robot3_tp2.png\" style=\"float: left;\"/>\n",
      "<div style=\"clear: both;\">"
     ]
    },
    {
     "cell_type": "markdown",
     "metadata": {},
     "source": [
      "La tabla correspondiente con los par\u00e1metros de Denavit-Hartemberg\n",
      "\n",
      "| $i$     | $\\alpha_{i-1}$     |$a_{i-1}$    |$d_{i}$ |$\\theta_{i}$ |\n",
      "| ------------- | ------------- |-------------|----------|----------|\n",
      "| 1 | 0 |  0           | $L_{1}+L_{2}$         |   $\\theta_{1}$       |\n",
      "| 2 | 90\u00ba |  0           |    0      |   $\\theta_{2}$       | \n",
      "| 3 |        0       |     $L_{3}$        |       0   |    $\\theta_{3}$      |\n",
      "| 4  |        0       |             $L_{4}$         |   0        |    0                  |\n",
      "\n",
      "Nuevamente utilizamos la transformaci\u00f3n generica y reemplazamos los valores de la tabla"
     ]
    },
    {
     "cell_type": "code",
     "collapsed": false,
     "input": [
      "T_0_1  = T.subs([(alpha,0),(a,0),(d,L_1+L_2),(theta,theta_1)])\n",
      "T_0_1"
     ],
     "language": "python",
     "metadata": {},
     "outputs": [
      {
       "latex": [
        "$$\\left[\\begin{smallmatrix}\\cos{\\left (\\frac{1}{180} \\pi \\theta_{1} \\right )} & - \\sin{\\left (\\frac{1}{180} \\pi \\theta_{1} \\right )} & 0 & 0\\\\\\sin{\\left (\\frac{1}{180} \\pi \\theta_{1} \\right )} & \\cos{\\left (\\frac{1}{180} \\pi \\theta_{1} \\right )} & 0 & 0\\\\0 & 0 & 1 & L_{1} + L_{2}\\\\0 & 0 & 0 & 1\\end{smallmatrix}\\right]$$"
       ],
       "metadata": {},
       "output_type": "pyout",
       "png": "[encoded data removed]",
       "prompt_number": 22,
       "text": [
        "\u23a1   \u239b\u03c0\u22c5\u03b8\u2081\u239e      \u239b\u03c0\u22c5\u03b8\u2081\u239e            \u23a4\n",
        "\u23a2cos\u239c\u2500\u2500\u2500\u2500\u239f  -sin\u239c\u2500\u2500\u2500\u2500\u239f  0     0   \u23a5\n",
        "\u23a2   \u239d180 \u23a0      \u239d180 \u23a0            \u23a5\n",
        "\u23a2                                 \u23a5\n",
        "\u23a2   \u239b\u03c0\u22c5\u03b8\u2081\u239e     \u239b\u03c0\u22c5\u03b8\u2081\u239e             \u23a5\n",
        "\u23a2sin\u239c\u2500\u2500\u2500\u2500\u239f  cos\u239c\u2500\u2500\u2500\u2500\u239f   0     0   \u23a5\n",
        "\u23a2   \u239d180 \u23a0     \u239d180 \u23a0             \u23a5\n",
        "\u23a2                                 \u23a5\n",
        "\u23a2    0          0       1  L\u2081 + L\u2082\u23a5\n",
        "\u23a2                                 \u23a5\n",
        "\u23a3    0          0       0     1   \u23a6"
       ]
      }
     ],
     "prompt_number": 22
    },
    {
     "cell_type": "code",
     "collapsed": false,
     "input": [
      "T_1_2 = T.subs([(alpha,90),(a,0),(d,0),(theta,theta_2)])\n",
      "T_1_2"
     ],
     "language": "python",
     "metadata": {},
     "outputs": [
      {
       "latex": [
        "$$\\left[\\begin{smallmatrix}\\cos{\\left (\\frac{1}{180} \\pi \\theta_{2} \\right )} & - \\sin{\\left (\\frac{1}{180} \\pi \\theta_{2} \\right )} & 0 & 0\\\\0 & 0 & -1 & 0\\\\\\sin{\\left (\\frac{1}{180} \\pi \\theta_{2} \\right )} & \\cos{\\left (\\frac{1}{180} \\pi \\theta_{2} \\right )} & 0 & 0\\\\0 & 0 & 0 & 1\\end{smallmatrix}\\right]$$"
       ],
       "metadata": {},
       "output_type": "pyout",
       "png": "[encoded data removed]",
       "prompt_number": 23,
       "text": [
        "\u23a1   \u239b\u03c0\u22c5\u03b8\u2082\u239e      \u239b\u03c0\u22c5\u03b8\u2082\u239e       \u23a4\n",
        "\u23a2cos\u239c\u2500\u2500\u2500\u2500\u239f  -sin\u239c\u2500\u2500\u2500\u2500\u239f  0   0\u23a5\n",
        "\u23a2   \u239d180 \u23a0      \u239d180 \u23a0       \u23a5\n",
        "\u23a2                            \u23a5\n",
        "\u23a2    0          0       -1  0\u23a5\n",
        "\u23a2                            \u23a5\n",
        "\u23a2   \u239b\u03c0\u22c5\u03b8\u2082\u239e     \u239b\u03c0\u22c5\u03b8\u2082\u239e        \u23a5\n",
        "\u23a2sin\u239c\u2500\u2500\u2500\u2500\u239f  cos\u239c\u2500\u2500\u2500\u2500\u239f   0   0\u23a5\n",
        "\u23a2   \u239d180 \u23a0     \u239d180 \u23a0        \u23a5\n",
        "\u23a2                            \u23a5\n",
        "\u23a3    0          0       0   1\u23a6"
       ]
      }
     ],
     "prompt_number": 23
    },
    {
     "cell_type": "code",
     "collapsed": false,
     "input": [
      "#creamos el simbolo que nos faltaba\n",
      "L_3 = symbols('L_3')"
     ],
     "language": "python",
     "metadata": {},
     "outputs": [],
     "prompt_number": 27
    },
    {
     "cell_type": "code",
     "collapsed": false,
     "input": [
      "T_2_3 = T.subs([(alpha,0),(a,L_3),(d,0),(theta,theta_3)])\n",
      "T_2_3"
     ],
     "language": "python",
     "metadata": {},
     "outputs": [
      {
       "latex": [
        "$$\\left[\\begin{smallmatrix}\\cos{\\left (\\frac{1}{180} \\pi \\theta_{3} \\right )} & - \\sin{\\left (\\frac{1}{180} \\pi \\theta_{3} \\right )} & 0 & L_{3}\\\\\\sin{\\left (\\frac{1}{180} \\pi \\theta_{3} \\right )} & \\cos{\\left (\\frac{1}{180} \\pi \\theta_{3} \\right )} & 0 & 0\\\\0 & 0 & 1 & 0\\\\0 & 0 & 0 & 1\\end{smallmatrix}\\right]$$"
       ],
       "metadata": {},
       "output_type": "pyout",
       "png": "[encoded data removed]",
       "prompt_number": 28,
       "text": [
        "\u23a1   \u239b\u03c0\u22c5\u03b8\u2083\u239e      \u239b\u03c0\u22c5\u03b8\u2083\u239e       \u23a4\n",
        "\u23a2cos\u239c\u2500\u2500\u2500\u2500\u239f  -sin\u239c\u2500\u2500\u2500\u2500\u239f  0  L\u2083\u23a5\n",
        "\u23a2   \u239d180 \u23a0      \u239d180 \u23a0       \u23a5\n",
        "\u23a2                            \u23a5\n",
        "\u23a2   \u239b\u03c0\u22c5\u03b8\u2083\u239e     \u239b\u03c0\u22c5\u03b8\u2083\u239e        \u23a5\n",
        "\u23a2sin\u239c\u2500\u2500\u2500\u2500\u239f  cos\u239c\u2500\u2500\u2500\u2500\u239f   0  0 \u23a5\n",
        "\u23a2   \u239d180 \u23a0     \u239d180 \u23a0        \u23a5\n",
        "\u23a2                            \u23a5\n",
        "\u23a2    0          0       1  0 \u23a5\n",
        "\u23a2                            \u23a5\n",
        "\u23a3    0          0       0  1 \u23a6"
       ]
      }
     ],
     "prompt_number": 28
    },
    {
     "cell_type": "markdown",
     "metadata": {},
     "source": [
      "##Ejercicio 4\n",
      "\n",
      "####Para el manipular de 2 brazos siguiente, las matrices: $(^{0}_{1} T),  (^{1}_{2} T)$ fueron determinadas, y su producto es: $^{2}_{0}A$. Notar que el frame {0} es coincidente con el {1} cuando $\\theta_{1}=0$. La longitud del segundo brazo es $L_2$. Encontrar una expresi\u00f3n para el vector $^{0}P_{TIP}$\n",
      "\n"
     ]
    },
    {
     "cell_type": "markdown",
     "metadata": {},
     "source": [
      "<img src=\"files/robot4_tp2.png\" style=\"float: left;\"/>\n",
      "<div style=\"clear: both;\">"
     ]
    },
    {
     "cell_type": "code",
     "collapsed": false,
     "input": [
      "A_0_2 = Matrix([[cos(theta_1)*cos(theta_2),-cos(theta_1)*sin(theta_2),sin(theta_1),L_1*cos(theta_1)],[sin(theta_1)*cos(theta_2),-sin(theta_1)*sin(theta_2),-cos(theta_1),L_1*sin(theta_1)],[sin(theta_2),cos(theta_2),0,0],[0,0,0,1]])\n",
      "A_0_2"
     ],
     "language": "python",
     "metadata": {},
     "outputs": [
      {
       "latex": [
        "$$\\left[\\begin{smallmatrix}\\cos{\\left (\\theta_{1} \\right )} \\cos{\\left (\\theta_{2} \\right )} & - \\sin{\\left (\\theta_{2} \\right )} \\cos{\\left (\\theta_{1} \\right )} & \\sin{\\left (\\theta_{1} \\right )} & L_{1} \\cos{\\left (\\theta_{1} \\right )}\\\\\\sin{\\left (\\theta_{1} \\right )} \\cos{\\left (\\theta_{2} \\right )} & - \\sin{\\left (\\theta_{1} \\right )} \\sin{\\left (\\theta_{2} \\right )} & - \\cos{\\left (\\theta_{1} \\right )} & L_{1} \\sin{\\left (\\theta_{1} \\right )}\\\\\\sin{\\left (\\theta_{2} \\right )} & \\cos{\\left (\\theta_{2} \\right )} & 0 & 0\\\\0 & 0 & 0 & 1\\end{smallmatrix}\\right]$$"
       ],
       "metadata": {},
       "output_type": "pyout",
       "png": "[encoded data removed]",
       "prompt_number": 33,
       "text": [
        "\u23a1cos(\u03b8\u2081)\u22c5cos(\u03b8\u2082)  -sin(\u03b8\u2082)\u22c5cos(\u03b8\u2081)  sin(\u03b8\u2081)   L\u2081\u22c5cos(\u03b8\u2081)\u23a4\n",
        "\u23a2                                                       \u23a5\n",
        "\u23a2sin(\u03b8\u2081)\u22c5cos(\u03b8\u2082)  -sin(\u03b8\u2081)\u22c5sin(\u03b8\u2082)  -cos(\u03b8\u2081)  L\u2081\u22c5sin(\u03b8\u2081)\u23a5\n",
        "\u23a2                                                       \u23a5\n",
        "\u23a2    sin(\u03b8\u2082)          cos(\u03b8\u2082)          0          0     \u23a5\n",
        "\u23a2                                                       \u23a5\n",
        "\u23a3       0                0             0          1     \u23a6"
       ]
      }
     ],
     "prompt_number": 33
    },
    {
     "cell_type": "markdown",
     "metadata": {},
     "source": [
      "Podemos ver que $^{0}P_{TIP}=(^{2}_{0}A^{2})P_{TIP}$, entonces $^{2}P_{TIP}=[L_2,0,0]^{T}$"
     ]
    },
    {
     "cell_type": "code",
     "collapsed": false,
     "input": [
      "P_TIP = Matrix([[L_2,0,0,1]])\n",
      "P_TIP = P_TIP.T\n",
      "P_TIP"
     ],
     "language": "python",
     "metadata": {},
     "outputs": [
      {
       "latex": [
        "$$\\left[\\begin{smallmatrix}L_{2}\\\\0\\\\0\\\\1\\end{smallmatrix}\\right]$$"
       ],
       "metadata": {},
       "output_type": "pyout",
       "png": "[encoded data removed]",
       "prompt_number": 36,
       "text": [
        "\u23a1L\u2082\u23a4\n",
        "\u23a2  \u23a5\n",
        "\u23a20 \u23a5\n",
        "\u23a2  \u23a5\n",
        "\u23a20 \u23a5\n",
        "\u23a2  \u23a5\n",
        "\u23a31 \u23a6"
       ]
      }
     ],
     "prompt_number": 36
    },
    {
     "cell_type": "code",
     "collapsed": false,
     "input": [
      "#Hallamos el vector buscado\n",
      "P_TIP_0 = A_0_2 * P_TIP\n",
      "P_TIP_0"
     ],
     "language": "python",
     "metadata": {},
     "outputs": [
      {
       "latex": [
        "$$\\left[\\begin{smallmatrix}L_{1} \\cos{\\left (\\theta_{1} \\right )} + L_{2} \\cos{\\left (\\theta_{1} \\right )} \\cos{\\left (\\theta_{2} \\right )}\\\\L_{1} \\sin{\\left (\\theta_{1} \\right )} + L_{2} \\sin{\\left (\\theta_{1} \\right )} \\cos{\\left (\\theta_{2} \\right )}\\\\L_{2} \\sin{\\left (\\theta_{2} \\right )}\\\\1\\end{smallmatrix}\\right]$$"
       ],
       "metadata": {},
       "output_type": "pyout",
       "png": "[encoded data removed]",
       "prompt_number": 38,
       "text": [
        "\u23a1L\u2081\u22c5cos(\u03b8\u2081) + L\u2082\u22c5cos(\u03b8\u2081)\u22c5cos(\u03b8\u2082)\u23a4\n",
        "\u23a2                               \u23a5\n",
        "\u23a2L\u2081\u22c5sin(\u03b8\u2081) + L\u2082\u22c5sin(\u03b8\u2081)\u22c5cos(\u03b8\u2082)\u23a5\n",
        "\u23a2                               \u23a5\n",
        "\u23a2          L\u2082\u22c5sin(\u03b8\u2082)           \u23a5\n",
        "\u23a2                               \u23a5\n",
        "\u23a3               1               \u23a6"
       ]
      }
     ],
     "prompt_number": 38
    },
    {
     "cell_type": "markdown",
     "metadata": {},
     "source": [
      "##Ejercicio 5\n",
      "\n",
      "####Determinar los par\u00e1metros de links ($a_{i-1}$, $\\alpha_{i-1}$, $d_{i}$, $\\theta_{i}$) y la cinem\u00e1tica ($^{0}_{3}A$) del manipulador de 3 brazos RPP de la figura siguiente:"
     ]
    },
    {
     "cell_type": "markdown",
     "metadata": {},
     "source": [
      "<img src=\"files/robot5_tp2.png\" style=\"float: left;\"/>\n",
      "<div style=\"clear: both;\">"
     ]
    },
    {
     "cell_type": "markdown",
     "metadata": {},
     "source": [
      "La tabla correspondiente con los par\u00e1metros de Denavit-Hartemberg\n",
      "\n",
      "| $i$     | $\\alpha_{i-1}$     |$a_{i-1}$    |$d_{i}$ |$\\theta_{i}$ |\n",
      "| ------------- | ------------- |-------------|----------|----------|\n",
      "| 1 | 0 |  0           | 0         |   $\\theta_{1}$       |\n",
      "| 2 | 90 |  $d_{2}$           |    0      |   0       | \n",
      "| 3 |  0             |     $d_{3}$        |       0   |    0      |\n",
      "\n",
      "Nuevamente utilizamos la transformaci\u00f3n generica y reemplazamos los valores de la tabla"
     ]
    },
    {
     "cell_type": "code",
     "collapsed": false,
     "input": [
      "T_0_1  = T.subs([(alpha,0),(a,0),(d,0),(theta,theta_1)])\n",
      "T_0_1"
     ],
     "language": "python",
     "metadata": {},
     "outputs": [
      {
       "latex": [
        "$$\\left[\\begin{smallmatrix}\\cos{\\left (\\frac{1}{180} \\pi \\theta_{1} \\right )} & - \\sin{\\left (\\frac{1}{180} \\pi \\theta_{1} \\right )} & 0 & 0\\\\\\sin{\\left (\\frac{1}{180} \\pi \\theta_{1} \\right )} & \\cos{\\left (\\frac{1}{180} \\pi \\theta_{1} \\right )} & 0 & 0\\\\0 & 0 & 1 & 0\\\\0 & 0 & 0 & 1\\end{smallmatrix}\\right]$$"
       ],
       "metadata": {},
       "output_type": "pyout",
       "png": "[encoded data removed]",
       "prompt_number": 39,
       "text": [
        "\u23a1   \u239b\u03c0\u22c5\u03b8\u2081\u239e      \u239b\u03c0\u22c5\u03b8\u2081\u239e      \u23a4\n",
        "\u23a2cos\u239c\u2500\u2500\u2500\u2500\u239f  -sin\u239c\u2500\u2500\u2500\u2500\u239f  0  0\u23a5\n",
        "\u23a2   \u239d180 \u23a0      \u239d180 \u23a0      \u23a5\n",
        "\u23a2                           \u23a5\n",
        "\u23a2   \u239b\u03c0\u22c5\u03b8\u2081\u239e     \u239b\u03c0\u22c5\u03b8\u2081\u239e       \u23a5\n",
        "\u23a2sin\u239c\u2500\u2500\u2500\u2500\u239f  cos\u239c\u2500\u2500\u2500\u2500\u239f   0  0\u23a5\n",
        "\u23a2   \u239d180 \u23a0     \u239d180 \u23a0       \u23a5\n",
        "\u23a2                           \u23a5\n",
        "\u23a2    0          0       1  0\u23a5\n",
        "\u23a2                           \u23a5\n",
        "\u23a3    0          0       0  1\u23a6"
       ]
      }
     ],
     "prompt_number": 39
    },
    {
     "cell_type": "code",
     "collapsed": false,
     "input": [
      "d_3, d_2  = symbols('d_3 d_2')"
     ],
     "language": "python",
     "metadata": {},
     "outputs": [],
     "prompt_number": 43
    },
    {
     "cell_type": "code",
     "collapsed": false,
     "input": [
      "T_1_2 = T.subs([(alpha,90),(a,d_2),(d,0),(theta,0)])\n",
      "T_1_2"
     ],
     "language": "python",
     "metadata": {},
     "outputs": [
      {
       "latex": [
        "$$\\left[\\begin{smallmatrix}1 & 0 & 0 & d_{2}\\\\0 & 0 & -1 & 0\\\\0 & 1 & 0 & 0\\\\0 & 0 & 0 & 1\\end{smallmatrix}\\right]$$"
       ],
       "metadata": {},
       "output_type": "pyout",
       "png": "[encoded data removed]",
       "prompt_number": 44,
       "text": [
        "\u23a11  0  0   d\u2082\u23a4\n",
        "\u23a2            \u23a5\n",
        "\u23a20  0  -1  0 \u23a5\n",
        "\u23a2            \u23a5\n",
        "\u23a20  1  0   0 \u23a5\n",
        "\u23a2            \u23a5\n",
        "\u23a30  0  0   1 \u23a6"
       ]
      }
     ],
     "prompt_number": 44
    },
    {
     "cell_type": "code",
     "collapsed": false,
     "input": [
      "T_2_3 = T.subs([(alpha,0),(a,d_3),(d,0),(theta,0)])\n",
      "T_2_3"
     ],
     "language": "python",
     "metadata": {},
     "outputs": [
      {
       "latex": [
        "$$\\left[\\begin{smallmatrix}1 & 0 & 0 & d_{3}\\\\0 & 1 & 0 & 0\\\\0 & 0 & 1 & 0\\\\0 & 0 & 0 & 1\\end{smallmatrix}\\right]$$"
       ],
       "metadata": {},
       "output_type": "pyout",
       "png": "[encoded data removed]",
       "prompt_number": 45,
       "text": [
        "\u23a11  0  0  d\u2083\u23a4\n",
        "\u23a2           \u23a5\n",
        "\u23a20  1  0  0 \u23a5\n",
        "\u23a2           \u23a5\n",
        "\u23a20  0  1  0 \u23a5\n",
        "\u23a2           \u23a5\n",
        "\u23a30  0  0  1 \u23a6"
       ]
      }
     ],
     "prompt_number": 45
    },
    {
     "cell_type": "code",
     "collapsed": false,
     "input": [
      "#Obtenemos la transformacion final\n",
      "T_0_3 = T_0_1 * T_1_2 * T_2_3\n",
      "T_0_3"
     ],
     "language": "python",
     "metadata": {},
     "outputs": [
      {
       "latex": [
        "$$\\left[\\begin{smallmatrix}\\cos{\\left (\\frac{1}{180} \\pi \\theta_{1} \\right )} & 0 & \\sin{\\left (\\frac{1}{180} \\pi \\theta_{1} \\right )} & d_{2} \\cos{\\left (\\frac{1}{180} \\pi \\theta_{1} \\right )} + d_{3} \\cos{\\left (\\frac{1}{180} \\pi \\theta_{1} \\right )}\\\\\\sin{\\left (\\frac{1}{180} \\pi \\theta_{1} \\right )} & 0 & - \\cos{\\left (\\frac{1}{180} \\pi \\theta_{1} \\right )} & d_{2} \\sin{\\left (\\frac{1}{180} \\pi \\theta_{1} \\right )} + d_{3} \\sin{\\left (\\frac{1}{180} \\pi \\theta_{1} \\right )}\\\\0 & 1 & 0 & 0\\\\0 & 0 & 0 & 1\\end{smallmatrix}\\right]$$"
       ],
       "metadata": {},
       "output_type": "pyout",
       "png": "[encoded data removed]",
       "prompt_number": 47,
       "text": [
        "\u23a1   \u239b\u03c0\u22c5\u03b8\u2081\u239e        \u239b\u03c0\u22c5\u03b8\u2081\u239e         \u239b\u03c0\u22c5\u03b8\u2081\u239e         \u239b\u03c0\u22c5\u03b8\u2081\u239e\u23a4\n",
        "\u23a2cos\u239c\u2500\u2500\u2500\u2500\u239f  0  sin\u239c\u2500\u2500\u2500\u2500\u239f   d\u2082\u22c5cos\u239c\u2500\u2500\u2500\u2500\u239f + d\u2083\u22c5cos\u239c\u2500\u2500\u2500\u2500\u239f\u23a5\n",
        "\u23a2   \u239d180 \u23a0        \u239d180 \u23a0         \u239d180 \u23a0         \u239d180 \u23a0\u23a5\n",
        "\u23a2                                                     \u23a5\n",
        "\u23a2   \u239b\u03c0\u22c5\u03b8\u2081\u239e         \u239b\u03c0\u22c5\u03b8\u2081\u239e        \u239b\u03c0\u22c5\u03b8\u2081\u239e         \u239b\u03c0\u22c5\u03b8\u2081\u239e\u23a5\n",
        "\u23a2sin\u239c\u2500\u2500\u2500\u2500\u239f  0  -cos\u239c\u2500\u2500\u2500\u2500\u239f  d\u2082\u22c5sin\u239c\u2500\u2500\u2500\u2500\u239f + d\u2083\u22c5sin\u239c\u2500\u2500\u2500\u2500\u239f\u23a5\n",
        "\u23a2   \u239d180 \u23a0         \u239d180 \u23a0        \u239d180 \u23a0         \u239d180 \u23a0\u23a5\n",
        "\u23a2                                                     \u23a5\n",
        "\u23a2    0      1      0                    0             \u23a5\n",
        "\u23a2                                                     \u23a5\n",
        "\u23a3    0      0      0                    1             \u23a6"
       ]
      }
     ],
     "prompt_number": 47
    },
    {
     "cell_type": "code",
     "collapsed": false,
     "input": [],
     "language": "python",
     "metadata": {},
     "outputs": []
    }
   ],
   "metadata": {}
  }
 ]
}