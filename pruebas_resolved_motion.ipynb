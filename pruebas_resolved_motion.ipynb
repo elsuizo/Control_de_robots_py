{
 "metadata": {
  "name": ""
 },
 "nbformat": 3,
 "nbformat_minor": 0,
 "worksheets": [
  {
   "cells": [
    {
     "cell_type": "code",
     "collapsed": false,
     "input": [
      "import numpy as np \n",
      "import matplotlib.pyplot as plt\n",
      "from sympy import *"
     ],
     "language": "python",
     "metadata": {},
     "outputs": [],
     "prompt_number": 2
    },
    {
     "cell_type": "code",
     "collapsed": false,
     "input": [
      "init_printing(use_latex=True)"
     ],
     "language": "python",
     "metadata": {},
     "outputs": [],
     "prompt_number": 3
    },
    {
     "cell_type": "code",
     "collapsed": false,
     "input": [
      "#estos son simbolos especiales que los toma como letras griegas directamente(muuy groso)\n",
      "theta_1, theta_2, theta_3, L_1, L_2, L_3 = symbols('theta_1, theta_2 theta_3 L_1 L_2 L_3')"
     ],
     "language": "python",
     "metadata": {},
     "outputs": [],
     "prompt_number": 4
    },
    {
     "cell_type": "code",
     "collapsed": false,
     "input": [
      "#jacobiano simbolico\n",
      "a11 = -L_1*sin(theta_1) - L_2*sin(theta_1+theta_2) - L_3*sin(theta_1+theta_2+theta_3)\n",
      "a12 = -L_2*sin(theta_1+theta_2) - L_3*sin(theta_1+theta_2+theta_3)\n",
      "a13 = -L_3*sin(theta_1+theta_2+theta_3)\n",
      "\n",
      "a21 = L_1*cos(theta_1) + L_2*cos(theta_1+theta_2) + L_3*cos(theta_1+theta_2+theta_3)\n",
      "a22 = L_2*cos(theta_1+theta_2) + L_3*cos(theta_1+theta_2+theta_3)\n",
      "a23 = L_3*cos(theta_1+theta_2+theta_3)\n",
      "a31 = 1\n",
      "a32 = 1 \n",
      "a33 = 1\n",
      "\n",
      "J = Matrix([[a11,a12,a13],[a21,a22,a23],[a31,a32,a33]])\n",
      "J"
     ],
     "language": "python",
     "metadata": {},
     "outputs": [
      {
       "latex": [
        "$$\\left[\\begin{smallmatrix}{}- L_{1} \\sin{\\left (\\theta_{1} \\right )} - L_{2} \\sin{\\left (\\theta_{1} + \\theta_{2} \\right )} - L_{3} \\sin{\\left (\\theta_{1} + \\theta_{2} + \\theta_{3} \\right )} & - L_{2} \\sin{\\left (\\theta_{1} + \\theta_{2} \\right )} - L_{3} \\sin{\\left (\\theta_{1} + \\theta_{2} + \\theta_{3} \\right )} & - L_{3} \\sin{\\left (\\theta_{1} + \\theta_{2} + \\theta_{3} \\right )}\\\\L_{1} \\cos{\\left (\\theta_{1} \\right )} + L_{2} \\cos{\\left (\\theta_{1} + \\theta_{2} \\right )} + L_{3} \\cos{\\left (\\theta_{1} + \\theta_{2} + \\theta_{3} \\right )} & L_{2} \\cos{\\left (\\theta_{1} + \\theta_{2} \\right )} + L_{3} \\cos{\\left (\\theta_{1} + \\theta_{2} + \\theta_{3} \\right )} & L_{3} \\cos{\\left (\\theta_{1} + \\theta_{2} + \\theta_{3} \\right )}\\\\1 & 1 & 1\\end{smallmatrix}\\right]$$"
       ],
       "metadata": {},
       "output_type": "pyout",
       "prompt_number": 6,
       "text": [
        "\u23a1-L\u2081\u22c5sin(\u03b8\u2081) - L\u2082\u22c5sin(\u03b8\u2081 + \u03b8\u2082) - L\u2083\u22c5sin(\u03b8\u2081 + \u03b8\u2082 + \u03b8\u2083)  -L\u2082\u22c5sin(\u03b8\u2081 + \u03b8\u2082) - L\u2083\u22c5s\n",
        "\u23a2                                                                             \n",
        "\u23a2L\u2081\u22c5cos(\u03b8\u2081) + L\u2082\u22c5cos(\u03b8\u2081 + \u03b8\u2082) + L\u2083\u22c5cos(\u03b8\u2081 + \u03b8\u2082 + \u03b8\u2083)   L\u2082\u22c5cos(\u03b8\u2081 + \u03b8\u2082) + L\u2083\u22c5co\n",
        "\u23a2                                                                             \n",
        "\u23a3                         1                                               1   \n",
        "\n",
        "in(\u03b8\u2081 + \u03b8\u2082 + \u03b8\u2083)  -L\u2083\u22c5sin(\u03b8\u2081 + \u03b8\u2082 + \u03b8\u2083)\u23a4\n",
        "                                       \u23a5\n",
        "s(\u03b8\u2081 + \u03b8\u2082 + \u03b8\u2083)   L\u2083\u22c5cos(\u03b8\u2081 + \u03b8\u2082 + \u03b8\u2083) \u23a5\n",
        "                                       \u23a5\n",
        "                            1          \u23a6"
       ]
      }
     ],
     "prompt_number": 6
    },
    {
     "cell_type": "code",
     "collapsed": false,
     "input": [
      "#reemplazando las longitudes de los links\n",
      "\n",
      "J_real = J.subs([(L_1,4),(L_2,3),(L_3,2)])\n",
      "J_real"
     ],
     "language": "python",
     "metadata": {},
     "outputs": [
      {
       "latex": [
        "$$\\left[\\begin{smallmatrix}{}- 4 \\sin{\\left (\\theta_{1} \\right )} - 3 \\sin{\\left (\\theta_{1} + \\theta_{2} \\right )} - 2 \\sin{\\left (\\theta_{1} + \\theta_{2} + \\theta_{3} \\right )} & - 3 \\sin{\\left (\\theta_{1} + \\theta_{2} \\right )} - 2 \\sin{\\left (\\theta_{1} + \\theta_{2} + \\theta_{3} \\right )} & - 2 \\sin{\\left (\\theta_{1} + \\theta_{2} + \\theta_{3} \\right )}\\\\4 \\cos{\\left (\\theta_{1} \\right )} + 3 \\cos{\\left (\\theta_{1} + \\theta_{2} \\right )} + 2 \\cos{\\left (\\theta_{1} + \\theta_{2} + \\theta_{3} \\right )} & 3 \\cos{\\left (\\theta_{1} + \\theta_{2} \\right )} + 2 \\cos{\\left (\\theta_{1} + \\theta_{2} + \\theta_{3} \\right )} & 2 \\cos{\\left (\\theta_{1} + \\theta_{2} + \\theta_{3} \\right )}\\\\1 & 1 & 1\\end{smallmatrix}\\right]$$"
       ],
       "metadata": {},
       "output_type": "pyout",
       "prompt_number": 7,
       "text": [
        "\u23a1-4\u22c5sin(\u03b8\u2081) - 3\u22c5sin(\u03b8\u2081 + \u03b8\u2082) - 2\u22c5sin(\u03b8\u2081 + \u03b8\u2082 + \u03b8\u2083)  -3\u22c5sin(\u03b8\u2081 + \u03b8\u2082) - 2\u22c5sin(\u03b8\u2081\n",
        "\u23a2                                                                             \n",
        "\u23a24\u22c5cos(\u03b8\u2081) + 3\u22c5cos(\u03b8\u2081 + \u03b8\u2082) + 2\u22c5cos(\u03b8\u2081 + \u03b8\u2082 + \u03b8\u2083)   3\u22c5cos(\u03b8\u2081 + \u03b8\u2082) + 2\u22c5cos(\u03b8\u2081 \n",
        "\u23a2                                                                             \n",
        "\u23a3                        1                                            1       \n",
        "\n",
        " + \u03b8\u2082 + \u03b8\u2083)  -2\u22c5sin(\u03b8\u2081 + \u03b8\u2082 + \u03b8\u2083)\u23a4\n",
        "                                 \u23a5\n",
        "+ \u03b8\u2082 + \u03b8\u2083)   2\u22c5cos(\u03b8\u2081 + \u03b8\u2082 + \u03b8\u2083) \u23a5\n",
        "                                 \u23a5\n",
        "                      1          \u23a6"
       ]
      }
     ],
     "prompt_number": 7
    },
    {
     "cell_type": "code",
     "collapsed": false,
     "input": [
      "J_real_inv = J_real.inv()\n",
      "J_real_inv.simplify()\n",
      "J_real_inv"
     ],
     "language": "python",
     "metadata": {},
     "outputs": [
      {
       "latex": [
        "$$\\left[\\begin{smallmatrix}{}\\frac{1}{8 \\left(3 \\sin{\\left (\\theta_{2} \\right )} + 2 \\sin{\\left (\\theta_{2} + \\theta_{3} \\right )}\\right) \\left(4 \\sin{\\left (\\theta_{1} \\right )} + 3 \\sin{\\left (\\theta_{1} + \\theta_{2} \\right )} + 2 \\sin{\\left (\\theta_{1} + \\theta_{2} + \\theta_{3} \\right )}\\right)^{2} \\sin{\\left (\\theta_{2} \\right )}} \\left(- 8 \\left(3 \\sin{\\left (\\theta_{2} \\right )} + 2 \\sin{\\left (\\theta_{2} + \\theta_{3} \\right )}\\right) \\left(4 \\sin{\\left (\\theta_{1} \\right )} + 3 \\sin{\\left (\\theta_{1} + \\theta_{2} \\right )} + 2 \\sin{\\left (\\theta_{1} + \\theta_{2} + \\theta_{3} \\right )}\\right) \\sin{\\left (\\theta_{2} \\right )} + 2 \\left(3 \\sin{\\left (\\theta_{1} + \\theta_{2} \\right )} + 2 \\sin{\\left (\\theta_{1} + \\theta_{2} + \\theta_{3} \\right )}\\right) \\left(4 \\sin{\\left (\\theta_{1} \\right )} + 3 \\sin{\\left (\\theta_{1} + \\theta_{2} \\right )} + 2 \\sin{\\left (\\theta_{1} + \\theta_{2} + \\theta_{3} \\right )}\\right) \\left(4 \\cos{\\left (\\theta_{1} \\right )} + 3 \\cos{\\left (\\theta_{1} + \\theta_{2} \\right )} + 2 \\cos{\\left (\\theta_{1} + \\theta_{2} + \\theta_{3} \\right )}\\right) \\sin{\\left (\\theta_{2} \\right )} - \\left(4 \\sin{\\left (2 \\theta_{1} \\right )} + 3 \\sin{\\left (\\theta_{2} \\right )} + 3 \\sin{\\left (2 \\theta_{1} + \\theta_{2} \\right )} + 2 \\sin{\\left (\\theta_{2} + \\theta_{3} \\right )} + 2 \\sin{\\left (2 \\theta_{1} + \\theta_{2} + \\theta_{3} \\right )}\\right) \\left(- 2 \\cos{\\left (\\theta_{1} + \\theta_{2} \\right )} - 4 \\cos{\\left (\\theta_{1} - \\theta_{3} \\right )} + 4 \\cos{\\left (\\theta_{1} + \\theta_{3} \\right )} - 3 \\cos{\\left (\\theta_{1} + \\theta_{2} - \\theta_{3} \\right )} + 3 \\cos{\\left (\\theta_{1} + \\theta_{2} + \\theta_{3} \\right )} + 2 \\cos{\\left (\\theta_{1} + \\theta_{2} + 2 \\theta_{3} \\right )}\\right)\\right) & \\frac{3 \\cos{\\left (\\theta_{1} \\right )} - 3 \\cos{\\left (\\theta_{1} + 2 \\theta_{2} \\right )} + 2 \\cos{\\left (\\theta_{1} - \\theta_{3} \\right )} - 2 \\cos{\\left (\\theta_{1} + 2 \\theta_{2} + \\theta_{3} \\right )}}{- 12 \\cos{\\left (2 \\theta_{2} \\right )} + 8 \\cos{\\left (\\theta_{3} \\right )} - 8 \\cos{\\left (2 \\theta_{2} + \\theta_{3} \\right )} + 12} & \\frac{\\sin{\\left (\\theta_{3} \\right )}}{2 \\sin{\\left (\\theta_{2} \\right )}}\\\\- \\frac{1}{\\left(3 \\sin{\\left (\\theta_{2} \\right )} + 2 \\sin{\\left (\\theta_{2} + \\theta_{3} \\right )}\\right) \\left(4 \\sin{\\left (\\theta_{1} \\right )} + 3 \\sin{\\left (\\theta_{1} + \\theta_{2} \\right )} + 2 \\sin{\\left (\\theta_{1} + \\theta_{2} + \\theta_{3} \\right )}\\right) \\sin{\\left (\\theta_{2} \\right )}} \\left(\\frac{1}{6} \\left(3 \\sin{\\left (\\theta_{3} \\right )} + 4 \\sin{\\left (\\theta_{2} + \\theta_{3} \\right )}\\right) \\left(2 \\sin{\\left (2 \\theta_{1} \\right )} + \\frac{3}{2} \\sin{\\left (\\theta_{2} \\right )} + \\frac{3}{2} \\sin{\\left (2 \\theta_{1} + \\theta_{2} \\right )} + \\sin{\\left (\\theta_{2} + \\theta_{3} \\right )} + \\sin{\\left (2 \\theta_{1} + \\theta_{2} + \\theta_{3} \\right )}\\right) + \\frac{1}{4} \\left(4 \\sin{\\left (\\theta_{1} \\right )} + 3 \\sin{\\left (\\theta_{1} + \\theta_{2} \\right )} + 2 \\sin{\\left (\\theta_{1} + \\theta_{2} + \\theta_{3} \\right )}\\right) \\left(4 \\cos{\\left (\\theta_{1} \\right )} + 3 \\cos{\\left (\\theta_{1} + \\theta_{2} \\right )} + 2 \\cos{\\left (\\theta_{1} + \\theta_{2} + \\theta_{3} \\right )}\\right) \\sin{\\left (\\theta_{2} \\right )}\\right) & - \\frac{1}{\\left(3 \\sin{\\left (\\theta_{2} \\right )} + 2 \\sin{\\left (\\theta_{2} + \\theta_{3} \\right )}\\right) \\sin{\\left (\\theta_{2} \\right )}} \\left(\\frac{1}{6} \\left(3 \\sin{\\left (\\theta_{3} \\right )} + 4 \\sin{\\left (\\theta_{2} + \\theta_{3} \\right )}\\right) \\sin{\\left (\\theta_{1} \\right )} + \\frac{1}{4} \\left(4 \\sin{\\left (\\theta_{1} \\right )} + 3 \\sin{\\left (\\theta_{1} + \\theta_{2} \\right )} + 2 \\sin{\\left (\\theta_{1} + \\theta_{2} + \\theta_{3} \\right )}\\right) \\sin{\\left (\\theta_{2} \\right )}\\right) & - \\frac{1}{6 \\sin{\\left (\\theta_{2} \\right )}} \\left(3 \\sin{\\left (\\theta_{3} \\right )} + 4 \\sin{\\left (\\theta_{2} + \\theta_{3} \\right )}\\right)\\\\\\frac{\\frac{2}{3} \\sin{\\left (2 \\theta_{1} \\right )} + \\frac{1}{2} \\sin{\\left (\\theta_{2} \\right )} + \\frac{1}{2} \\sin{\\left (2 \\theta_{1} + \\theta_{2} \\right )} + \\frac{1}{3} \\sin{\\left (\\theta_{2} + \\theta_{3} \\right )} + \\frac{1}{3} \\sin{\\left (2 \\theta_{1} + \\theta_{2} + \\theta_{3} \\right )}}{\\left(4 \\sin{\\left (\\theta_{1} \\right )} + 3 \\sin{\\left (\\theta_{1} + \\theta_{2} \\right )} + 2 \\sin{\\left (\\theta_{1} + \\theta_{2} + \\theta_{3} \\right )}\\right) \\sin{\\left (\\theta_{2} \\right )}} & \\frac{\\sin{\\left (\\theta_{1} \\right )}}{3 \\sin{\\left (\\theta_{2} \\right )}} & \\frac{2 \\sin{\\left (\\theta_{3} \\right )}}{3 \\tan{\\left (\\theta_{2} \\right )}} + \\frac{2}{3} \\cos{\\left (\\theta_{3} \\right )} + 1\\end{smallmatrix}\\right]$$"
       ],
       "metadata": {},
       "output_type": "pyout",
       "prompt_number": 9,
       "text": [
        "\u23a1-8\u22c5(3\u22c5sin(\u03b8\u2082) + 2\u22c5sin(\u03b8\u2082 + \u03b8\u2083))\u22c5(4\u22c5sin(\u03b8\u2081) + 3\u22c5sin(\u03b8\u2081 + \u03b8\u2082) + 2\u22c5sin(\u03b8\u2081 + \u03b8\u2082 +\n",
        "\u23a2\u2500\u2500\u2500\u2500\u2500\u2500\u2500\u2500\u2500\u2500\u2500\u2500\u2500\u2500\u2500\u2500\u2500\u2500\u2500\u2500\u2500\u2500\u2500\u2500\u2500\u2500\u2500\u2500\u2500\u2500\u2500\u2500\u2500\u2500\u2500\u2500\u2500\u2500\u2500\u2500\u2500\u2500\u2500\u2500\u2500\u2500\u2500\u2500\u2500\u2500\u2500\u2500\u2500\u2500\u2500\u2500\u2500\u2500\u2500\u2500\u2500\u2500\u2500\u2500\u2500\u2500\u2500\u2500\u2500\u2500\u2500\u2500\u2500\u2500\u2500\u2500\u2500\n",
        "\u23a2                                                                             \n",
        "\u23a2                                                                             \n",
        "\u23a2                                                                             \n",
        "\u23a2                                                                             \n",
        "\u23a2                                                                             \n",
        "\u23a2                                                                             \n",
        "\u23a2                                                                             \n",
        "\u23a2                                                                             \n",
        "\u23a2                                                                             \n",
        "\u23a2                                                                             \n",
        "\u23a2                                                                             \n",
        "\u23a2                                                                             \n",
        "\u23a2                                                                             \n",
        "\u23a2                                                                             \n",
        "\u23a2                                                                             \n",
        "\u23a3                                                                             \n",
        "\n",
        " \u03b8\u2083))\u22c5sin(\u03b8\u2082) + 2\u22c5(3\u22c5sin(\u03b8\u2081 + \u03b8\u2082) + 2\u22c5sin(\u03b8\u2081 + \u03b8\u2082 + \u03b8\u2083))\u22c5(4\u22c5sin(\u03b8\u2081) + 3\u22c5sin(\u03b8\u2081\n",
        "\u2500\u2500\u2500\u2500\u2500\u2500\u2500\u2500\u2500\u2500\u2500\u2500\u2500\u2500\u2500\u2500\u2500\u2500\u2500\u2500\u2500\u2500\u2500\u2500\u2500\u2500\u2500\u2500\u2500\u2500\u2500\u2500\u2500\u2500\u2500\u2500\u2500\u2500\u2500\u2500\u2500\u2500\u2500\u2500\u2500\u2500\u2500\u2500\u2500\u2500\u2500\u2500\u2500\u2500\u2500\u2500\u2500\u2500\u2500\u2500\u2500\u2500\u2500\u2500\u2500\u2500\u2500\u2500\u2500\u2500\u2500\u2500\u2500\u2500\u2500\u2500\u2500\u2500\n",
        "                                                                              \n",
        "                                                                              \n",
        "                                                                              \n",
        "                                    \u239b                             \u239b           \n",
        "                                    \u239c(3\u22c5sin(\u03b8\u2083) + 4\u22c5sin(\u03b8\u2082 + \u03b8\u2083))\u22c5\u239c2\u22c5sin(2\u22c5\u03b8\u2081)\n",
        "                                    \u239c                             \u239d           \n",
        "                                   -\u239c\u2500\u2500\u2500\u2500\u2500\u2500\u2500\u2500\u2500\u2500\u2500\u2500\u2500\u2500\u2500\u2500\u2500\u2500\u2500\u2500\u2500\u2500\u2500\u2500\u2500\u2500\u2500\u2500\u2500\u2500\u2500\u2500\u2500\u2500\u2500\u2500\u2500\u2500\u2500\u2500\u2500\n",
        "                                    \u239d                                         \n",
        "                                   \u2500\u2500\u2500\u2500\u2500\u2500\u2500\u2500\u2500\u2500\u2500\u2500\u2500\u2500\u2500\u2500\u2500\u2500\u2500\u2500\u2500\u2500\u2500\u2500\u2500\u2500\u2500\u2500\u2500\u2500\u2500\u2500\u2500\u2500\u2500\u2500\u2500\u2500\u2500\u2500\u2500\u2500\u2500\n",
        "                                                                              \n",
        "                                                                              \n",
        "                                                                              \n",
        "                                                                              \n",
        "                                                                              \n",
        "                                                                              \n",
        "                                                                              \n",
        "\n",
        " + \u03b8\u2082) + 2\u22c5sin(\u03b8\u2081 + \u03b8\u2082 + \u03b8\u2083))\u22c5(4\u22c5cos(\u03b8\u2081) + 3\u22c5cos(\u03b8\u2081 + \u03b8\u2082) + 2\u22c5cos(\u03b8\u2081 + \u03b8\u2082 + \u03b8\u2083\n",
        "\u2500\u2500\u2500\u2500\u2500\u2500\u2500\u2500\u2500\u2500\u2500\u2500\u2500\u2500\u2500\u2500\u2500\u2500\u2500\u2500\u2500\u2500\u2500\u2500\u2500\u2500\u2500\u2500\u2500\u2500\u2500\u2500\u2500\u2500\u2500\u2500\u2500\u2500\u2500\u2500\u2500\u2500\u2500\u2500\u2500\u2500\u2500\u2500\u2500\u2500\u2500\u2500\u2500\u2500\u2500\u2500\u2500\u2500\u2500\u2500\u2500\u2500\u2500\u2500\u2500\u2500\u2500\u2500\u2500\u2500\u2500\u2500\u2500\u2500\u2500\u2500\u2500\u2500\n",
        "                                                                              \n",
        "                          8\u22c5(3\u22c5sin(\u03b8\u2082) + 2\u22c5sin(\u03b8\u2082 + \u03b8\u2083))\u22c5(4\u22c5sin(\u03b8\u2081) + 3\u22c5sin(\u03b8\u2081\n",
        "                                                                              \n",
        "   3\u22c5sin(\u03b8\u2082)   3\u22c5sin(2\u22c5\u03b8\u2081 + \u03b8\u2082)                                     \u239e         \n",
        " + \u2500\u2500\u2500\u2500\u2500\u2500\u2500\u2500\u2500 + \u2500\u2500\u2500\u2500\u2500\u2500\u2500\u2500\u2500\u2500\u2500\u2500\u2500\u2500\u2500\u2500 + sin(\u03b8\u2082 + \u03b8\u2083) + sin(2\u22c5\u03b8\u2081 + \u03b8\u2082 + \u03b8\u2083)\u239f         \n",
        "       2              2                                             \u23a0   (4\u22c5sin\n",
        "\u2500\u2500\u2500\u2500\u2500\u2500\u2500\u2500\u2500\u2500\u2500\u2500\u2500\u2500\u2500\u2500\u2500\u2500\u2500\u2500\u2500\u2500\u2500\u2500\u2500\u2500\u2500\u2500\u2500\u2500\u2500\u2500\u2500\u2500\u2500\u2500\u2500\u2500\u2500\u2500\u2500\u2500\u2500\u2500\u2500\u2500\u2500\u2500\u2500\u2500\u2500\u2500\u2500\u2500\u2500\u2500\u2500\u2500\u2500\u2500\u2500\u2500\u2500\u2500\u2500\u2500\u2500\u2500\u2500 + \u2500\u2500\u2500\u2500\u2500\u2500\n",
        "             6                                                                \n",
        "\u2500\u2500\u2500\u2500\u2500\u2500\u2500\u2500\u2500\u2500\u2500\u2500\u2500\u2500\u2500\u2500\u2500\u2500\u2500\u2500\u2500\u2500\u2500\u2500\u2500\u2500\u2500\u2500\u2500\u2500\u2500\u2500\u2500\u2500\u2500\u2500\u2500\u2500\u2500\u2500\u2500\u2500\u2500\u2500\u2500\u2500\u2500\u2500\u2500\u2500\u2500\u2500\u2500\u2500\u2500\u2500\u2500\u2500\u2500\u2500\u2500\u2500\u2500\u2500\u2500\u2500\u2500\u2500\u2500\u2500\u2500\u2500\u2500\u2500\u2500\u2500\u2500\u2500\n",
        "                          (3\u22c5sin(\u03b8\u2082) + 2\u22c5sin(\u03b8\u2082 + \u03b8\u2083))\u22c5(4\u22c5sin(\u03b8\u2081) + 3\u22c5sin(\u03b8\u2081 +\n",
        "                                                                              \n",
        "                                 2\u22c5sin(2\u22c5\u03b8\u2081)   sin(\u03b8\u2082)   sin(2\u22c5\u03b8\u2081 + \u03b8\u2082)   sin(\n",
        "                                 \u2500\u2500\u2500\u2500\u2500\u2500\u2500\u2500\u2500\u2500\u2500 + \u2500\u2500\u2500\u2500\u2500\u2500\u2500 + \u2500\u2500\u2500\u2500\u2500\u2500\u2500\u2500\u2500\u2500\u2500\u2500\u2500\u2500 + \u2500\u2500\u2500\u2500\n",
        "                                      3           2            2              \n",
        "                                 \u2500\u2500\u2500\u2500\u2500\u2500\u2500\u2500\u2500\u2500\u2500\u2500\u2500\u2500\u2500\u2500\u2500\u2500\u2500\u2500\u2500\u2500\u2500\u2500\u2500\u2500\u2500\u2500\u2500\u2500\u2500\u2500\u2500\u2500\u2500\u2500\u2500\u2500\u2500\u2500\u2500\u2500\u2500\u2500\u2500\n",
        "                                          (4\u22c5sin(\u03b8\u2081) + 3\u22c5sin(\u03b8\u2081 + \u03b8\u2082) + 2\u22c5sin(\n",
        "\n",
        "))\u22c5sin(\u03b8\u2082) - (4\u22c5sin(2\u22c5\u03b8\u2081) + 3\u22c5sin(\u03b8\u2082) + 3\u22c5sin(2\u22c5\u03b8\u2081 + \u03b8\u2082) + 2\u22c5sin(\u03b8\u2082 + \u03b8\u2083) + 2\u22c5\n",
        "\u2500\u2500\u2500\u2500\u2500\u2500\u2500\u2500\u2500\u2500\u2500\u2500\u2500\u2500\u2500\u2500\u2500\u2500\u2500\u2500\u2500\u2500\u2500\u2500\u2500\u2500\u2500\u2500\u2500\u2500\u2500\u2500\u2500\u2500\u2500\u2500\u2500\u2500\u2500\u2500\u2500\u2500\u2500\u2500\u2500\u2500\u2500\u2500\u2500\u2500\u2500\u2500\u2500\u2500\u2500\u2500\u2500\u2500\u2500\u2500\u2500\u2500\u2500\u2500\u2500\u2500\u2500\u2500\u2500\u2500\u2500\u2500\u2500\u2500\u2500\u2500\u2500\u2500\n",
        "                             2                                                \n",
        " + \u03b8\u2082) + 2\u22c5sin(\u03b8\u2081 + \u03b8\u2082 + \u03b8\u2083)) \u22c5sin(\u03b8\u2082)                                        \n",
        "                                                                              \n",
        "                                                                              \n",
        "                                                                              \n",
        "(\u03b8\u2081) + 3\u22c5sin(\u03b8\u2081 + \u03b8\u2082) + 2\u22c5sin(\u03b8\u2081 + \u03b8\u2082 + \u03b8\u2083))\u22c5(4\u22c5cos(\u03b8\u2081) + 3\u22c5cos(\u03b8\u2081 + \u03b8\u2082) + 2\u22c5c\n",
        "\u2500\u2500\u2500\u2500\u2500\u2500\u2500\u2500\u2500\u2500\u2500\u2500\u2500\u2500\u2500\u2500\u2500\u2500\u2500\u2500\u2500\u2500\u2500\u2500\u2500\u2500\u2500\u2500\u2500\u2500\u2500\u2500\u2500\u2500\u2500\u2500\u2500\u2500\u2500\u2500\u2500\u2500\u2500\u2500\u2500\u2500\u2500\u2500\u2500\u2500\u2500\u2500\u2500\u2500\u2500\u2500\u2500\u2500\u2500\u2500\u2500\u2500\u2500\u2500\u2500\u2500\u2500\u2500\u2500\u2500\u2500\u2500\u2500\u2500\u2500\u2500\u2500\u2500\n",
        "                                                4                             \n",
        "\u2500\u2500\u2500\u2500\u2500\u2500\u2500\u2500\u2500\u2500\u2500\u2500\u2500\u2500\u2500\u2500\u2500\u2500\u2500\u2500\u2500\u2500\u2500\u2500\u2500\u2500\u2500\u2500\u2500\u2500\u2500\u2500\u2500\u2500\u2500\u2500\u2500\u2500\u2500\u2500\u2500\u2500\u2500\u2500\u2500\u2500\u2500\u2500\u2500\u2500\u2500\u2500\u2500\u2500\u2500\u2500\u2500\u2500\u2500\u2500\u2500\u2500\u2500\u2500\u2500\u2500\u2500\u2500\u2500\u2500\u2500\u2500\u2500\u2500\u2500\u2500\u2500\u2500\n",
        " \u03b8\u2082) + 2\u22c5sin(\u03b8\u2081 + \u03b8\u2082 + \u03b8\u2083))\u22c5sin(\u03b8\u2082)                                           \n",
        "                                                                              \n",
        "\u03b8\u2082 + \u03b8\u2083)   sin(2\u22c5\u03b8\u2081 + \u03b8\u2082 + \u03b8\u2083)                                                \n",
        "\u2500\u2500\u2500\u2500\u2500\u2500\u2500\u2500 + \u2500\u2500\u2500\u2500\u2500\u2500\u2500\u2500\u2500\u2500\u2500\u2500\u2500\u2500\u2500\u2500\u2500\u2500\u2500                                                \n",
        " 3                  3                                                         \n",
        "\u2500\u2500\u2500\u2500\u2500\u2500\u2500\u2500\u2500\u2500\u2500\u2500\u2500\u2500\u2500\u2500\u2500\u2500\u2500\u2500\u2500\u2500\u2500\u2500\u2500\u2500\u2500\u2500\u2500\u2500                                                \n",
        "\u03b8\u2081 + \u03b8\u2082 + \u03b8\u2083))\u22c5sin(\u03b8\u2082)                                                        \n",
        "\n",
        "sin(2\u22c5\u03b8\u2081 + \u03b8\u2082 + \u03b8\u2083))\u22c5(-2\u22c5cos(\u03b8\u2081 + \u03b8\u2082) - 4\u22c5cos(\u03b8\u2081 - \u03b8\u2083) + 4\u22c5cos(\u03b8\u2081 + \u03b8\u2083) - 3\u22c5co\n",
        "\u2500\u2500\u2500\u2500\u2500\u2500\u2500\u2500\u2500\u2500\u2500\u2500\u2500\u2500\u2500\u2500\u2500\u2500\u2500\u2500\u2500\u2500\u2500\u2500\u2500\u2500\u2500\u2500\u2500\u2500\u2500\u2500\u2500\u2500\u2500\u2500\u2500\u2500\u2500\u2500\u2500\u2500\u2500\u2500\u2500\u2500\u2500\u2500\u2500\u2500\u2500\u2500\u2500\u2500\u2500\u2500\u2500\u2500\u2500\u2500\u2500\u2500\u2500\u2500\u2500\u2500\u2500\u2500\u2500\u2500\u2500\u2500\u2500\u2500\u2500\u2500\u2500\u2500\n",
        "                                                                              \n",
        "                                                                              \n",
        "                                                                              \n",
        "                         \u239e                                                    \n",
        "                         \u239f                                                    \n",
        "os(\u03b8\u2081 + \u03b8\u2082 + \u03b8\u2083))\u22c5sin(\u03b8\u2082)\u239f                                                    \n",
        "\u2500\u2500\u2500\u2500\u2500\u2500\u2500\u2500\u2500\u2500\u2500\u2500\u2500\u2500\u2500\u2500\u2500\u2500\u2500\u2500\u2500\u2500\u2500\u2500\u2500\u239f                                                    \n",
        "                         \u23a0                                                    \n",
        "\u2500\u2500\u2500\u2500\u2500\u2500\u2500\u2500\u2500\u2500\u2500\u2500\u2500\u2500\u2500\u2500\u2500\u2500\u2500\u2500\u2500\u2500\u2500\u2500\u2500\u2500\u2500                                                   \n",
        "                                                                              \n",
        "                                                                              \n",
        "                                                                              \n",
        "                                                                              \n",
        "                                                                              \n",
        "                                                                              \n",
        "                                                                              \n",
        "\n",
        "s(\u03b8\u2081 + \u03b8\u2082 - \u03b8\u2083) + 3\u22c5cos(\u03b8\u2081 + \u03b8\u2082 + \u03b8\u2083) + 2\u22c5cos(\u03b8\u2081 + \u03b8\u2082 + 2\u22c5\u03b8\u2083))                \n",
        "\u2500\u2500\u2500\u2500\u2500\u2500\u2500\u2500\u2500\u2500\u2500\u2500\u2500\u2500\u2500\u2500\u2500\u2500\u2500\u2500\u2500\u2500\u2500\u2500\u2500\u2500\u2500\u2500\u2500\u2500\u2500\u2500\u2500\u2500\u2500\u2500\u2500\u2500\u2500\u2500\u2500\u2500\u2500\u2500\u2500\u2500\u2500\u2500\u2500\u2500\u2500\u2500\u2500\u2500\u2500\u2500\u2500\u2500\u2500\u2500\u2500\u2500                \n",
        "                                                                              \n",
        "                                                                              \n",
        "                                                                              \n",
        "                                                                              \n",
        "                                                                              \n",
        "                                                                 \u239b(3\u22c5sin(\u03b8\u2083) +\n",
        "                                                                -\u239c\u2500\u2500\u2500\u2500\u2500\u2500\u2500\u2500\u2500\u2500\u2500\u2500\n",
        "                                                                 \u239d            \n",
        "                                                                \u2500\u2500\u2500\u2500\u2500\u2500\u2500\u2500\u2500\u2500\u2500\u2500\u2500\u2500\n",
        "                                                                              \n",
        "                                                                              \n",
        "                                                                              \n",
        "                                                                              \n",
        "                                                                              \n",
        "                                                                              \n",
        "                                                                              \n",
        "\n",
        "  3\u22c5cos(\u03b8\u2081) - 3\u22c5cos(\u03b8\u2081 + 2\u22c5\u03b8\u2082) + 2\u22c5cos(\u03b8\u2081 - \u03b8\u2083) - 2\u22c5cos(\u03b8\u2081 + 2\u22c5\u03b8\u2082 + \u03b8\u2083)       \n",
        "  \u2500\u2500\u2500\u2500\u2500\u2500\u2500\u2500\u2500\u2500\u2500\u2500\u2500\u2500\u2500\u2500\u2500\u2500\u2500\u2500\u2500\u2500\u2500\u2500\u2500\u2500\u2500\u2500\u2500\u2500\u2500\u2500\u2500\u2500\u2500\u2500\u2500\u2500\u2500\u2500\u2500\u2500\u2500\u2500\u2500\u2500\u2500\u2500\u2500\u2500\u2500\u2500\u2500\u2500\u2500\u2500\u2500\u2500\u2500\u2500\u2500\u2500\u2500\u2500\u2500\u2500\u2500\u2500\u2500       \n",
        "           4\u22c5(-3\u22c5cos(2\u22c5\u03b8\u2082) + 2\u22c5cos(\u03b8\u2083) - 2\u22c5cos(2\u22c5\u03b8\u2082 + \u03b8\u2083) + 3)                \n",
        "                                                                              \n",
        "                                                                              \n",
        "                                                                              \n",
        "                                                                              \n",
        " 4\u22c5sin(\u03b8\u2082 + \u03b8\u2083))\u22c5sin(\u03b8\u2081)   (4\u22c5sin(\u03b8\u2081) + 3\u22c5sin(\u03b8\u2081 + \u03b8\u2082) + 2\u22c5sin(\u03b8\u2081 + \u03b8\u2082 + \u03b8\u2083))\u22c5\n",
        "\u2500\u2500\u2500\u2500\u2500\u2500\u2500\u2500\u2500\u2500\u2500\u2500\u2500\u2500\u2500\u2500\u2500\u2500\u2500\u2500\u2500\u2500\u2500\u2500 + \u2500\u2500\u2500\u2500\u2500\u2500\u2500\u2500\u2500\u2500\u2500\u2500\u2500\u2500\u2500\u2500\u2500\u2500\u2500\u2500\u2500\u2500\u2500\u2500\u2500\u2500\u2500\u2500\u2500\u2500\u2500\u2500\u2500\u2500\u2500\u2500\u2500\u2500\u2500\u2500\u2500\u2500\u2500\u2500\u2500\u2500\u2500\u2500\u2500\u2500\u2500\n",
        "     6                                                 4                      \n",
        "\u2500\u2500\u2500\u2500\u2500\u2500\u2500\u2500\u2500\u2500\u2500\u2500\u2500\u2500\u2500\u2500\u2500\u2500\u2500\u2500\u2500\u2500\u2500\u2500\u2500\u2500\u2500\u2500\u2500\u2500\u2500\u2500\u2500\u2500\u2500\u2500\u2500\u2500\u2500\u2500\u2500\u2500\u2500\u2500\u2500\u2500\u2500\u2500\u2500\u2500\u2500\u2500\u2500\u2500\u2500\u2500\u2500\u2500\u2500\u2500\u2500\u2500\u2500\u2500\u2500\u2500\u2500\u2500\u2500\u2500\u2500\u2500\u2500\u2500\u2500\u2500\u2500\u2500\n",
        "                   (3\u22c5sin(\u03b8\u2082) + 2\u22c5sin(\u03b8\u2082 + \u03b8\u2083))\u22c5sin(\u03b8\u2082)                       \n",
        "                                                                              \n",
        "                                                                              \n",
        "                                                                              \n",
        "                                 sin(\u03b8\u2081)                                      \n",
        "                                \u2500\u2500\u2500\u2500\u2500\u2500\u2500\u2500\u2500                                     \n",
        "                                3\u22c5sin(\u03b8\u2082)                                     \n",
        "\n",
        "                      sin(\u03b8\u2083)            \u23a4\n",
        "                     \u2500\u2500\u2500\u2500\u2500\u2500\u2500\u2500\u2500           \u23a5\n",
        "                     2\u22c5sin(\u03b8\u2082)           \u23a5\n",
        "                                         \u23a5\n",
        "                                         \u23a5\n",
        "                                         \u23a5\n",
        "                                         \u23a5\n",
        "sin(\u03b8\u2082)\u239e                                 \u23a5\n",
        "\u2500\u2500\u2500\u2500\u2500\u2500\u2500\u239f                                 \u23a5\n",
        "       \u23a0   -(3\u22c5sin(\u03b8\u2083) + 4\u22c5sin(\u03b8\u2082 + \u03b8\u2083)) \u23a5\n",
        "\u2500\u2500\u2500\u2500\u2500\u2500\u2500\u2500\u2500  \u2500\u2500\u2500\u2500\u2500\u2500\u2500\u2500\u2500\u2500\u2500\u2500\u2500\u2500\u2500\u2500\u2500\u2500\u2500\u2500\u2500\u2500\u2500\u2500\u2500\u2500\u2500\u2500\u2500\u2500\u23a5\n",
        "                     6\u22c5sin(\u03b8\u2082)           \u23a5\n",
        "                                         \u23a5\n",
        "                                         \u23a5\n",
        "                                         \u23a5\n",
        "             2\u22c5sin(\u03b8\u2083)   2\u22c5cos(\u03b8\u2083)       \u23a5\n",
        "             \u2500\u2500\u2500\u2500\u2500\u2500\u2500\u2500\u2500 + \u2500\u2500\u2500\u2500\u2500\u2500\u2500\u2500\u2500 + 1   \u23a5\n",
        "             3\u22c5tan(\u03b8\u2082)       3           \u23a6"
       ]
      }
     ],
     "prompt_number": 9
    },
    {
     "cell_type": "code",
     "collapsed": false,
     "input": [
      "#creamos una funcion numerica a partir de la simbolica\n",
      "f1 = lambdify((theta_1,theta_2,theta_3),J_real,'numpy')"
     ],
     "language": "python",
     "metadata": {},
     "outputs": [],
     "prompt_number": 10
    },
    {
     "cell_type": "code",
     "collapsed": false,
     "input": [
      "f1(.3,.2,.2)"
     ],
     "language": "python",
     "metadata": {},
     "outputs": [
      {
       "metadata": {},
       "output_type": "pyout",
       "prompt_number": 11,
       "text": [
        "matrix([[-3.90879282, -2.72671199, -1.28843537],\n",
        "        [ 7.98377802,  4.16243206,  1.52968437],\n",
        "        [ 1.        ,  1.        ,  1.        ]])"
       ]
      }
     ],
     "prompt_number": 11
    },
    {
     "cell_type": "code",
     "collapsed": false,
     "input": [
      "f2 = lambdify((theta_1,theta_2,theta_3),J_real_inv,'numpy')"
     ],
     "language": "python",
     "metadata": {},
     "outputs": [],
     "prompt_number": 12
    },
    {
     "cell_type": "code",
     "collapsed": false,
     "input": [
      "f2(.1,np.pi/2,1)"
     ],
     "language": "python",
     "metadata": {},
     "outputs": [
      {
       "metadata": {},
       "output_type": "pyout",
       "prompt_number": 16,
       "text": [
        "matrix([[-0.02495835,  0.24875104,  0.42073549],\n",
        "        [-0.3067097 , -0.28202885, -0.78093703],\n",
        "        [ 0.33166806,  0.03327781,  1.36020154]])"
       ]
      }
     ],
     "prompt_number": 16
    },
    {
     "cell_type": "code",
     "collapsed": false,
     "input": [],
     "language": "python",
     "metadata": {},
     "outputs": []
    }
   ],
   "metadata": {}
  }
 ]
}