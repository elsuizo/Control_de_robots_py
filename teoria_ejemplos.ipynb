{
 "metadata": {
  "name": "teoria_ejemplos"
 },
 "nbformat": 3,
 "nbformat_minor": 0,
 "worksheets": [
  {
   "cells": [
    {
     "cell_type": "code",
     "collapsed": false,
     "input": [
      "from sympy import *\n",
      "\n",
      "from IPython.core.display import Image "
     ],
     "language": "python",
     "metadata": {},
     "outputs": [],
     "prompt_number": 1
    },
    {
     "cell_type": "code",
     "collapsed": false,
     "input": [
      "#Con esto las salidas van a ser en LaTeX\n",
      "init_printing()"
     ],
     "language": "python",
     "metadata": {},
     "outputs": [],
     "prompt_number": 2
    },
    {
     "cell_type": "markdown",
     "metadata": {},
     "source": [
      "##Asignaciones que involucran frames rotados\n",
      "### Convenciones de notaci\u00f3n:\n",
      "* Las variables escritas en may\u00fasculas o en negritas(bold) generalmente representan vectores o matrices\n",
      "* Los super\u00edndices y supraindices a izquierda  identifican en que sistema de coordenadas est\u00e1 escrita esa cantidad, ie: $^{A} P$   es\n",
      "  un vector de posici\u00f3n escrito en el sistema de referencia {A}\n",
      "* La notacion utilizada para relacionar dos sistemas de referencia es: $^{A}_{B}R$, graficamente:"
     ]
    },
    {
     "cell_type": "code",
     "collapsed": false,
     "input": [
      "Image(filename='dibujo3.jpg')"
     ],
     "language": "python",
     "metadata": {},
     "outputs": [
      {
       "jpeg": "[encoded data removed]",
       "output_type": "pyout",
       "prompt_number": 3,
       "text": [
        "<IPython.core.display.Image object at 0xa9a26ec>"
       ]
      }
     ],
     "prompt_number": 3
    },
    {
     "cell_type": "markdown",
     "metadata": {},
     "source": [
      "Por ello utilizando esta notaci\u00f3n el vector $^{A} \\hat{X}_{B}$ \n",
      "\n",
      "es el vector unitario $\\hat{X}_{B}$ expresado en el sistema de referencia {A}"
     ]
    },
    {
     "cell_type": "markdown",
     "metadata": {},
     "source": [
      "### Propiedad 1\n",
      "Ya que $^{A}_{B}R$ es una matriz Q (ortonormal) se cumple que :\n",
      "\n",
      "$$Q^{T} = Q^{-1}$$"
     ]
    },
    {
     "cell_type": "markdown",
     "metadata": {},
     "source": [
      "La posici\u00f3n y orientaci\u00f3n en conjunto se lo denomina frame, que son cuatro vectores que dan la posici\u00f3n y orientaci\u00f3n, por ello podemos \n",
      "pensar a la trama como una matriz de rotaci\u00f3n $^{A}_{B}R$ y un punto $^{A}P$ (que es el vector que ubica a el origen de {B})\n"
     ]
    },
    {
     "cell_type": "markdown",
     "metadata": {},
     "source": [
      "#Ejemplo 2.1\n",
      "Rotacion alrededor de el eje $\\hat{Z}$ en 30\u00ba"
     ]
    },
    {
     "cell_type": "code",
     "collapsed": false,
     "input": [
      "#Defimos una funci\u00f3n de Rotaci\u00f3n simb\u00f3lica\n",
      "def Rot_z(angle):\n",
      "    rad = symbols('rad')\n",
      "    rad = angle*pi/180\n",
      "    M = Matrix([[cos(rad),- sin(rad),0],[ sin(rad), cos(rad), 0],[0,0,1]])\n",
      "    return M"
     ],
     "language": "python",
     "metadata": {},
     "outputs": [],
     "prompt_number": 43
    },
    {
     "cell_type": "code",
     "collapsed": false,
     "input": [
      "R_z_30=Rot_z(30)\n",
      "R_z_30"
     ],
     "language": "python",
     "metadata": {},
     "outputs": [
      {
       "latex": [
        "$$\\left[\\begin{smallmatrix}\\frac{1}{2} \\sqrt{3} & - \\frac{1}{2} & 0\\\\\\frac{1}{2} & \\frac{1}{2} \\sqrt{3} & 0\\\\0 & 0 & 1\\end{smallmatrix}\\right]$$"
       ],
       "output_type": "pyout",
       "prompt_number": 44,
       "text": [
        "\u23a1  ___          \u23a4\n",
        "\u23a2\u2572\u2571 3           \u23a5\n",
        "\u23a2\u2500\u2500\u2500\u2500\u2500  -1/2   0\u23a5\n",
        "\u23a2  2            \u23a5\n",
        "\u23a2               \u23a5\n",
        "\u23a2         ___   \u23a5\n",
        "\u23a2       \u2572\u2571 3    \u23a5\n",
        "\u23a2 1/2   \u2500\u2500\u2500\u2500\u2500  0\u23a5\n",
        "\u23a2         2     \u23a5\n",
        "\u23a2               \u23a5\n",
        "\u23a3  0      0    1\u23a6"
       ]
      }
     ],
     "prompt_number": 44
    },
    {
     "cell_type": "code",
     "collapsed": false,
     "input": [
      "#Numericamente con tres decimales de aproximaci\u00f3n\n",
      "R_z_30.n(3)"
     ],
     "language": "python",
     "metadata": {},
     "outputs": [
      {
       "latex": [
        "$$\\left[\\begin{smallmatrix}0.866 & -0.5 & 0\\\\0.5 & 0.866 & 0\\\\0 & 0 & 1.0\\end{smallmatrix}\\right]$$"
       ],
       "output_type": "pyout",
       "prompt_number": 45,
       "text": [
        "\u23a10.866  -0.5    0 \u23a4\n",
        "\u23a2                 \u23a5\n",
        "\u23a2 0.5   0.866   0 \u23a5\n",
        "\u23a2                 \u23a5\n",
        "\u23a3  0      0    1.0\u23a6"
       ]
      }
     ],
     "prompt_number": 45
    },
    {
     "cell_type": "code",
     "collapsed": false,
     "input": [
      "#Verificamos que se cumple la propiedad \n",
      "R_z_30 * R_z_30.T"
     ],
     "language": "python",
     "metadata": {},
     "outputs": [
      {
       "latex": [
        "$$\\left[\\begin{smallmatrix}1 & 0 & 0\\\\0 & 1 & 0\\\\0 & 0 & 1\\end{smallmatrix}\\right]$$"
       ],
       "output_type": "pyout",
       "prompt_number": 46,
       "text": [
        "\u23a11  0  0\u23a4\n",
        "\u23a2       \u23a5\n",
        "\u23a20  1  0\u23a5\n",
        "\u23a2       \u23a5\n",
        "\u23a30  0  1\u23a6"
       ]
      }
     ],
     "prompt_number": 46
    },
    {
     "cell_type": "markdown",
     "metadata": {},
     "source": [
      "como $$^{B}P =  \\begin{bmatrix}\n",
      "         0 &  \\\\\\\n",
      "         2 & \\\\\\\n",
      "         0 &  \n",
      "\\end{bmatrix}$$\n",
      "Entonces calculamos:\n",
      "$$^{A} P = (^{A}_{B}R) \\times (^{B}P)$$"
     ]
    },
    {
     "cell_type": "code",
     "collapsed": false,
     "input": [
      "P_B = Matrix([[0],[2],[0]])\n",
      "P_B"
     ],
     "language": "python",
     "metadata": {},
     "outputs": [
      {
       "latex": [
        "$$\\left[\\begin{smallmatrix}0\\\\2\\\\0\\end{smallmatrix}\\right]$$"
       ],
       "output_type": "pyout",
       "prompt_number": 47,
       "text": [
        "\u23a10\u23a4\n",
        "\u23a2 \u23a5\n",
        "\u23a22\u23a5\n",
        "\u23a2 \u23a5\n",
        "\u23a30\u23a6"
       ]
      }
     ],
     "prompt_number": 47
    },
    {
     "cell_type": "code",
     "collapsed": false,
     "input": [
      "P_A = R_z_30 * P_B\n",
      "P_A"
     ],
     "language": "python",
     "metadata": {},
     "outputs": [
      {
       "latex": [
        "$$\\left[\\begin{smallmatrix}-1\\\\\\sqrt{3}\\\\0\\end{smallmatrix}\\right]$$"
       ],
       "output_type": "pyout",
       "prompt_number": 48,
       "text": [
        "\u23a1 -1  \u23a4\n",
        "\u23a2     \u23a5\n",
        "\u23a2  ___\u23a5\n",
        "\u23a2\u2572\u2571 3 \u23a5\n",
        "\u23a2     \u23a5\n",
        "\u23a3  0  \u23a6"
       ]
      }
     ],
     "prompt_number": 48
    },
    {
     "cell_type": "markdown",
     "metadata": {},
     "source": [
      "#### Cuando los sistemas de referencia no estan alineados en ninguno de sus ejes, entonces para pasar de un sistema a otro debemos agregar un corrimiento\n",
      "\n",
      "$$^{A} P = (^{A}_{B}R) \\times (^{B}P)+ (^{A} P_B)$$\n"
     ]
    },
    {
     "cell_type": "markdown",
     "metadata": {},
     "source": [
      "Pero es m\u00e1s conveniente expresar la rotaci\u00f3n y traslaci\u00f3n como una transformada sola $$^{A}_{B}T$$ por ello se define:\n",
      "\n",
      "$$^{A}_{B}T =  \\begin{bmatrix}\n",
      "                R  & ^{A}P_B\\\\\\\n",
      "                          0   &   1 \n",
      "                \\end{bmatrix}$$\n"
     ]
    },
    {
     "cell_type": "markdown",
     "metadata": {},
     "source": [
      "# Ejemplo 2.2\n",
      "La trama {B} gira 30\u00ba respecto  de la trama {A} alrededor del eje $\\hat{Z}$, se traslada 10 unidades en $\\hat{X}_{A}$ y 5 unidades en \n",
      "\n",
      "$\\hat{Y}_{A}$ encontrar $^{A}P$, donde \n",
      "\n",
      "$$ ^{B}P =  \\begin{bmatrix}\n",
      "         3.0 &  \\\\\\\n",
      "         7.0 & \\\\\\\n",
      "         0.0 &  \n",
      "\\end{bmatrix}$$"
     ]
    },
    {
     "cell_type": "code",
     "collapsed": false,
     "input": [
      "P_A = Matrix([[10],[5],[0]])\n",
      "T = R_z_30.col_insert(4,P_A)\n",
      "\n",
      "T = T.row_insert(4, Matrix([[0,0,0,1]]))\n",
      "T"
     ],
     "language": "python",
     "metadata": {},
     "outputs": [
      {
       "latex": [
        "$$\\left[\\begin{smallmatrix}\\frac{1}{2} \\sqrt{3} & - \\frac{1}{2} & 0 & 10\\\\\\frac{1}{2} & \\frac{1}{2} \\sqrt{3} & 0 & 5\\\\0 & 0 & 1 & 0\\\\0 & 0 & 0 & 1\\end{smallmatrix}\\right]$$"
       ],
       "output_type": "pyout",
       "prompt_number": 49,
       "text": [
        "\u23a1  ___              \u23a4\n",
        "\u23a2\u2572\u2571 3               \u23a5\n",
        "\u23a2\u2500\u2500\u2500\u2500\u2500  -1/2   0  10\u23a5\n",
        "\u23a2  2                \u23a5\n",
        "\u23a2                   \u23a5\n",
        "\u23a2         ___       \u23a5\n",
        "\u23a2       \u2572\u2571 3        \u23a5\n",
        "\u23a2 1/2   \u2500\u2500\u2500\u2500\u2500  0  5 \u23a5\n",
        "\u23a2         2         \u23a5\n",
        "\u23a2                   \u23a5\n",
        "\u23a2  0      0    1  0 \u23a5\n",
        "\u23a2                   \u23a5\n",
        "\u23a3  0      0    0  1 \u23a6"
       ]
      }
     ],
     "prompt_number": 49
    },
    {
     "cell_type": "code",
     "collapsed": false,
     "input": [
      "P_B = Matrix([[3],[7],[0],[1]])\n",
      "P_B"
     ],
     "language": "python",
     "metadata": {},
     "outputs": [
      {
       "latex": [
        "$$\\left[\\begin{smallmatrix}3\\\\7\\\\0\\\\1\\end{smallmatrix}\\right]$$"
       ],
       "output_type": "pyout",
       "prompt_number": 50,
       "text": [
        "\u23a13\u23a4\n",
        "\u23a2 \u23a5\n",
        "\u23a27\u23a5\n",
        "\u23a2 \u23a5\n",
        "\u23a20\u23a5\n",
        "\u23a2 \u23a5\n",
        "\u23a31\u23a6"
       ]
      }
     ],
     "prompt_number": 50
    },
    {
     "cell_type": "code",
     "collapsed": false,
     "input": [
      "P_A_2 = T * P_B\n",
      "P_A_2"
     ],
     "language": "python",
     "metadata": {},
     "outputs": [
      {
       "latex": [
        "$$\\left[\\begin{smallmatrix}\\frac{3}{2} \\sqrt{3} + \\frac{13}{2}\\\\\\frac{7}{2} \\sqrt{3} + \\frac{13}{2}\\\\0\\\\1\\end{smallmatrix}\\right]$$"
       ],
       "output_type": "pyout",
       "prompt_number": 51,
       "text": [
        "\u23a1    ___     \u23a4\n",
        "\u23a23\u22c5\u2572\u2571 3    13\u23a5\n",
        "\u23a2\u2500\u2500\u2500\u2500\u2500\u2500\u2500 + \u2500\u2500\u23a5\n",
        "\u23a2   2      2 \u23a5\n",
        "\u23a2            \u23a5\n",
        "\u23a2    ___     \u23a5\n",
        "\u23a27\u22c5\u2572\u2571 3    13\u23a5\n",
        "\u23a2\u2500\u2500\u2500\u2500\u2500\u2500\u2500 + \u2500\u2500\u23a5\n",
        "\u23a2   2      2 \u23a5\n",
        "\u23a2            \u23a5\n",
        "\u23a2     0      \u23a5\n",
        "\u23a2            \u23a5\n",
        "\u23a3     1      \u23a6"
       ]
      }
     ],
     "prompt_number": 51
    },
    {
     "cell_type": "code",
     "collapsed": false,
     "input": [
      "#Numericamente\n",
      "P_A_2.n(10)"
     ],
     "language": "python",
     "metadata": {},
     "outputs": [
      {
       "latex": [
        "$$\\left[\\begin{smallmatrix}9.098076211\\\\12.56217783\\\\0\\\\1.0\\end{smallmatrix}\\right]$$"
       ],
       "output_type": "pyout",
       "prompt_number": 52,
       "text": [
        "\u23a19.098076211\u23a4\n",
        "\u23a2           \u23a5\n",
        "\u23a212.56217783\u23a5\n",
        "\u23a2           \u23a5\n",
        "\u23a2     0     \u23a5\n",
        "\u23a2           \u23a5\n",
        "\u23a3    1.0    \u23a6"
       ]
      }
     ],
     "prompt_number": 52
    },
    {
     "cell_type": "markdown",
     "metadata": {},
     "source": [
      "Las mismas transformaciones que utilizamos y describ\u00edan las relaciones de dos tramas pueden interpretarse tambi\u00e9n como operadores que trasladan puntos, giran vectores o ambos\n",
      "\n",
      "## Traslaci\u00f3n\n",
      "\n",
      "Traslaci\u00f3n de $^{A}P_1$ mediante $^{A}Q$:\n",
      "\n",
      "$$^{A}P_2 = (^{A}P_1) + (^{A}Q)$$\n",
      "\n",
      "Podemos escribirla matricialmente como un operador:\n",
      "\n",
      "$$^{A}P_2 = (D_{Q}(q)) \\times (^{A}P_1)$$\n",
      "\n",
      "$$D_Q(q) = \\begin{bmatrix}\n",
      "            1 & 0 & 0 & q_x \\\\\\\\\n",
      "            0 & 1 & 0  & q_y \\\\\\\\\n",
      "            0 & 0 & 1 & q_z \\\\\\\\\n",
      "            0 & 0 & 0 & 1    \n",
      "      \\end{bmatrix}$$\n",
      "\n",
      "##Rotacionales\n",
      "La matriz de rotaci\u00f3n que gira vectores a trav\u00e9s de cierta rotaci\u00f3n $R$, es la misma matriz de rotaci\u00f3n que describe a una trama girada por $R$ en relaci\u00f3n con la trama de referencia. Vamos a indicar sobre que eje se esta girando:\n",
      "\n",
      "$$^{A}P_2 = (R_{K}(\\theta) ) \\times (^{A}P_1)$$\n",
      "\n",
      "En este caso se esta realizando una rotaci\u00f3n de $\\theta$ grados sobre la direcci\u00f3n del eje $\\hat{K}$"
     ]
    },
    {
     "cell_type": "code",
     "collapsed": false,
     "input": [],
     "language": "python",
     "metadata": {},
     "outputs": []
    }
   ],
   "metadata": {}
  }
 ]
}