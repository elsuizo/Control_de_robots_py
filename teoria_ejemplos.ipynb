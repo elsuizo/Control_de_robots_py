{
 "metadata": {
  "name": "teoria_ejemplos"
 },
 "nbformat": 3,
 "nbformat_minor": 0,
 "worksheets": [
  {
   "cells": [
    {
     "cell_type": "code",
     "collapsed": false,
     "input": [
      "from sympy import *\n",
      "\n",
      "from IPython.core.display import Image "
     ],
     "language": "python",
     "metadata": {},
     "outputs": [],
     "prompt_number": 1
    },
    {
     "cell_type": "code",
     "collapsed": false,
     "input": [
      "#Con esto las salidas van a ser en LaTeX\n",
      "init_printing()"
     ],
     "language": "python",
     "metadata": {},
     "outputs": [],
     "prompt_number": 2
    },
    {
     "cell_type": "markdown",
     "metadata": {},
     "source": [
      "##Asignaciones que involucran frames rotados\n",
      "### Convenciones de notaci\u00f3n:\n",
      "* Las variables escritas en may\u00fasculas o en negritas(bold) generalmente representan vectores o matrices\n",
      "* Los super\u00edndices y supraindices a izquierda  identifican en que sistema de coordenadas est\u00e1 escrita esa cantidad, ie: $^{A} P$   es\n",
      "  un vector de posici\u00f3n escrito en el sistema de referencia {A}\n",
      "* La notacion utilizada para relacionar dos sistemas de referencia es: $^{A}_{B}R$, graficamente:"
     ]
    },
    {
     "cell_type": "code",
     "collapsed": false,
     "input": [
      "Image(filename='dibujo3.jpg')"
     ],
     "language": "python",
     "metadata": {},
     "outputs": [
      {
       "jpeg": "[encoded data removed]",
       "output_type": "pyout",
       "prompt_number": 3,
       "text": [
        "<IPython.core.display.Image object at 0xb7b07ac>"
       ]
      }
     ],
     "prompt_number": 3
    },
    {
     "cell_type": "markdown",
     "metadata": {},
     "source": [
      "Por ello utilizando esta notaci\u00f3n el vector $^{A} \\hat{X}_{B}$ \n",
      "\n",
      "es el vector unitario $\\hat{X}_{B}$ expresado en el sistema de referencia {A}"
     ]
    },
    {
     "cell_type": "markdown",
     "metadata": {},
     "source": [
      "### Propiedad 1\n",
      "Ya que $^{A}_{B}R$ es una matriz Q (ortonormal) se cumple que :\n",
      "\n",
      "$$Q^{T} = Q^{-1}$$"
     ]
    },
    {
     "cell_type": "markdown",
     "metadata": {},
     "source": [
      "La posici\u00f3n y orientaci\u00f3n en conjunto se lo denomina frame, que son cuatro vectores que dan la posici\u00f3n y orientaci\u00f3n, por ello podemos \n",
      "pensar a la trama como una matriz de rotaci\u00f3n $^{A}_{B}R$ y un punto $^{A}P$ (que es el vector que ubica a el origen de {B})\n"
     ]
    },
    {
     "cell_type": "markdown",
     "metadata": {},
     "source": [
      "#Ejemplo 2.1\n",
      "Rotacion alrededor de el eje $\\hat{Z}$ en 30\u00ba"
     ]
    },
    {
     "cell_type": "code",
     "collapsed": false,
     "input": [
      "#Defimos una funci\u00f3n de Rotaci\u00f3n simb\u00f3lica\n",
      "def Rot_z(angle):\n",
      "    rad = symbols('rad')\n",
      "    rad = angle*pi/180\n",
      "    M = Matrix([[cos(rad),- sin(rad),0],[ sin(rad), cos(rad), 0],[0,0,1]])\n",
      "    return M"
     ],
     "language": "python",
     "metadata": {},
     "outputs": [],
     "prompt_number": 4
    },
    {
     "cell_type": "code",
     "collapsed": false,
     "input": [
      "R_z_30=Rot_z(30)\n",
      "R_z_30"
     ],
     "language": "python",
     "metadata": {},
     "outputs": [
      {
       "latex": [
        "$$\\left[\\begin{smallmatrix}\\frac{1}{2} \\sqrt{3} & - \\frac{1}{2} & 0\\\\\\frac{1}{2} & \\frac{1}{2} \\sqrt{3} & 0\\\\0 & 0 & 1\\end{smallmatrix}\\right]$$"
       ],
       "output_type": "pyout",
       "prompt_number": 5,
       "text": [
        "\u23a1  ___          \u23a4\n",
        "\u23a2\u2572\u2571 3           \u23a5\n",
        "\u23a2\u2500\u2500\u2500\u2500\u2500  -1/2   0\u23a5\n",
        "\u23a2  2            \u23a5\n",
        "\u23a2               \u23a5\n",
        "\u23a2         ___   \u23a5\n",
        "\u23a2       \u2572\u2571 3    \u23a5\n",
        "\u23a2 1/2   \u2500\u2500\u2500\u2500\u2500  0\u23a5\n",
        "\u23a2         2     \u23a5\n",
        "\u23a2               \u23a5\n",
        "\u23a3  0      0    1\u23a6"
       ]
      }
     ],
     "prompt_number": 5
    },
    {
     "cell_type": "code",
     "collapsed": false,
     "input": [
      "#Numericamente con tres decimales de aproximaci\u00f3n\n",
      "R_z_30.n(3)"
     ],
     "language": "python",
     "metadata": {},
     "outputs": [
      {
       "latex": [
        "$$\\left[\\begin{smallmatrix}0.866 & -0.5 & 0\\\\0.5 & 0.866 & 0\\\\0 & 0 & 1.0\\end{smallmatrix}\\right]$$"
       ],
       "output_type": "pyout",
       "prompt_number": 6,
       "text": [
        "\u23a10.866  -0.5    0 \u23a4\n",
        "\u23a2                 \u23a5\n",
        "\u23a2 0.5   0.866   0 \u23a5\n",
        "\u23a2                 \u23a5\n",
        "\u23a3  0      0    1.0\u23a6"
       ]
      }
     ],
     "prompt_number": 6
    },
    {
     "cell_type": "code",
     "collapsed": false,
     "input": [
      "#Verificamos que se cumple la propiedad \n",
      "R_z_30 * R_z_30.T"
     ],
     "language": "python",
     "metadata": {},
     "outputs": [
      {
       "latex": [
        "$$\\left[\\begin{smallmatrix}1 & 0 & 0\\\\0 & 1 & 0\\\\0 & 0 & 1\\end{smallmatrix}\\right]$$"
       ],
       "output_type": "pyout",
       "prompt_number": 7,
       "text": [
        "\u23a11  0  0\u23a4\n",
        "\u23a2       \u23a5\n",
        "\u23a20  1  0\u23a5\n",
        "\u23a2       \u23a5\n",
        "\u23a30  0  1\u23a6"
       ]
      }
     ],
     "prompt_number": 7
    },
    {
     "cell_type": "markdown",
     "metadata": {},
     "source": [
      "como $$^{B}P =  \\begin{bmatrix}\n",
      "         0 &  \\\\\\\n",
      "         2 & \\\\\\\n",
      "         0 &  \n",
      "\\end{bmatrix}$$\n",
      "Entonces calculamos:\n",
      "$$^{A} P = (^{A}_{B}R) \\times (^{B}P)$$"
     ]
    },
    {
     "cell_type": "code",
     "collapsed": false,
     "input": [
      "P_B = Matrix([[0],[2],[0]])\n",
      "P_B"
     ],
     "language": "python",
     "metadata": {},
     "outputs": [
      {
       "latex": [
        "$$\\left[\\begin{smallmatrix}0\\\\2\\\\0\\end{smallmatrix}\\right]$$"
       ],
       "output_type": "pyout",
       "prompt_number": 8,
       "text": [
        "\u23a10\u23a4\n",
        "\u23a2 \u23a5\n",
        "\u23a22\u23a5\n",
        "\u23a2 \u23a5\n",
        "\u23a30\u23a6"
       ]
      }
     ],
     "prompt_number": 8
    },
    {
     "cell_type": "code",
     "collapsed": false,
     "input": [
      "P_A = R_z_30 * P_B\n",
      "P_A"
     ],
     "language": "python",
     "metadata": {},
     "outputs": [
      {
       "latex": [
        "$$\\left[\\begin{smallmatrix}-1\\\\\\sqrt{3}\\\\0\\end{smallmatrix}\\right]$$"
       ],
       "output_type": "pyout",
       "prompt_number": 9,
       "text": [
        "\u23a1 -1  \u23a4\n",
        "\u23a2     \u23a5\n",
        "\u23a2  ___\u23a5\n",
        "\u23a2\u2572\u2571 3 \u23a5\n",
        "\u23a2     \u23a5\n",
        "\u23a3  0  \u23a6"
       ]
      }
     ],
     "prompt_number": 9
    },
    {
     "cell_type": "markdown",
     "metadata": {},
     "source": [
      "#### Cuando los sistemas de referencia no estan alineados en ninguno de sus ejes, entonces para pasar de un sistema a otro debemos agregar un corrimiento\n",
      "\n",
      "$$^{A} P = (^{A}_{B}R) \\times (^{B}P)+ (^{A} P_B)$$\n"
     ]
    },
    {
     "cell_type": "markdown",
     "metadata": {},
     "source": [
      "Pero es m\u00e1s conveniente expresar la rotaci\u00f3n y traslaci\u00f3n como una transformada sola $$^{A}_{B}T$$ por ello se define:\n",
      "\n",
      "$$^{A}_{B}T =  \\begin{bmatrix}\n",
      "                R  & ^{A}P_B\\\\\\\n",
      "                          0   &   1 \n",
      "                \\end{bmatrix}$$\n"
     ]
    },
    {
     "cell_type": "markdown",
     "metadata": {},
     "source": [
      "# Ejemplo 2.2\n",
      "La trama {B} gira 30\u00ba respecto  de la trama {A} alrededor del eje $\\hat{Z}$, se traslada 10 unidades en $\\hat{X}_{A}$ y 5 unidades en \n",
      "\n",
      "$\\hat{Y}_{A}$ encontrar $^{A}P$, donde \n",
      "\n",
      "$$ ^{B}P =  \\begin{bmatrix}\n",
      "         3.0 &  \\\\\\\n",
      "         7.0 & \\\\\\\n",
      "         0.0 &  \n",
      "\\end{bmatrix}$$"
     ]
    },
    {
     "cell_type": "code",
     "collapsed": false,
     "input": [
      "P_A = Matrix([[10],[5],[0]])\n",
      "T = R_z_30.col_insert(4,P_A)\n",
      "\n",
      "T = T.row_insert(4, Matrix([[0,0,0,1]]))\n",
      "T"
     ],
     "language": "python",
     "metadata": {},
     "outputs": [
      {
       "latex": [
        "$$\\left[\\begin{smallmatrix}\\frac{1}{2} \\sqrt{3} & - \\frac{1}{2} & 0 & 10\\\\\\frac{1}{2} & \\frac{1}{2} \\sqrt{3} & 0 & 5\\\\0 & 0 & 1 & 0\\\\0 & 0 & 0 & 1\\end{smallmatrix}\\right]$$"
       ],
       "output_type": "pyout",
       "prompt_number": 10,
       "text": [
        "\u23a1  ___              \u23a4\n",
        "\u23a2\u2572\u2571 3               \u23a5\n",
        "\u23a2\u2500\u2500\u2500\u2500\u2500  -1/2   0  10\u23a5\n",
        "\u23a2  2                \u23a5\n",
        "\u23a2                   \u23a5\n",
        "\u23a2         ___       \u23a5\n",
        "\u23a2       \u2572\u2571 3        \u23a5\n",
        "\u23a2 1/2   \u2500\u2500\u2500\u2500\u2500  0  5 \u23a5\n",
        "\u23a2         2         \u23a5\n",
        "\u23a2                   \u23a5\n",
        "\u23a2  0      0    1  0 \u23a5\n",
        "\u23a2                   \u23a5\n",
        "\u23a3  0      0    0  1 \u23a6"
       ]
      }
     ],
     "prompt_number": 10
    },
    {
     "cell_type": "code",
     "collapsed": false,
     "input": [
      "P_B = Matrix([[3],[7],[0],[1]])\n",
      "P_B"
     ],
     "language": "python",
     "metadata": {},
     "outputs": [
      {
       "latex": [
        "$$\\left[\\begin{smallmatrix}3\\\\7\\\\0\\\\1\\end{smallmatrix}\\right]$$"
       ],
       "output_type": "pyout",
       "prompt_number": 11,
       "text": [
        "\u23a13\u23a4\n",
        "\u23a2 \u23a5\n",
        "\u23a27\u23a5\n",
        "\u23a2 \u23a5\n",
        "\u23a20\u23a5\n",
        "\u23a2 \u23a5\n",
        "\u23a31\u23a6"
       ]
      }
     ],
     "prompt_number": 11
    },
    {
     "cell_type": "code",
     "collapsed": false,
     "input": [
      "P_A_2 = T * P_B\n",
      "P_A_2"
     ],
     "language": "python",
     "metadata": {},
     "outputs": [
      {
       "latex": [
        "$$\\left[\\begin{smallmatrix}\\frac{3}{2} \\sqrt{3} + \\frac{13}{2}\\\\\\frac{7}{2} \\sqrt{3} + \\frac{13}{2}\\\\0\\\\1\\end{smallmatrix}\\right]$$"
       ],
       "output_type": "pyout",
       "prompt_number": 12,
       "text": [
        "\u23a1    ___     \u23a4\n",
        "\u23a23\u22c5\u2572\u2571 3    13\u23a5\n",
        "\u23a2\u2500\u2500\u2500\u2500\u2500\u2500\u2500 + \u2500\u2500\u23a5\n",
        "\u23a2   2      2 \u23a5\n",
        "\u23a2            \u23a5\n",
        "\u23a2    ___     \u23a5\n",
        "\u23a27\u22c5\u2572\u2571 3    13\u23a5\n",
        "\u23a2\u2500\u2500\u2500\u2500\u2500\u2500\u2500 + \u2500\u2500\u23a5\n",
        "\u23a2   2      2 \u23a5\n",
        "\u23a2            \u23a5\n",
        "\u23a2     0      \u23a5\n",
        "\u23a2            \u23a5\n",
        "\u23a3     1      \u23a6"
       ]
      }
     ],
     "prompt_number": 12
    },
    {
     "cell_type": "code",
     "collapsed": false,
     "input": [
      "#Numericamente\n",
      "P_A_2.n(10)"
     ],
     "language": "python",
     "metadata": {},
     "outputs": [
      {
       "latex": [
        "$$\\left[\\begin{smallmatrix}9.098076211\\\\12.56217783\\\\0\\\\1.0\\end{smallmatrix}\\right]$$"
       ],
       "output_type": "pyout",
       "prompt_number": 13,
       "text": [
        "\u23a19.098076211\u23a4\n",
        "\u23a2           \u23a5\n",
        "\u23a212.56217783\u23a5\n",
        "\u23a2           \u23a5\n",
        "\u23a2     0     \u23a5\n",
        "\u23a2           \u23a5\n",
        "\u23a3    1.0    \u23a6"
       ]
      }
     ],
     "prompt_number": 13
    },
    {
     "cell_type": "markdown",
     "metadata": {},
     "source": [
      "Las mismas transformaciones que utilizamos y describ\u00edan las relaciones de dos tramas pueden interpretarse tambi\u00e9n como operadores que trasladan puntos, giran vectores o ambos\n",
      "\n",
      "## Traslaci\u00f3n\n",
      "\n",
      "Traslaci\u00f3n de $^{A}P_1$ mediante $^{A}Q$:\n",
      "\n",
      "$$^{A}P_2 = (^{A}P_1) + (^{A}Q)$$\n",
      "\n",
      "Podemos escribirla matricialmente como un operador:\n",
      "\n",
      "$$^{A}P_2 = (D_{Q}(q)) \\times (^{A}P_1)$$\n",
      "\n",
      "$$D_Q(q) = \\begin{bmatrix}\n",
      "            1 & 0 & 0 & q_x \\\\\\\\\n",
      "            0 & 1 & 0  & q_y \\\\\\\\\n",
      "            0 & 0 & 1 & q_z \\\\\\\\\n",
      "            0 & 0 & 0 & 1    \n",
      "      \\end{bmatrix}$$\n",
      "\n",
      "##Rotacionales\n",
      "La matriz de rotaci\u00f3n que gira vectores a trav\u00e9s de cierta rotaci\u00f3n $R$, es la misma matriz de rotaci\u00f3n que describe a una trama girada por $R$ en relaci\u00f3n con la trama de referencia. Vamos a indicar sobre que eje se esta girando:\n",
      "\n",
      "$$^{A}P_2 = (R_{K}(\\theta) ) \\times (^{A}P_1)$$\n",
      "\n",
      "En este caso se esta realizando una rotaci\u00f3n de $\\theta$ grados sobre la direcci\u00f3n del eje $\\hat{K}$\n"
     ]
    },
    {
     "cell_type": "markdown",
     "metadata": {},
     "source": [
      "###Propiedad importante de las matrices de Rotaci\u00f3n\n",
      "\n",
      "Las matrices de rotaci\u00f3n pueden llamarse tambi\u00e9n matrices ortonormales propias. La f\u00f3rmula de Cayley para estas matrices es:\n",
      "\n",
      "[Rotation matrix](http://en.wikipedia.org/wiki/Rotation_matrix) teory.\n",
      "\n",
      "$$R = (I_3 - S)^{-1} (I_3 + S)$$\n",
      "\n",
      "$$S(s_x,s_y,s_z) = \\begin{bmatrix}\n",
      "            0 & -s_x & s_y \\\\\\\\\n",
      "            s_x & 0 & -s_z  \\\\\\\\\n",
      "             -s_y& s_z & 0  \n",
      "           \\end{bmatrix}$$\n",
      "Donde vemos que es un subespacio de dimensi\u00f3n 3, por ello solo se necesitan 3 valores para identificar a cada una de ellas\n",
      "\n",
      "Las principales representaciones utilizando tres par\u00e1metros para una trama son:\n",
      "\n",
      "##\u00c1ngulos fijos X-Y-Z\n",
      "\n",
      "Un m\u00e9todo para describir a una trama {B} es el siguiente:\n",
      "\n",
      "Empiece con la trama que sea coincidente con una trama de referencia conocida {A}. Gire {B} primero sobre $\\hat{X}_A$ usando un \u00e1ngulo \n",
      "$\\gamma$, luego sobre $\\hat{Y}_A$ usando un \u00e1ngulo $\\beta$ y finalmente sobre $\\hat{Z}_A$ usando un \u00e1ngulo $\\alpha$\n",
      "\n",
      "\n",
      "\n",
      "Como sabemos estas tres rotaciones se pueden ver como una composici\u00f3n de transformaciones(Rotaciones) cada una sobre un eje. Por ello la f\u00f3rmula final de esta composici\u00f3n queda:\n",
      "\n",
      "\n",
      "$$^{A}_{B}R (\\gamma,\\beta,\\alpha) = R_Z(\\alpha) R_Y(\\beta) R_X(\\gamma)$$\n",
      "\n"
     ]
    },
    {
     "cell_type": "code",
     "collapsed": false,
     "input": [
      "#Funcion simb\u00f3lica para una rotaci\u00f3n sobre el eje X\n",
      "def Rot_X(angle):\n",
      "    rad = angle*pi/180\n",
      "    M = Matrix([[1,0,0],[ 0,cos(rad),-sin(rad)],[0,sin(rad), cos(rad)]])\n",
      "    return M\n",
      "\n",
      "#Funcion simb\u00f3lica para una rotaci\u00f3n sobre el eje Y\n",
      "def Rot_Y(angle):\n",
      "    rad = angle*pi/180\n",
      "    M = Matrix([[cos(rad),0,sin(rad)],[ 0,1,0],[-sin(rad), 0,cos(rad)]])\n",
      "    return M\n",
      "\n",
      "#Funcion simb\u00f3lica para una rotaci\u00f3n sobre el eje Z\n",
      "def Rot_Z(angle):\n",
      "    rad = angle*pi/180\n",
      "    M = Matrix([[cos(rad),- sin(rad),0],[ sin(rad), cos(rad), 0],[0,0,1]])\n",
      "    return M\n",
      "\n",
      "#Funci\u00f3n para la rotaci\u00f3n de \u00e1ngulos fijos XYZ\n",
      "\n",
      "def Rot_XYZ(a,b,c):\n",
      "    \n",
      "    M = Rot_Z(a) * Rot_Y(b) * Rot_Z(c)\n",
      "    \n",
      "    return M"
     ],
     "language": "python",
     "metadata": {},
     "outputs": [],
     "prompt_number": 15
    },
    {
     "cell_type": "code",
     "collapsed": false,
     "input": [
      "alpha, beta , gamma =symbols('alpha beta gamma')"
     ],
     "language": "python",
     "metadata": {},
     "outputs": [],
     "prompt_number": 18
    },
    {
     "cell_type": "code",
     "collapsed": false,
     "input": [
      "T_XYZ = Rot_XYZ(gamma, beta, alpha)\n",
      "T_XYZ"
     ],
     "language": "python",
     "metadata": {},
     "outputs": [
      {
       "latex": [
        "$$\\left[\\begin{smallmatrix}- \\sin{\\left (\\frac{1}{180} \\pi \\alpha \\right )} \\sin{\\left (\\frac{1}{180} \\pi \\gamma \\right )} + \\cos{\\left (\\frac{1}{180} \\pi \\alpha \\right )} \\cos{\\left (\\frac{1}{180} \\pi \\beta \\right )} \\cos{\\left (\\frac{1}{180} \\pi \\gamma \\right )} & - \\sin{\\left (\\frac{1}{180} \\pi \\alpha \\right )} \\cos{\\left (\\frac{1}{180} \\pi \\beta \\right )} \\cos{\\left (\\frac{1}{180} \\pi \\gamma \\right )} - \\sin{\\left (\\frac{1}{180} \\pi \\gamma \\right )} \\cos{\\left (\\frac{1}{180} \\pi \\alpha \\right )} & \\sin{\\left (\\frac{1}{180} \\pi \\beta \\right )} \\cos{\\left (\\frac{1}{180} \\pi \\gamma \\right )}\\\\\\sin{\\left (\\frac{1}{180} \\pi \\alpha \\right )} \\cos{\\left (\\frac{1}{180} \\pi \\gamma \\right )} + \\sin{\\left (\\frac{1}{180} \\pi \\gamma \\right )} \\cos{\\left (\\frac{1}{180} \\pi \\alpha \\right )} \\cos{\\left (\\frac{1}{180} \\pi \\beta \\right )} & - \\sin{\\left (\\frac{1}{180} \\pi \\alpha \\right )} \\sin{\\left (\\frac{1}{180} \\pi \\gamma \\right )} \\cos{\\left (\\frac{1}{180} \\pi \\beta \\right )} + \\cos{\\left (\\frac{1}{180} \\pi \\alpha \\right )} \\cos{\\left (\\frac{1}{180} \\pi \\gamma \\right )} & \\sin{\\left (\\frac{1}{180} \\pi \\beta \\right )} \\sin{\\left (\\frac{1}{180} \\pi \\gamma \\right )}\\\\- \\sin{\\left (\\frac{1}{180} \\pi \\beta \\right )} \\cos{\\left (\\frac{1}{180} \\pi \\alpha \\right )} & \\sin{\\left (\\frac{1}{180} \\pi \\alpha \\right )} \\sin{\\left (\\frac{1}{180} \\pi \\beta \\right )} & \\cos{\\left (\\frac{1}{180} \\pi \\beta \\right )}\\end{smallmatrix}\\right]$$"
       ],
       "output_type": "pyout",
       "prompt_number": 20,
       "text": [
        "\u23a1     \u239b\u03c0\u22c5\u03b1\u239e    \u239b\u03c0\u22c5\u03b3\u239e      \u239b\u03c0\u22c5\u03b1\u239e    \u239b\u03c0\u22c5\u03b2\u239e    \u239b\u03c0\u22c5\u03b3\u239e       \u239b\u03c0\u22c5\u03b1\u239e    \u239b\u03c0\u22c5\u03b2\u239e    \u239b\u03c0\u22c5\u03b3\n",
        "\u23a2- sin\u239c\u2500\u2500\u2500\u239f\u22c5sin\u239c\u2500\u2500\u2500\u239f + cos\u239c\u2500\u2500\u2500\u239f\u22c5cos\u239c\u2500\u2500\u2500\u239f\u22c5cos\u239c\u2500\u2500\u2500\u239f  - sin\u239c\u2500\u2500\u2500\u239f\u22c5cos\u239c\u2500\u2500\u2500\u239f\u22c5cos\u239c\u2500\u2500\u2500\n",
        "\u23a2     \u239d180\u23a0    \u239d180\u23a0      \u239d180\u23a0    \u239d180\u23a0    \u239d180\u23a0       \u239d180\u23a0    \u239d180\u23a0    \u239d180\n",
        "\u23a2                                                                             \n",
        "\u23a2    \u239b\u03c0\u22c5\u03b1\u239e    \u239b\u03c0\u22c5\u03b3\u239e      \u239b\u03c0\u22c5\u03b3\u239e    \u239b\u03c0\u22c5\u03b1\u239e    \u239b\u03c0\u22c5\u03b2\u239e        \u239b\u03c0\u22c5\u03b1\u239e    \u239b\u03c0\u22c5\u03b3\u239e    \u239b\u03c0\u22c5\u03b2\n",
        "\u23a2 sin\u239c\u2500\u2500\u2500\u239f\u22c5cos\u239c\u2500\u2500\u2500\u239f + sin\u239c\u2500\u2500\u2500\u239f\u22c5cos\u239c\u2500\u2500\u2500\u239f\u22c5cos\u239c\u2500\u2500\u2500\u239f   - sin\u239c\u2500\u2500\u2500\u239f\u22c5sin\u239c\u2500\u2500\u2500\u239f\u22c5cos\u239c\u2500\u2500\u2500\n",
        "\u23a2    \u239d180\u23a0    \u239d180\u23a0      \u239d180\u23a0    \u239d180\u23a0    \u239d180\u23a0        \u239d180\u23a0    \u239d180\u23a0    \u239d180\n",
        "\u23a2                                                                             \n",
        "\u23a2                   \u239b\u03c0\u22c5\u03b2\u239e    \u239b\u03c0\u22c5\u03b1\u239e                                   \u239b\u03c0\u22c5\u03b1\u239e    \n",
        "\u23a2               -sin\u239c\u2500\u2500\u2500\u239f\u22c5cos\u239c\u2500\u2500\u2500\u239f                                sin\u239c\u2500\u2500\u2500\u239f\u22c5sin\n",
        "\u23a3                   \u239d180\u23a0    \u239d180\u23a0                                   \u239d180\u23a0    \n",
        "\n",
        "\u239e      \u239b\u03c0\u22c5\u03b3\u239e    \u239b\u03c0\u22c5\u03b1\u239e     \u239b\u03c0\u22c5\u03b2\u239e    \u239b\u03c0\u22c5\u03b3\u239e\u23a4\n",
        "\u239f - sin\u239c\u2500\u2500\u2500\u239f\u22c5cos\u239c\u2500\u2500\u2500\u239f  sin\u239c\u2500\u2500\u2500\u239f\u22c5cos\u239c\u2500\u2500\u2500\u239f\u23a5\n",
        "\u23a0      \u239d180\u23a0    \u239d180\u23a0     \u239d180\u23a0    \u239d180\u23a0\u23a5\n",
        "                                        \u23a5\n",
        "\u239e      \u239b\u03c0\u22c5\u03b1\u239e    \u239b\u03c0\u22c5\u03b3\u239e     \u239b\u03c0\u22c5\u03b2\u239e    \u239b\u03c0\u22c5\u03b3\u239e\u23a5\n",
        "\u239f + cos\u239c\u2500\u2500\u2500\u239f\u22c5cos\u239c\u2500\u2500\u2500\u239f  sin\u239c\u2500\u2500\u2500\u239f\u22c5sin\u239c\u2500\u2500\u2500\u239f\u23a5\n",
        "\u23a0      \u239d180\u23a0    \u239d180\u23a0     \u239d180\u23a0    \u239d180\u23a0\u23a5\n",
        "                                        \u23a5\n",
        "\u239b\u03c0\u22c5\u03b2\u239e                         \u239b\u03c0\u22c5\u03b2\u239e     \u23a5\n",
        "\u239c\u2500\u2500\u2500\u239f                      cos\u239c\u2500\u2500\u2500\u239f     \u23a5\n",
        "\u239d180\u23a0                         \u239d180\u23a0     \u23a6"
       ]
      }
     ],
     "prompt_number": 20
    },
    {
     "cell_type": "code",
     "collapsed": false,
     "input": [
      "M1 = Rot_XYZ(30,30,30)"
     ],
     "language": "python",
     "metadata": {},
     "outputs": [],
     "prompt_number": 25
    },
    {
     "cell_type": "code",
     "collapsed": false,
     "input": [
      "M1[0,0]"
     ],
     "language": "python",
     "metadata": {},
     "outputs": [
      {
       "latex": [
        "$$- \\frac{1}{4} + \\frac{3}{8} \\sqrt{3}$$"
       ],
       "output_type": "pyout",
       "png": "[encoded data removed]",
       "prompt_number": 26,
       "text": [
        "          ___\n",
        "  1   3\u22c5\u2572\u2571 3 \n",
        "- \u2500 + \u2500\u2500\u2500\u2500\u2500\u2500\u2500\n",
        "  4      8   "
       ]
      }
     ],
     "prompt_number": 26
    },
    {
     "cell_type": "code",
     "collapsed": false,
     "input": [
      "T_XYZ[2,2]"
     ],
     "language": "python",
     "metadata": {},
     "outputs": [
      {
       "latex": [
        "$$\\cos{\\left (\\frac{1}{180} \\pi \\beta \\right )}$$"
       ],
       "output_type": "pyout",
       "png": "[encoded data removed]",
       "prompt_number": 28,
       "text": [
        "   \u239b\u03c0\u22c5\u03b2\u239e\n",
        "cos\u239c\u2500\u2500\u2500\u239f\n",
        "   \u239d180\u23a0"
       ]
      }
     ],
     "prompt_number": 28
    },
    {
     "cell_type": "code",
     "collapsed": false,
     "input": [
      "#Resolvemos para una matriz de rotaci\u00f3n conocida el valor del \u00e1ngulo\n",
      "solve(T_XYZ[2,2]-M1[2,2],beta)"
     ],
     "language": "python",
     "metadata": {},
     "outputs": [
      {
       "latex": [
        "$$\\begin{bmatrix}30\\end{bmatrix}$$"
       ],
       "output_type": "pyout",
       "prompt_number": 29,
       "text": [
        "[30]"
       ]
      }
     ],
     "prompt_number": 29
    },
    {
     "cell_type": "code",
     "collapsed": false,
     "input": [],
     "language": "python",
     "metadata": {},
     "outputs": [],
     "prompt_number": 29
    }
   ],
   "metadata": {}
  }
 ]
}